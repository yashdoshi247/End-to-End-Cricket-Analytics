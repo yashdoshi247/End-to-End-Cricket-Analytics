{
 "cells": [
  {
   "cell_type": "code",
   "execution_count": 99,
   "outputs": [],
   "source": [
    "import pandas as pd\n",
    "import re"
   ],
   "metadata": {
    "collapsed": false,
    "pycharm": {
     "name": "#%%\n"
    }
   }
  },
  {
   "cell_type": "markdown",
   "source": [
    "## Loading the data"
   ],
   "metadata": {
    "collapsed": false,
    "pycharm": {
     "name": "#%% md\n"
    }
   }
  },
  {
   "cell_type": "code",
   "execution_count": 100,
   "outputs": [],
   "source": [
    "batting_df = pd.read_csv(\"D:/DataspellProjects/Data Science/Projects/Cricket Analytics/scraped-csv/batting_info.csv\")\n",
    "bowling_df = pd.read_csv(\"D:/DataspellProjects/Data Science/Projects/Cricket Analytics/scraped-csv/bowling_info.csv\")\n",
    "player_info_df = pd.read_csv(\"D:/DataspellProjects/Data Science/Projects/Cricket Analytics/scraped-csv/player_info.csv\")\n",
    "results_df = pd.read_csv(\"D:/DataspellProjects/Data Science/Projects/Cricket Analytics/scraped-csv/match_results.csv\")"
   ],
   "metadata": {
    "collapsed": false,
    "pycharm": {
     "name": "#%%\n"
    }
   }
  },
  {
   "cell_type": "markdown",
   "source": [
    "## Match Results df"
   ],
   "metadata": {
    "collapsed": false,
    "pycharm": {
     "name": "#%% md\n"
    }
   }
  },
  {
   "cell_type": "code",
   "execution_count": 101,
   "outputs": [
    {
     "data": {
      "text/plain": "        Team 1       Team 2       Winner     Margin   Ground    Match Date  \\\n0      Namibia    Sri Lanka      Namibia    55 runs  Geelong  Oct 16, 2022   \n1  Netherlands       U.A.E.  Netherlands  3 wickets  Geelong  Oct 16, 2022   \n2     Scotland  West Indies     Scotland    42 runs   Hobart  Oct 17, 2022   \n3      Ireland     Zimbabwe     Zimbabwe    31 runs   Hobart  Oct 17, 2022   \n4      Namibia  Netherlands  Netherlands  5 wickets  Geelong  Oct 18, 2022   \n\n     Scorecard                     Match link  \n0  T20I # 1823  /ci/engine/match/1298135.html  \n1  T20I # 1825  /ci/engine/match/1298136.html  \n2  T20I # 1826  /ci/engine/match/1298137.html  \n3  T20I # 1828  /ci/engine/match/1298138.html  \n4  T20I # 1830  /ci/engine/match/1298139.html  ",
      "text/html": "<div>\n<style scoped>\n    .dataframe tbody tr th:only-of-type {\n        vertical-align: middle;\n    }\n\n    .dataframe tbody tr th {\n        vertical-align: top;\n    }\n\n    .dataframe thead th {\n        text-align: right;\n    }\n</style>\n<table border=\"1\" class=\"dataframe\">\n  <thead>\n    <tr style=\"text-align: right;\">\n      <th></th>\n      <th>Team 1</th>\n      <th>Team 2</th>\n      <th>Winner</th>\n      <th>Margin</th>\n      <th>Ground</th>\n      <th>Match Date</th>\n      <th>Scorecard</th>\n      <th>Match link</th>\n    </tr>\n  </thead>\n  <tbody>\n    <tr>\n      <th>0</th>\n      <td>Namibia</td>\n      <td>Sri Lanka</td>\n      <td>Namibia</td>\n      <td>55 runs</td>\n      <td>Geelong</td>\n      <td>Oct 16, 2022</td>\n      <td>T20I # 1823</td>\n      <td>/ci/engine/match/1298135.html</td>\n    </tr>\n    <tr>\n      <th>1</th>\n      <td>Netherlands</td>\n      <td>U.A.E.</td>\n      <td>Netherlands</td>\n      <td>3 wickets</td>\n      <td>Geelong</td>\n      <td>Oct 16, 2022</td>\n      <td>T20I # 1825</td>\n      <td>/ci/engine/match/1298136.html</td>\n    </tr>\n    <tr>\n      <th>2</th>\n      <td>Scotland</td>\n      <td>West Indies</td>\n      <td>Scotland</td>\n      <td>42 runs</td>\n      <td>Hobart</td>\n      <td>Oct 17, 2022</td>\n      <td>T20I # 1826</td>\n      <td>/ci/engine/match/1298137.html</td>\n    </tr>\n    <tr>\n      <th>3</th>\n      <td>Ireland</td>\n      <td>Zimbabwe</td>\n      <td>Zimbabwe</td>\n      <td>31 runs</td>\n      <td>Hobart</td>\n      <td>Oct 17, 2022</td>\n      <td>T20I # 1828</td>\n      <td>/ci/engine/match/1298138.html</td>\n    </tr>\n    <tr>\n      <th>4</th>\n      <td>Namibia</td>\n      <td>Netherlands</td>\n      <td>Netherlands</td>\n      <td>5 wickets</td>\n      <td>Geelong</td>\n      <td>Oct 18, 2022</td>\n      <td>T20I # 1830</td>\n      <td>/ci/engine/match/1298139.html</td>\n    </tr>\n  </tbody>\n</table>\n</div>"
     },
     "execution_count": 101,
     "metadata": {},
     "output_type": "execute_result"
    }
   ],
   "source": [
    "results_df.head()"
   ],
   "metadata": {
    "collapsed": false,
    "pycharm": {
     "name": "#%%\n"
    }
   }
  },
  {
   "cell_type": "code",
   "execution_count": 102,
   "outputs": [
    {
     "data": {
      "text/plain": "        Team 1       Team 2       Winner     Margin   Ground    Match Date  \\\n0      Namibia    Sri Lanka      Namibia    55 runs  Geelong  Oct 16, 2022   \n1  Netherlands       U.A.E.  Netherlands  3 wickets  Geelong  Oct 16, 2022   \n2     Scotland  West Indies     Scotland    42 runs   Hobart  Oct 17, 2022   \n3      Ireland     Zimbabwe     Zimbabwe    31 runs   Hobart  Oct 17, 2022   \n4      Namibia  Netherlands  Netherlands  5 wickets  Geelong  Oct 18, 2022   \n\n      Match_id                     Match link  \n0  T20I # 1823  /ci/engine/match/1298135.html  \n1  T20I # 1825  /ci/engine/match/1298136.html  \n2  T20I # 1826  /ci/engine/match/1298137.html  \n3  T20I # 1828  /ci/engine/match/1298138.html  \n4  T20I # 1830  /ci/engine/match/1298139.html  ",
      "text/html": "<div>\n<style scoped>\n    .dataframe tbody tr th:only-of-type {\n        vertical-align: middle;\n    }\n\n    .dataframe tbody tr th {\n        vertical-align: top;\n    }\n\n    .dataframe thead th {\n        text-align: right;\n    }\n</style>\n<table border=\"1\" class=\"dataframe\">\n  <thead>\n    <tr style=\"text-align: right;\">\n      <th></th>\n      <th>Team 1</th>\n      <th>Team 2</th>\n      <th>Winner</th>\n      <th>Margin</th>\n      <th>Ground</th>\n      <th>Match Date</th>\n      <th>Match_id</th>\n      <th>Match link</th>\n    </tr>\n  </thead>\n  <tbody>\n    <tr>\n      <th>0</th>\n      <td>Namibia</td>\n      <td>Sri Lanka</td>\n      <td>Namibia</td>\n      <td>55 runs</td>\n      <td>Geelong</td>\n      <td>Oct 16, 2022</td>\n      <td>T20I # 1823</td>\n      <td>/ci/engine/match/1298135.html</td>\n    </tr>\n    <tr>\n      <th>1</th>\n      <td>Netherlands</td>\n      <td>U.A.E.</td>\n      <td>Netherlands</td>\n      <td>3 wickets</td>\n      <td>Geelong</td>\n      <td>Oct 16, 2022</td>\n      <td>T20I # 1825</td>\n      <td>/ci/engine/match/1298136.html</td>\n    </tr>\n    <tr>\n      <th>2</th>\n      <td>Scotland</td>\n      <td>West Indies</td>\n      <td>Scotland</td>\n      <td>42 runs</td>\n      <td>Hobart</td>\n      <td>Oct 17, 2022</td>\n      <td>T20I # 1826</td>\n      <td>/ci/engine/match/1298137.html</td>\n    </tr>\n    <tr>\n      <th>3</th>\n      <td>Ireland</td>\n      <td>Zimbabwe</td>\n      <td>Zimbabwe</td>\n      <td>31 runs</td>\n      <td>Hobart</td>\n      <td>Oct 17, 2022</td>\n      <td>T20I # 1828</td>\n      <td>/ci/engine/match/1298138.html</td>\n    </tr>\n    <tr>\n      <th>4</th>\n      <td>Namibia</td>\n      <td>Netherlands</td>\n      <td>Netherlands</td>\n      <td>5 wickets</td>\n      <td>Geelong</td>\n      <td>Oct 18, 2022</td>\n      <td>T20I # 1830</td>\n      <td>/ci/engine/match/1298139.html</td>\n    </tr>\n  </tbody>\n</table>\n</div>"
     },
     "execution_count": 102,
     "metadata": {},
     "output_type": "execute_result"
    }
   ],
   "source": [
    "#Renaming scorecard column to Match_id\n",
    "results_df.rename(columns={'Scorecard':'Match_id'},inplace=True)\n",
    "results_df.head()"
   ],
   "metadata": {
    "collapsed": false,
    "pycharm": {
     "name": "#%%\n"
    }
   }
  },
  {
   "cell_type": "markdown",
   "source": [
    "## Batting df"
   ],
   "metadata": {
    "collapsed": false,
    "pycharm": {
     "name": "#%% md\n"
    }
   }
  },
  {
   "cell_type": "code",
   "execution_count": 103,
   "outputs": [
    {
     "data": {
      "text/plain": "                  Match     Match_id Team Innings  Batting Position  \\\n0  Namibia Vs Sri Lanka  T20I # 1823      Namibia                 1   \n1  Namibia Vs Sri Lanka  T20I # 1823      Namibia                 2   \n2  Namibia Vs Sri Lanka  T20I # 1823      Namibia                 3   \n3  Namibia Vs Sri Lanka  T20I # 1823      Namibia                 4   \n4  Namibia Vs Sri Lanka  T20I # 1823      Namibia                 5   \n\n              Batsman Name                        Dismissal  Runs  Balls  \\\n0      Michael van Lingen      c Pramod Madushan b Chameera     3      6   \n1           Divan la Cock       c Shanaka b Pramod Madushan     9      9   \n2  Jan Nicol Loftie-Eaton           c †Mendis b Karunaratne    20     12   \n3           Stephan Baard   c DM de Silva b Pramod Madushan    26     24   \n4      Gerhard Erasmus (c)     c Gunathilaka b PWH de Silva    20     24   \n\n   Fours  Sixes      SR  \n0      0      0   50.00  \n1      1      0  100.00  \n2      1      2  166.66  \n3      2      0  108.33  \n4      0      0   83.33  ",
      "text/html": "<div>\n<style scoped>\n    .dataframe tbody tr th:only-of-type {\n        vertical-align: middle;\n    }\n\n    .dataframe tbody tr th {\n        vertical-align: top;\n    }\n\n    .dataframe thead th {\n        text-align: right;\n    }\n</style>\n<table border=\"1\" class=\"dataframe\">\n  <thead>\n    <tr style=\"text-align: right;\">\n      <th></th>\n      <th>Match</th>\n      <th>Match_id</th>\n      <th>Team Innings</th>\n      <th>Batting Position</th>\n      <th>Batsman Name</th>\n      <th>Dismissal</th>\n      <th>Runs</th>\n      <th>Balls</th>\n      <th>Fours</th>\n      <th>Sixes</th>\n      <th>SR</th>\n    </tr>\n  </thead>\n  <tbody>\n    <tr>\n      <th>0</th>\n      <td>Namibia Vs Sri Lanka</td>\n      <td>T20I # 1823</td>\n      <td>Namibia</td>\n      <td>1</td>\n      <td>Michael van Lingen</td>\n      <td>c Pramod Madushan b Chameera</td>\n      <td>3</td>\n      <td>6</td>\n      <td>0</td>\n      <td>0</td>\n      <td>50.00</td>\n    </tr>\n    <tr>\n      <th>1</th>\n      <td>Namibia Vs Sri Lanka</td>\n      <td>T20I # 1823</td>\n      <td>Namibia</td>\n      <td>2</td>\n      <td>Divan la Cock</td>\n      <td>c Shanaka b Pramod Madushan</td>\n      <td>9</td>\n      <td>9</td>\n      <td>1</td>\n      <td>0</td>\n      <td>100.00</td>\n    </tr>\n    <tr>\n      <th>2</th>\n      <td>Namibia Vs Sri Lanka</td>\n      <td>T20I # 1823</td>\n      <td>Namibia</td>\n      <td>3</td>\n      <td>Jan Nicol Loftie-Eaton</td>\n      <td>c †Mendis b Karunaratne</td>\n      <td>20</td>\n      <td>12</td>\n      <td>1</td>\n      <td>2</td>\n      <td>166.66</td>\n    </tr>\n    <tr>\n      <th>3</th>\n      <td>Namibia Vs Sri Lanka</td>\n      <td>T20I # 1823</td>\n      <td>Namibia</td>\n      <td>4</td>\n      <td>Stephan Baard</td>\n      <td>c DM de Silva b Pramod Madushan</td>\n      <td>26</td>\n      <td>24</td>\n      <td>2</td>\n      <td>0</td>\n      <td>108.33</td>\n    </tr>\n    <tr>\n      <th>4</th>\n      <td>Namibia Vs Sri Lanka</td>\n      <td>T20I # 1823</td>\n      <td>Namibia</td>\n      <td>5</td>\n      <td>Gerhard Erasmus (c)</td>\n      <td>c Gunathilaka b PWH de Silva</td>\n      <td>20</td>\n      <td>24</td>\n      <td>0</td>\n      <td>0</td>\n      <td>83.33</td>\n    </tr>\n  </tbody>\n</table>\n</div>"
     },
     "execution_count": 103,
     "metadata": {},
     "output_type": "execute_result"
    }
   ],
   "source": [
    "batting_df.head()"
   ],
   "metadata": {
    "collapsed": false,
    "pycharm": {
     "name": "#%%\n"
    }
   }
  },
  {
   "cell_type": "code",
   "execution_count": 104,
   "outputs": [
    {
     "name": "stderr",
     "output_type": "stream",
     "text": [
      "C:\\Users\\yashd\\AppData\\Roaming\\Python\\Python39\\site-packages\\pandas\\core\\indexing.py:1637: SettingWithCopyWarning: \n",
      "A value is trying to be set on a copy of a slice from a DataFrame\n",
      "\n",
      "See the caveats in the documentation: https://pandas.pydata.org/pandas-docs/stable/user_guide/indexing.html#returning-a-view-versus-a-copy\n",
      "  self._setitem_single_block(indexer, value, name)\n"
     ]
    },
    {
     "data": {
      "text/plain": "                    Match     Match_id Team Innings  Batting Position  \\\n0    Namibia Vs Sri Lanka  T20I # 1823      Namibia                 1   \n1    Namibia Vs Sri Lanka  T20I # 1823      Namibia                 2   \n2    Namibia Vs Sri Lanka  T20I # 1823      Namibia                 3   \n3    Namibia Vs Sri Lanka  T20I # 1823      Namibia                 4   \n4    Namibia Vs Sri Lanka  T20I # 1823      Namibia                 5   \n..                    ...          ...          ...               ...   \n694   Pakistan Vs England  T20I # 1879      England                 3   \n695   Pakistan Vs England  T20I # 1879      England                 4   \n696   Pakistan Vs England  T20I # 1879      England                 5   \n697   Pakistan Vs England  T20I # 1879      England                 6   \n698   Pakistan Vs England  T20I # 1879      England                 7   \n\n               Batsman Name                            Dismissal  Runs  Balls  \\\n0        Michael van Lingen         c Pramod Madushan b Chameera     3      6   \n1             Divan la Cock          c Shanaka b Pramod Madushan     9      9   \n2    Jan Nicol Loftie-Eaton              c †Mendis b Karunaratne    20     12   \n3             Stephan Baard      c DM de Silva b Pramod Madushan    26     24   \n4           Gerhard Erasmus         c Gunathilaka b PWH de Silva    20     24   \n..                      ...                                  ...   ...    ...   \n694               Phil Salt        c Iftikhar Ahmed b Haris Rauf    10      9   \n695              Ben Stokes                              not out    52     49   \n696             Harry Brook  c Shaheen Shah Afridi b Shadab Khan    20     23   \n697               Moeen Ali                     b Mohammad Wasim    19     13   \n698        Liam Livingstone                              not out     1      1   \n\n     Fours  Sixes      SR  \n0        0      0   50.00  \n1        1      0  100.00  \n2        1      2  166.66  \n3        2      0  108.33  \n4        0      0   83.33  \n..     ...    ...     ...  \n694      2      0  111.11  \n695      5      1  106.12  \n696      1      0   86.95  \n697      3      0  146.15  \n698      0      0  100.00  \n\n[699 rows x 11 columns]",
      "text/html": "<div>\n<style scoped>\n    .dataframe tbody tr th:only-of-type {\n        vertical-align: middle;\n    }\n\n    .dataframe tbody tr th {\n        vertical-align: top;\n    }\n\n    .dataframe thead th {\n        text-align: right;\n    }\n</style>\n<table border=\"1\" class=\"dataframe\">\n  <thead>\n    <tr style=\"text-align: right;\">\n      <th></th>\n      <th>Match</th>\n      <th>Match_id</th>\n      <th>Team Innings</th>\n      <th>Batting Position</th>\n      <th>Batsman Name</th>\n      <th>Dismissal</th>\n      <th>Runs</th>\n      <th>Balls</th>\n      <th>Fours</th>\n      <th>Sixes</th>\n      <th>SR</th>\n    </tr>\n  </thead>\n  <tbody>\n    <tr>\n      <th>0</th>\n      <td>Namibia Vs Sri Lanka</td>\n      <td>T20I # 1823</td>\n      <td>Namibia</td>\n      <td>1</td>\n      <td>Michael van Lingen</td>\n      <td>c Pramod Madushan b Chameera</td>\n      <td>3</td>\n      <td>6</td>\n      <td>0</td>\n      <td>0</td>\n      <td>50.00</td>\n    </tr>\n    <tr>\n      <th>1</th>\n      <td>Namibia Vs Sri Lanka</td>\n      <td>T20I # 1823</td>\n      <td>Namibia</td>\n      <td>2</td>\n      <td>Divan la Cock</td>\n      <td>c Shanaka b Pramod Madushan</td>\n      <td>9</td>\n      <td>9</td>\n      <td>1</td>\n      <td>0</td>\n      <td>100.00</td>\n    </tr>\n    <tr>\n      <th>2</th>\n      <td>Namibia Vs Sri Lanka</td>\n      <td>T20I # 1823</td>\n      <td>Namibia</td>\n      <td>3</td>\n      <td>Jan Nicol Loftie-Eaton</td>\n      <td>c †Mendis b Karunaratne</td>\n      <td>20</td>\n      <td>12</td>\n      <td>1</td>\n      <td>2</td>\n      <td>166.66</td>\n    </tr>\n    <tr>\n      <th>3</th>\n      <td>Namibia Vs Sri Lanka</td>\n      <td>T20I # 1823</td>\n      <td>Namibia</td>\n      <td>4</td>\n      <td>Stephan Baard</td>\n      <td>c DM de Silva b Pramod Madushan</td>\n      <td>26</td>\n      <td>24</td>\n      <td>2</td>\n      <td>0</td>\n      <td>108.33</td>\n    </tr>\n    <tr>\n      <th>4</th>\n      <td>Namibia Vs Sri Lanka</td>\n      <td>T20I # 1823</td>\n      <td>Namibia</td>\n      <td>5</td>\n      <td>Gerhard Erasmus</td>\n      <td>c Gunathilaka b PWH de Silva</td>\n      <td>20</td>\n      <td>24</td>\n      <td>0</td>\n      <td>0</td>\n      <td>83.33</td>\n    </tr>\n    <tr>\n      <th>...</th>\n      <td>...</td>\n      <td>...</td>\n      <td>...</td>\n      <td>...</td>\n      <td>...</td>\n      <td>...</td>\n      <td>...</td>\n      <td>...</td>\n      <td>...</td>\n      <td>...</td>\n      <td>...</td>\n    </tr>\n    <tr>\n      <th>694</th>\n      <td>Pakistan Vs England</td>\n      <td>T20I # 1879</td>\n      <td>England</td>\n      <td>3</td>\n      <td>Phil Salt</td>\n      <td>c Iftikhar Ahmed b Haris Rauf</td>\n      <td>10</td>\n      <td>9</td>\n      <td>2</td>\n      <td>0</td>\n      <td>111.11</td>\n    </tr>\n    <tr>\n      <th>695</th>\n      <td>Pakistan Vs England</td>\n      <td>T20I # 1879</td>\n      <td>England</td>\n      <td>4</td>\n      <td>Ben Stokes</td>\n      <td>not out</td>\n      <td>52</td>\n      <td>49</td>\n      <td>5</td>\n      <td>1</td>\n      <td>106.12</td>\n    </tr>\n    <tr>\n      <th>696</th>\n      <td>Pakistan Vs England</td>\n      <td>T20I # 1879</td>\n      <td>England</td>\n      <td>5</td>\n      <td>Harry Brook</td>\n      <td>c Shaheen Shah Afridi b Shadab Khan</td>\n      <td>20</td>\n      <td>23</td>\n      <td>1</td>\n      <td>0</td>\n      <td>86.95</td>\n    </tr>\n    <tr>\n      <th>697</th>\n      <td>Pakistan Vs England</td>\n      <td>T20I # 1879</td>\n      <td>England</td>\n      <td>6</td>\n      <td>Moeen Ali</td>\n      <td>b Mohammad Wasim</td>\n      <td>19</td>\n      <td>13</td>\n      <td>3</td>\n      <td>0</td>\n      <td>146.15</td>\n    </tr>\n    <tr>\n      <th>698</th>\n      <td>Pakistan Vs England</td>\n      <td>T20I # 1879</td>\n      <td>England</td>\n      <td>7</td>\n      <td>Liam Livingstone</td>\n      <td>not out</td>\n      <td>1</td>\n      <td>1</td>\n      <td>0</td>\n      <td>0</td>\n      <td>100.00</td>\n    </tr>\n  </tbody>\n</table>\n<p>699 rows × 11 columns</p>\n</div>"
     },
     "execution_count": 104,
     "metadata": {},
     "output_type": "execute_result"
    }
   ],
   "source": [
    "#Cleaning the Batsman Name column\n",
    "batting_df_name_cleaned = batting_df.copy()\n",
    "batting_df_name_cleaned['Batsman Name'] = batting_df_name_cleaned['Batsman Name'].apply(lambda x: re.sub(\"[^A-Z()\\s-]\", \"\", x,0,re.IGNORECASE)) #Removing special characters\n",
    "\n",
    "#Removing (c) from the names\n",
    "for index,name in enumerate(batting_df_name_cleaned['Batsman Name']):\n",
    "    cleaned_name = name\n",
    "    if re.search('[A-Za-z\\-\\s]+ \\(c\\)',name):\n",
    "        cleaned_name = ' '.join(re.findall(\"([A-Za-z\\-\\s]+) \\(c\\)\",name,re.IGNORECASE))\n",
    "    cleaned_name=cleaned_name.strip()\n",
    "    batting_df_name_cleaned['Batsman Name'].loc[index]=cleaned_name\n",
    "\n",
    "batting_df_name_cleaned"
   ],
   "metadata": {
    "collapsed": false,
    "pycharm": {
     "name": "#%%\n"
    }
   }
  },
  {
   "cell_type": "code",
   "execution_count": 105,
   "outputs": [
    {
     "data": {
      "text/plain": "                  Match     Match_id Team Innings  Batting Position  \\\n0  Namibia Vs Sri Lanka  T20I # 1823      Namibia                 1   \n1  Namibia Vs Sri Lanka  T20I # 1823      Namibia                 2   \n2  Namibia Vs Sri Lanka  T20I # 1823      Namibia                 3   \n3  Namibia Vs Sri Lanka  T20I # 1823      Namibia                 4   \n4  Namibia Vs Sri Lanka  T20I # 1823      Namibia                 5   \n5  Namibia Vs Sri Lanka  T20I # 1823      Namibia                 6   \n6  Namibia Vs Sri Lanka  T20I # 1823      Namibia                 7   \n7  Namibia Vs Sri Lanka  T20I # 1823      Namibia                 8   \n8  Sri Lanka Vs Namibia  T20I # 1823    Sri Lanka                 1   \n9  Sri Lanka Vs Namibia  T20I # 1823    Sri Lanka                 2   \n\n             Batsman Name                        Dismissal  Runs  Balls  \\\n0      Michael van Lingen     c Pramod Madushan b Chameera     3      6   \n1           Divan la Cock      c Shanaka b Pramod Madushan     9      9   \n2  Jan Nicol Loftie-Eaton          c †Mendis b Karunaratne    20     12   \n3           Stephan Baard  c DM de Silva b Pramod Madushan    26     24   \n4         Gerhard Erasmus     c Gunathilaka b PWH de Silva    20     24   \n5            Jan Frylinck    run out (Gunathilaka/†Mendis)    44     28   \n6             David Wiese           c †Mendis b Theekshana     0      1   \n7                 JJ Smit                          not out    31     16   \n8         Pathum Nissanka                c Smit b Shikongo     9     10   \n9            Kusal Mendis                 c †Green b Wiese     6      6   \n\n   Fours  Sixes      SR  is_out  \n0      0      0   50.00       1  \n1      1      0  100.00       1  \n2      1      2  166.66       1  \n3      2      0  108.33       1  \n4      0      0   83.33       1  \n5      4      0  157.14       1  \n6      0      0    0.00       1  \n7      2      2  193.75       0  \n8      1      0   90.00       1  \n9      0      0  100.00       1  ",
      "text/html": "<div>\n<style scoped>\n    .dataframe tbody tr th:only-of-type {\n        vertical-align: middle;\n    }\n\n    .dataframe tbody tr th {\n        vertical-align: top;\n    }\n\n    .dataframe thead th {\n        text-align: right;\n    }\n</style>\n<table border=\"1\" class=\"dataframe\">\n  <thead>\n    <tr style=\"text-align: right;\">\n      <th></th>\n      <th>Match</th>\n      <th>Match_id</th>\n      <th>Team Innings</th>\n      <th>Batting Position</th>\n      <th>Batsman Name</th>\n      <th>Dismissal</th>\n      <th>Runs</th>\n      <th>Balls</th>\n      <th>Fours</th>\n      <th>Sixes</th>\n      <th>SR</th>\n      <th>is_out</th>\n    </tr>\n  </thead>\n  <tbody>\n    <tr>\n      <th>0</th>\n      <td>Namibia Vs Sri Lanka</td>\n      <td>T20I # 1823</td>\n      <td>Namibia</td>\n      <td>1</td>\n      <td>Michael van Lingen</td>\n      <td>c Pramod Madushan b Chameera</td>\n      <td>3</td>\n      <td>6</td>\n      <td>0</td>\n      <td>0</td>\n      <td>50.00</td>\n      <td>1</td>\n    </tr>\n    <tr>\n      <th>1</th>\n      <td>Namibia Vs Sri Lanka</td>\n      <td>T20I # 1823</td>\n      <td>Namibia</td>\n      <td>2</td>\n      <td>Divan la Cock</td>\n      <td>c Shanaka b Pramod Madushan</td>\n      <td>9</td>\n      <td>9</td>\n      <td>1</td>\n      <td>0</td>\n      <td>100.00</td>\n      <td>1</td>\n    </tr>\n    <tr>\n      <th>2</th>\n      <td>Namibia Vs Sri Lanka</td>\n      <td>T20I # 1823</td>\n      <td>Namibia</td>\n      <td>3</td>\n      <td>Jan Nicol Loftie-Eaton</td>\n      <td>c †Mendis b Karunaratne</td>\n      <td>20</td>\n      <td>12</td>\n      <td>1</td>\n      <td>2</td>\n      <td>166.66</td>\n      <td>1</td>\n    </tr>\n    <tr>\n      <th>3</th>\n      <td>Namibia Vs Sri Lanka</td>\n      <td>T20I # 1823</td>\n      <td>Namibia</td>\n      <td>4</td>\n      <td>Stephan Baard</td>\n      <td>c DM de Silva b Pramod Madushan</td>\n      <td>26</td>\n      <td>24</td>\n      <td>2</td>\n      <td>0</td>\n      <td>108.33</td>\n      <td>1</td>\n    </tr>\n    <tr>\n      <th>4</th>\n      <td>Namibia Vs Sri Lanka</td>\n      <td>T20I # 1823</td>\n      <td>Namibia</td>\n      <td>5</td>\n      <td>Gerhard Erasmus</td>\n      <td>c Gunathilaka b PWH de Silva</td>\n      <td>20</td>\n      <td>24</td>\n      <td>0</td>\n      <td>0</td>\n      <td>83.33</td>\n      <td>1</td>\n    </tr>\n    <tr>\n      <th>5</th>\n      <td>Namibia Vs Sri Lanka</td>\n      <td>T20I # 1823</td>\n      <td>Namibia</td>\n      <td>6</td>\n      <td>Jan Frylinck</td>\n      <td>run out (Gunathilaka/†Mendis)</td>\n      <td>44</td>\n      <td>28</td>\n      <td>4</td>\n      <td>0</td>\n      <td>157.14</td>\n      <td>1</td>\n    </tr>\n    <tr>\n      <th>6</th>\n      <td>Namibia Vs Sri Lanka</td>\n      <td>T20I # 1823</td>\n      <td>Namibia</td>\n      <td>7</td>\n      <td>David Wiese</td>\n      <td>c †Mendis b Theekshana</td>\n      <td>0</td>\n      <td>1</td>\n      <td>0</td>\n      <td>0</td>\n      <td>0.00</td>\n      <td>1</td>\n    </tr>\n    <tr>\n      <th>7</th>\n      <td>Namibia Vs Sri Lanka</td>\n      <td>T20I # 1823</td>\n      <td>Namibia</td>\n      <td>8</td>\n      <td>JJ Smit</td>\n      <td>not out</td>\n      <td>31</td>\n      <td>16</td>\n      <td>2</td>\n      <td>2</td>\n      <td>193.75</td>\n      <td>0</td>\n    </tr>\n    <tr>\n      <th>8</th>\n      <td>Sri Lanka Vs Namibia</td>\n      <td>T20I # 1823</td>\n      <td>Sri Lanka</td>\n      <td>1</td>\n      <td>Pathum Nissanka</td>\n      <td>c Smit b Shikongo</td>\n      <td>9</td>\n      <td>10</td>\n      <td>1</td>\n      <td>0</td>\n      <td>90.00</td>\n      <td>1</td>\n    </tr>\n    <tr>\n      <th>9</th>\n      <td>Sri Lanka Vs Namibia</td>\n      <td>T20I # 1823</td>\n      <td>Sri Lanka</td>\n      <td>2</td>\n      <td>Kusal Mendis</td>\n      <td>c †Green b Wiese</td>\n      <td>6</td>\n      <td>6</td>\n      <td>0</td>\n      <td>0</td>\n      <td>100.00</td>\n      <td>1</td>\n    </tr>\n  </tbody>\n</table>\n</div>"
     },
     "execution_count": 105,
     "metadata": {},
     "output_type": "execute_result"
    }
   ],
   "source": [
    "#Converting dismissal column to a binary column showing the player was out or not out\n",
    "# 0-> out ; 1-> not out\n",
    "batting_df_out = batting_df_name_cleaned.copy()\n",
    "batting_df_out['is_out'] = batting_df_out.Dismissal.apply(lambda x: 0 if x=='not out' else 1)\n",
    "batting_df_out.head(10)"
   ],
   "metadata": {
    "collapsed": false,
    "pycharm": {
     "name": "#%%\n"
    }
   }
  },
  {
   "cell_type": "code",
   "execution_count": 106,
   "outputs": [
    {
     "data": {
      "text/plain": "                  Match     Match_id Team Innings  Batting Position  \\\n0  Namibia Vs Sri Lanka  T20I # 1823      Namibia                 1   \n1  Namibia Vs Sri Lanka  T20I # 1823      Namibia                 2   \n2  Namibia Vs Sri Lanka  T20I # 1823      Namibia                 3   \n3  Namibia Vs Sri Lanka  T20I # 1823      Namibia                 4   \n4  Namibia Vs Sri Lanka  T20I # 1823      Namibia                 5   \n5  Namibia Vs Sri Lanka  T20I # 1823      Namibia                 6   \n6  Namibia Vs Sri Lanka  T20I # 1823      Namibia                 7   \n7  Namibia Vs Sri Lanka  T20I # 1823      Namibia                 8   \n8  Sri Lanka Vs Namibia  T20I # 1823    Sri Lanka                 1   \n9  Sri Lanka Vs Namibia  T20I # 1823    Sri Lanka                 2   \n\n             Batsman Name                        Dismissal  Runs  Balls  \\\n0      Michael van Lingen     c Pramod Madushan b Chameera     3      6   \n1           Divan la Cock      c Shanaka b Pramod Madushan     9      9   \n2  Jan Nicol Loftie-Eaton          c †Mendis b Karunaratne    20     12   \n3           Stephan Baard  c DM de Silva b Pramod Madushan    26     24   \n4         Gerhard Erasmus     c Gunathilaka b PWH de Silva    20     24   \n5            Jan Frylinck    run out (Gunathilaka/†Mendis)    44     28   \n6             David Wiese           c †Mendis b Theekshana     0      1   \n7                 JJ Smit                          not out    31     16   \n8         Pathum Nissanka                c Smit b Shikongo     9     10   \n9            Kusal Mendis                 c †Green b Wiese     6      6   \n\n   Fours  Sixes      SR  is_out  Boundary Runs  \n0      0      0   50.00       1              0  \n1      1      0  100.00       1              4  \n2      1      2  166.66       1             16  \n3      2      0  108.33       1              8  \n4      0      0   83.33       1              0  \n5      4      0  157.14       1             16  \n6      0      0    0.00       1              0  \n7      2      2  193.75       0             20  \n8      1      0   90.00       1              4  \n9      0      0  100.00       1              0  ",
      "text/html": "<div>\n<style scoped>\n    .dataframe tbody tr th:only-of-type {\n        vertical-align: middle;\n    }\n\n    .dataframe tbody tr th {\n        vertical-align: top;\n    }\n\n    .dataframe thead th {\n        text-align: right;\n    }\n</style>\n<table border=\"1\" class=\"dataframe\">\n  <thead>\n    <tr style=\"text-align: right;\">\n      <th></th>\n      <th>Match</th>\n      <th>Match_id</th>\n      <th>Team Innings</th>\n      <th>Batting Position</th>\n      <th>Batsman Name</th>\n      <th>Dismissal</th>\n      <th>Runs</th>\n      <th>Balls</th>\n      <th>Fours</th>\n      <th>Sixes</th>\n      <th>SR</th>\n      <th>is_out</th>\n      <th>Boundary Runs</th>\n    </tr>\n  </thead>\n  <tbody>\n    <tr>\n      <th>0</th>\n      <td>Namibia Vs Sri Lanka</td>\n      <td>T20I # 1823</td>\n      <td>Namibia</td>\n      <td>1</td>\n      <td>Michael van Lingen</td>\n      <td>c Pramod Madushan b Chameera</td>\n      <td>3</td>\n      <td>6</td>\n      <td>0</td>\n      <td>0</td>\n      <td>50.00</td>\n      <td>1</td>\n      <td>0</td>\n    </tr>\n    <tr>\n      <th>1</th>\n      <td>Namibia Vs Sri Lanka</td>\n      <td>T20I # 1823</td>\n      <td>Namibia</td>\n      <td>2</td>\n      <td>Divan la Cock</td>\n      <td>c Shanaka b Pramod Madushan</td>\n      <td>9</td>\n      <td>9</td>\n      <td>1</td>\n      <td>0</td>\n      <td>100.00</td>\n      <td>1</td>\n      <td>4</td>\n    </tr>\n    <tr>\n      <th>2</th>\n      <td>Namibia Vs Sri Lanka</td>\n      <td>T20I # 1823</td>\n      <td>Namibia</td>\n      <td>3</td>\n      <td>Jan Nicol Loftie-Eaton</td>\n      <td>c †Mendis b Karunaratne</td>\n      <td>20</td>\n      <td>12</td>\n      <td>1</td>\n      <td>2</td>\n      <td>166.66</td>\n      <td>1</td>\n      <td>16</td>\n    </tr>\n    <tr>\n      <th>3</th>\n      <td>Namibia Vs Sri Lanka</td>\n      <td>T20I # 1823</td>\n      <td>Namibia</td>\n      <td>4</td>\n      <td>Stephan Baard</td>\n      <td>c DM de Silva b Pramod Madushan</td>\n      <td>26</td>\n      <td>24</td>\n      <td>2</td>\n      <td>0</td>\n      <td>108.33</td>\n      <td>1</td>\n      <td>8</td>\n    </tr>\n    <tr>\n      <th>4</th>\n      <td>Namibia Vs Sri Lanka</td>\n      <td>T20I # 1823</td>\n      <td>Namibia</td>\n      <td>5</td>\n      <td>Gerhard Erasmus</td>\n      <td>c Gunathilaka b PWH de Silva</td>\n      <td>20</td>\n      <td>24</td>\n      <td>0</td>\n      <td>0</td>\n      <td>83.33</td>\n      <td>1</td>\n      <td>0</td>\n    </tr>\n    <tr>\n      <th>5</th>\n      <td>Namibia Vs Sri Lanka</td>\n      <td>T20I # 1823</td>\n      <td>Namibia</td>\n      <td>6</td>\n      <td>Jan Frylinck</td>\n      <td>run out (Gunathilaka/†Mendis)</td>\n      <td>44</td>\n      <td>28</td>\n      <td>4</td>\n      <td>0</td>\n      <td>157.14</td>\n      <td>1</td>\n      <td>16</td>\n    </tr>\n    <tr>\n      <th>6</th>\n      <td>Namibia Vs Sri Lanka</td>\n      <td>T20I # 1823</td>\n      <td>Namibia</td>\n      <td>7</td>\n      <td>David Wiese</td>\n      <td>c †Mendis b Theekshana</td>\n      <td>0</td>\n      <td>1</td>\n      <td>0</td>\n      <td>0</td>\n      <td>0.00</td>\n      <td>1</td>\n      <td>0</td>\n    </tr>\n    <tr>\n      <th>7</th>\n      <td>Namibia Vs Sri Lanka</td>\n      <td>T20I # 1823</td>\n      <td>Namibia</td>\n      <td>8</td>\n      <td>JJ Smit</td>\n      <td>not out</td>\n      <td>31</td>\n      <td>16</td>\n      <td>2</td>\n      <td>2</td>\n      <td>193.75</td>\n      <td>0</td>\n      <td>20</td>\n    </tr>\n    <tr>\n      <th>8</th>\n      <td>Sri Lanka Vs Namibia</td>\n      <td>T20I # 1823</td>\n      <td>Sri Lanka</td>\n      <td>1</td>\n      <td>Pathum Nissanka</td>\n      <td>c Smit b Shikongo</td>\n      <td>9</td>\n      <td>10</td>\n      <td>1</td>\n      <td>0</td>\n      <td>90.00</td>\n      <td>1</td>\n      <td>4</td>\n    </tr>\n    <tr>\n      <th>9</th>\n      <td>Sri Lanka Vs Namibia</td>\n      <td>T20I # 1823</td>\n      <td>Sri Lanka</td>\n      <td>2</td>\n      <td>Kusal Mendis</td>\n      <td>c †Green b Wiese</td>\n      <td>6</td>\n      <td>6</td>\n      <td>0</td>\n      <td>0</td>\n      <td>100.00</td>\n      <td>1</td>\n      <td>0</td>\n    </tr>\n  </tbody>\n</table>\n</div>"
     },
     "execution_count": 106,
     "metadata": {},
     "output_type": "execute_result"
    }
   ],
   "source": [
    "#Calculating Boundary runs for each player\n",
    "boundary_runs=[]\n",
    "for index,row in batting_df_out.iterrows():\n",
    "    runs = (row['Fours']*4) + (row['Sixes']*6)\n",
    "    boundary_runs.append(runs)\n",
    "batting_df_out['Boundary Runs']=boundary_runs\n",
    "batting_df_out.head(10)"
   ],
   "metadata": {
    "collapsed": false,
    "pycharm": {
     "name": "#%%\n"
    }
   }
  },
  {
   "cell_type": "code",
   "execution_count": 107,
   "outputs": [
    {
     "data": {
      "text/plain": "                  Match     Match_id Team Innings  Batting Position  \\\n0  Namibia Vs Sri Lanka  T20I # 1823      Namibia                 1   \n1  Namibia Vs Sri Lanka  T20I # 1823      Namibia                 2   \n2  Namibia Vs Sri Lanka  T20I # 1823      Namibia                 3   \n3  Namibia Vs Sri Lanka  T20I # 1823      Namibia                 4   \n4  Namibia Vs Sri Lanka  T20I # 1823      Namibia                 5   \n5  Namibia Vs Sri Lanka  T20I # 1823      Namibia                 6   \n6  Namibia Vs Sri Lanka  T20I # 1823      Namibia                 7   \n7  Namibia Vs Sri Lanka  T20I # 1823      Namibia                 8   \n8  Sri Lanka Vs Namibia  T20I # 1823    Sri Lanka                 1   \n9  Sri Lanka Vs Namibia  T20I # 1823    Sri Lanka                 2   \n\n             Batsman Name  Runs  Balls  Fours  Sixes      SR  is_out  \\\n0      Michael van Lingen     3      6      0      0   50.00       1   \n1           Divan la Cock     9      9      1      0  100.00       1   \n2  Jan Nicol Loftie-Eaton    20     12      1      2  166.66       1   \n3           Stephan Baard    26     24      2      0  108.33       1   \n4         Gerhard Erasmus    20     24      0      0   83.33       1   \n5            Jan Frylinck    44     28      4      0  157.14       1   \n6             David Wiese     0      1      0      0    0.00       1   \n7                 JJ Smit    31     16      2      2  193.75       0   \n8         Pathum Nissanka     9     10      1      0   90.00       1   \n9            Kusal Mendis     6      6      0      0  100.00       1   \n\n   Boundary Runs  \n0              0  \n1              4  \n2             16  \n3              8  \n4              0  \n5             16  \n6              0  \n7             20  \n8              4  \n9              0  ",
      "text/html": "<div>\n<style scoped>\n    .dataframe tbody tr th:only-of-type {\n        vertical-align: middle;\n    }\n\n    .dataframe tbody tr th {\n        vertical-align: top;\n    }\n\n    .dataframe thead th {\n        text-align: right;\n    }\n</style>\n<table border=\"1\" class=\"dataframe\">\n  <thead>\n    <tr style=\"text-align: right;\">\n      <th></th>\n      <th>Match</th>\n      <th>Match_id</th>\n      <th>Team Innings</th>\n      <th>Batting Position</th>\n      <th>Batsman Name</th>\n      <th>Runs</th>\n      <th>Balls</th>\n      <th>Fours</th>\n      <th>Sixes</th>\n      <th>SR</th>\n      <th>is_out</th>\n      <th>Boundary Runs</th>\n    </tr>\n  </thead>\n  <tbody>\n    <tr>\n      <th>0</th>\n      <td>Namibia Vs Sri Lanka</td>\n      <td>T20I # 1823</td>\n      <td>Namibia</td>\n      <td>1</td>\n      <td>Michael van Lingen</td>\n      <td>3</td>\n      <td>6</td>\n      <td>0</td>\n      <td>0</td>\n      <td>50.00</td>\n      <td>1</td>\n      <td>0</td>\n    </tr>\n    <tr>\n      <th>1</th>\n      <td>Namibia Vs Sri Lanka</td>\n      <td>T20I # 1823</td>\n      <td>Namibia</td>\n      <td>2</td>\n      <td>Divan la Cock</td>\n      <td>9</td>\n      <td>9</td>\n      <td>1</td>\n      <td>0</td>\n      <td>100.00</td>\n      <td>1</td>\n      <td>4</td>\n    </tr>\n    <tr>\n      <th>2</th>\n      <td>Namibia Vs Sri Lanka</td>\n      <td>T20I # 1823</td>\n      <td>Namibia</td>\n      <td>3</td>\n      <td>Jan Nicol Loftie-Eaton</td>\n      <td>20</td>\n      <td>12</td>\n      <td>1</td>\n      <td>2</td>\n      <td>166.66</td>\n      <td>1</td>\n      <td>16</td>\n    </tr>\n    <tr>\n      <th>3</th>\n      <td>Namibia Vs Sri Lanka</td>\n      <td>T20I # 1823</td>\n      <td>Namibia</td>\n      <td>4</td>\n      <td>Stephan Baard</td>\n      <td>26</td>\n      <td>24</td>\n      <td>2</td>\n      <td>0</td>\n      <td>108.33</td>\n      <td>1</td>\n      <td>8</td>\n    </tr>\n    <tr>\n      <th>4</th>\n      <td>Namibia Vs Sri Lanka</td>\n      <td>T20I # 1823</td>\n      <td>Namibia</td>\n      <td>5</td>\n      <td>Gerhard Erasmus</td>\n      <td>20</td>\n      <td>24</td>\n      <td>0</td>\n      <td>0</td>\n      <td>83.33</td>\n      <td>1</td>\n      <td>0</td>\n    </tr>\n    <tr>\n      <th>5</th>\n      <td>Namibia Vs Sri Lanka</td>\n      <td>T20I # 1823</td>\n      <td>Namibia</td>\n      <td>6</td>\n      <td>Jan Frylinck</td>\n      <td>44</td>\n      <td>28</td>\n      <td>4</td>\n      <td>0</td>\n      <td>157.14</td>\n      <td>1</td>\n      <td>16</td>\n    </tr>\n    <tr>\n      <th>6</th>\n      <td>Namibia Vs Sri Lanka</td>\n      <td>T20I # 1823</td>\n      <td>Namibia</td>\n      <td>7</td>\n      <td>David Wiese</td>\n      <td>0</td>\n      <td>1</td>\n      <td>0</td>\n      <td>0</td>\n      <td>0.00</td>\n      <td>1</td>\n      <td>0</td>\n    </tr>\n    <tr>\n      <th>7</th>\n      <td>Namibia Vs Sri Lanka</td>\n      <td>T20I # 1823</td>\n      <td>Namibia</td>\n      <td>8</td>\n      <td>JJ Smit</td>\n      <td>31</td>\n      <td>16</td>\n      <td>2</td>\n      <td>2</td>\n      <td>193.75</td>\n      <td>0</td>\n      <td>20</td>\n    </tr>\n    <tr>\n      <th>8</th>\n      <td>Sri Lanka Vs Namibia</td>\n      <td>T20I # 1823</td>\n      <td>Sri Lanka</td>\n      <td>1</td>\n      <td>Pathum Nissanka</td>\n      <td>9</td>\n      <td>10</td>\n      <td>1</td>\n      <td>0</td>\n      <td>90.00</td>\n      <td>1</td>\n      <td>4</td>\n    </tr>\n    <tr>\n      <th>9</th>\n      <td>Sri Lanka Vs Namibia</td>\n      <td>T20I # 1823</td>\n      <td>Sri Lanka</td>\n      <td>2</td>\n      <td>Kusal Mendis</td>\n      <td>6</td>\n      <td>6</td>\n      <td>0</td>\n      <td>0</td>\n      <td>100.00</td>\n      <td>1</td>\n      <td>0</td>\n    </tr>\n  </tbody>\n</table>\n</div>"
     },
     "execution_count": 107,
     "metadata": {},
     "output_type": "execute_result"
    }
   ],
   "source": [
    "#Dropping the dismissal column\n",
    "batting_df_cleaned = batting_df_out.drop(['Dismissal'], axis=1)\n",
    "batting_df_cleaned.head(10)"
   ],
   "metadata": {
    "collapsed": false,
    "pycharm": {
     "name": "#%%\n"
    }
   }
  },
  {
   "cell_type": "markdown",
   "source": [
    "## Bowling df"
   ],
   "metadata": {
    "collapsed": false,
    "pycharm": {
     "name": "#%% md\n"
    }
   }
  },
  {
   "cell_type": "code",
   "execution_count": 108,
   "outputs": [
    {
     "data": {
      "text/plain": "                    Match     Match_id Bowling Team  \\\n0    Namibia Vs Sri Lanka  T20I # 1823    Sri Lanka   \n1    Namibia Vs Sri Lanka  T20I # 1823    Sri Lanka   \n2    Namibia Vs Sri Lanka  T20I # 1823    Sri Lanka   \n3    Namibia Vs Sri Lanka  T20I # 1823    Sri Lanka   \n4    Namibia Vs Sri Lanka  T20I # 1823    Sri Lanka   \n..                    ...          ...          ...   \n495   Pakistan Vs England  T20I # 1879     Pakistan   \n496   Pakistan Vs England  T20I # 1879     Pakistan   \n497   Pakistan Vs England  T20I # 1879     Pakistan   \n498   Pakistan Vs England  T20I # 1879     Pakistan   \n499   Pakistan Vs England  T20I # 1879     Pakistan   \n\n                    Bowler Name  Overs  Maiden  Runs  Wickets  Economy  Zeros  \\\n0            Maheesh Theekshana    4.0       0    23        1     5.75      7   \n1           Dushmantha Chameera    4.0       0    39        1     9.75      6   \n2               Pramod Madushan    4.0       0    37        2     9.25      6   \n3           Chamika Karunaratne    4.0       0    36        1     9.00      7   \n4    Wanindu Hasaranga de Silva    4.0       0    27        1     6.75      8   \n..                          ...    ...     ...   ...      ...      ...    ...   \n495                 Naseem Shah    4.0       0    30        0     7.50     15   \n496                  Haris Rauf    4.0       0    23        2     5.75     13   \n497                 Shadab Khan    4.0       0    20        1     5.00     10   \n498              Mohammad Wasim    4.0       0    38        1     9.50      5   \n499              Iftikhar Ahmed    0.5       0    13        0    15.60      0   \n\n     Fours  Sixes  Wides  No Balls  \n0        0      0      2         0  \n1        3      1      2         0  \n2        3      1      0         0  \n3        3      1      1         0  \n4        1      1      0         0  \n..     ...    ...    ...       ...  \n495      3      1      1         0  \n496      3      0      1         0  \n497      1      0      0         0  \n498      5      0      2         0  \n499      1      1      0         0  \n\n[500 rows x 14 columns]",
      "text/html": "<div>\n<style scoped>\n    .dataframe tbody tr th:only-of-type {\n        vertical-align: middle;\n    }\n\n    .dataframe tbody tr th {\n        vertical-align: top;\n    }\n\n    .dataframe thead th {\n        text-align: right;\n    }\n</style>\n<table border=\"1\" class=\"dataframe\">\n  <thead>\n    <tr style=\"text-align: right;\">\n      <th></th>\n      <th>Match</th>\n      <th>Match_id</th>\n      <th>Bowling Team</th>\n      <th>Bowler Name</th>\n      <th>Overs</th>\n      <th>Maiden</th>\n      <th>Runs</th>\n      <th>Wickets</th>\n      <th>Economy</th>\n      <th>Zeros</th>\n      <th>Fours</th>\n      <th>Sixes</th>\n      <th>Wides</th>\n      <th>No Balls</th>\n    </tr>\n  </thead>\n  <tbody>\n    <tr>\n      <th>0</th>\n      <td>Namibia Vs Sri Lanka</td>\n      <td>T20I # 1823</td>\n      <td>Sri Lanka</td>\n      <td>Maheesh Theekshana</td>\n      <td>4.0</td>\n      <td>0</td>\n      <td>23</td>\n      <td>1</td>\n      <td>5.75</td>\n      <td>7</td>\n      <td>0</td>\n      <td>0</td>\n      <td>2</td>\n      <td>0</td>\n    </tr>\n    <tr>\n      <th>1</th>\n      <td>Namibia Vs Sri Lanka</td>\n      <td>T20I # 1823</td>\n      <td>Sri Lanka</td>\n      <td>Dushmantha Chameera</td>\n      <td>4.0</td>\n      <td>0</td>\n      <td>39</td>\n      <td>1</td>\n      <td>9.75</td>\n      <td>6</td>\n      <td>3</td>\n      <td>1</td>\n      <td>2</td>\n      <td>0</td>\n    </tr>\n    <tr>\n      <th>2</th>\n      <td>Namibia Vs Sri Lanka</td>\n      <td>T20I # 1823</td>\n      <td>Sri Lanka</td>\n      <td>Pramod Madushan</td>\n      <td>4.0</td>\n      <td>0</td>\n      <td>37</td>\n      <td>2</td>\n      <td>9.25</td>\n      <td>6</td>\n      <td>3</td>\n      <td>1</td>\n      <td>0</td>\n      <td>0</td>\n    </tr>\n    <tr>\n      <th>3</th>\n      <td>Namibia Vs Sri Lanka</td>\n      <td>T20I # 1823</td>\n      <td>Sri Lanka</td>\n      <td>Chamika Karunaratne</td>\n      <td>4.0</td>\n      <td>0</td>\n      <td>36</td>\n      <td>1</td>\n      <td>9.00</td>\n      <td>7</td>\n      <td>3</td>\n      <td>1</td>\n      <td>1</td>\n      <td>0</td>\n    </tr>\n    <tr>\n      <th>4</th>\n      <td>Namibia Vs Sri Lanka</td>\n      <td>T20I # 1823</td>\n      <td>Sri Lanka</td>\n      <td>Wanindu Hasaranga de Silva</td>\n      <td>4.0</td>\n      <td>0</td>\n      <td>27</td>\n      <td>1</td>\n      <td>6.75</td>\n      <td>8</td>\n      <td>1</td>\n      <td>1</td>\n      <td>0</td>\n      <td>0</td>\n    </tr>\n    <tr>\n      <th>...</th>\n      <td>...</td>\n      <td>...</td>\n      <td>...</td>\n      <td>...</td>\n      <td>...</td>\n      <td>...</td>\n      <td>...</td>\n      <td>...</td>\n      <td>...</td>\n      <td>...</td>\n      <td>...</td>\n      <td>...</td>\n      <td>...</td>\n      <td>...</td>\n    </tr>\n    <tr>\n      <th>495</th>\n      <td>Pakistan Vs England</td>\n      <td>T20I # 1879</td>\n      <td>Pakistan</td>\n      <td>Naseem Shah</td>\n      <td>4.0</td>\n      <td>0</td>\n      <td>30</td>\n      <td>0</td>\n      <td>7.50</td>\n      <td>15</td>\n      <td>3</td>\n      <td>1</td>\n      <td>1</td>\n      <td>0</td>\n    </tr>\n    <tr>\n      <th>496</th>\n      <td>Pakistan Vs England</td>\n      <td>T20I # 1879</td>\n      <td>Pakistan</td>\n      <td>Haris Rauf</td>\n      <td>4.0</td>\n      <td>0</td>\n      <td>23</td>\n      <td>2</td>\n      <td>5.75</td>\n      <td>13</td>\n      <td>3</td>\n      <td>0</td>\n      <td>1</td>\n      <td>0</td>\n    </tr>\n    <tr>\n      <th>497</th>\n      <td>Pakistan Vs England</td>\n      <td>T20I # 1879</td>\n      <td>Pakistan</td>\n      <td>Shadab Khan</td>\n      <td>4.0</td>\n      <td>0</td>\n      <td>20</td>\n      <td>1</td>\n      <td>5.00</td>\n      <td>10</td>\n      <td>1</td>\n      <td>0</td>\n      <td>0</td>\n      <td>0</td>\n    </tr>\n    <tr>\n      <th>498</th>\n      <td>Pakistan Vs England</td>\n      <td>T20I # 1879</td>\n      <td>Pakistan</td>\n      <td>Mohammad Wasim</td>\n      <td>4.0</td>\n      <td>0</td>\n      <td>38</td>\n      <td>1</td>\n      <td>9.50</td>\n      <td>5</td>\n      <td>5</td>\n      <td>0</td>\n      <td>2</td>\n      <td>0</td>\n    </tr>\n    <tr>\n      <th>499</th>\n      <td>Pakistan Vs England</td>\n      <td>T20I # 1879</td>\n      <td>Pakistan</td>\n      <td>Iftikhar Ahmed</td>\n      <td>0.5</td>\n      <td>0</td>\n      <td>13</td>\n      <td>0</td>\n      <td>15.60</td>\n      <td>0</td>\n      <td>1</td>\n      <td>1</td>\n      <td>0</td>\n      <td>0</td>\n    </tr>\n  </tbody>\n</table>\n<p>500 rows × 14 columns</p>\n</div>"
     },
     "execution_count": 108,
     "metadata": {},
     "output_type": "execute_result"
    }
   ],
   "source": [
    "bowling_df"
   ],
   "metadata": {
    "collapsed": false,
    "pycharm": {
     "name": "#%%\n"
    }
   }
  },
  {
   "cell_type": "code",
   "execution_count": 109,
   "outputs": [
    {
     "data": {
      "text/plain": "                  Match     Match_id Bowling Team                 Bowler Name  \\\n0  Namibia Vs Sri Lanka  T20I # 1823    Sri Lanka          Maheesh Theekshana   \n1  Namibia Vs Sri Lanka  T20I # 1823    Sri Lanka         Dushmantha Chameera   \n2  Namibia Vs Sri Lanka  T20I # 1823    Sri Lanka             Pramod Madushan   \n3  Namibia Vs Sri Lanka  T20I # 1823    Sri Lanka         Chamika Karunaratne   \n4  Namibia Vs Sri Lanka  T20I # 1823    Sri Lanka  Wanindu Hasaranga de Silva   \n5  Sri Lanka Vs Namibia  T20I # 1823      Namibia             Gerhard Erasmus   \n6  Sri Lanka Vs Namibia  T20I # 1823      Namibia                 David Wiese   \n7  Sri Lanka Vs Namibia  T20I # 1823      Namibia             Bernard Scholtz   \n8  Sri Lanka Vs Namibia  T20I # 1823      Namibia                Ben Shikongo   \n9  Sri Lanka Vs Namibia  T20I # 1823      Namibia                     JJ Smit   \n\n   Overs  Maiden  Runs  Wickets  Economy  Zeros  Fours  Sixes  Wides  No Balls  \n0    4.0       0    23        1     5.75      7      0      0      2         0  \n1    4.0       0    39        1     9.75      6      3      1      2         0  \n2    4.0       0    37        2     9.25      6      3      1      0         0  \n3    4.0       0    36        1     9.00      7      3      1      1         0  \n4    4.0       0    27        1     6.75      8      1      1      0         0  \n5    1.0       0     8        0     8.00      1      1      0      0         0  \n6    4.0       0    16        2     4.00     13      1      0      0         0  \n7    4.0       0    18        2     4.50     10      1      0      0         0  \n8    3.0       1    22        2     7.33      6      3      0      0         0  \n9    3.0       0    16        1     5.33      7      0      0      1         0  ",
      "text/html": "<div>\n<style scoped>\n    .dataframe tbody tr th:only-of-type {\n        vertical-align: middle;\n    }\n\n    .dataframe tbody tr th {\n        vertical-align: top;\n    }\n\n    .dataframe thead th {\n        text-align: right;\n    }\n</style>\n<table border=\"1\" class=\"dataframe\">\n  <thead>\n    <tr style=\"text-align: right;\">\n      <th></th>\n      <th>Match</th>\n      <th>Match_id</th>\n      <th>Bowling Team</th>\n      <th>Bowler Name</th>\n      <th>Overs</th>\n      <th>Maiden</th>\n      <th>Runs</th>\n      <th>Wickets</th>\n      <th>Economy</th>\n      <th>Zeros</th>\n      <th>Fours</th>\n      <th>Sixes</th>\n      <th>Wides</th>\n      <th>No Balls</th>\n    </tr>\n  </thead>\n  <tbody>\n    <tr>\n      <th>0</th>\n      <td>Namibia Vs Sri Lanka</td>\n      <td>T20I # 1823</td>\n      <td>Sri Lanka</td>\n      <td>Maheesh Theekshana</td>\n      <td>4.0</td>\n      <td>0</td>\n      <td>23</td>\n      <td>1</td>\n      <td>5.75</td>\n      <td>7</td>\n      <td>0</td>\n      <td>0</td>\n      <td>2</td>\n      <td>0</td>\n    </tr>\n    <tr>\n      <th>1</th>\n      <td>Namibia Vs Sri Lanka</td>\n      <td>T20I # 1823</td>\n      <td>Sri Lanka</td>\n      <td>Dushmantha Chameera</td>\n      <td>4.0</td>\n      <td>0</td>\n      <td>39</td>\n      <td>1</td>\n      <td>9.75</td>\n      <td>6</td>\n      <td>3</td>\n      <td>1</td>\n      <td>2</td>\n      <td>0</td>\n    </tr>\n    <tr>\n      <th>2</th>\n      <td>Namibia Vs Sri Lanka</td>\n      <td>T20I # 1823</td>\n      <td>Sri Lanka</td>\n      <td>Pramod Madushan</td>\n      <td>4.0</td>\n      <td>0</td>\n      <td>37</td>\n      <td>2</td>\n      <td>9.25</td>\n      <td>6</td>\n      <td>3</td>\n      <td>1</td>\n      <td>0</td>\n      <td>0</td>\n    </tr>\n    <tr>\n      <th>3</th>\n      <td>Namibia Vs Sri Lanka</td>\n      <td>T20I # 1823</td>\n      <td>Sri Lanka</td>\n      <td>Chamika Karunaratne</td>\n      <td>4.0</td>\n      <td>0</td>\n      <td>36</td>\n      <td>1</td>\n      <td>9.00</td>\n      <td>7</td>\n      <td>3</td>\n      <td>1</td>\n      <td>1</td>\n      <td>0</td>\n    </tr>\n    <tr>\n      <th>4</th>\n      <td>Namibia Vs Sri Lanka</td>\n      <td>T20I # 1823</td>\n      <td>Sri Lanka</td>\n      <td>Wanindu Hasaranga de Silva</td>\n      <td>4.0</td>\n      <td>0</td>\n      <td>27</td>\n      <td>1</td>\n      <td>6.75</td>\n      <td>8</td>\n      <td>1</td>\n      <td>1</td>\n      <td>0</td>\n      <td>0</td>\n    </tr>\n    <tr>\n      <th>5</th>\n      <td>Sri Lanka Vs Namibia</td>\n      <td>T20I # 1823</td>\n      <td>Namibia</td>\n      <td>Gerhard Erasmus</td>\n      <td>1.0</td>\n      <td>0</td>\n      <td>8</td>\n      <td>0</td>\n      <td>8.00</td>\n      <td>1</td>\n      <td>1</td>\n      <td>0</td>\n      <td>0</td>\n      <td>0</td>\n    </tr>\n    <tr>\n      <th>6</th>\n      <td>Sri Lanka Vs Namibia</td>\n      <td>T20I # 1823</td>\n      <td>Namibia</td>\n      <td>David Wiese</td>\n      <td>4.0</td>\n      <td>0</td>\n      <td>16</td>\n      <td>2</td>\n      <td>4.00</td>\n      <td>13</td>\n      <td>1</td>\n      <td>0</td>\n      <td>0</td>\n      <td>0</td>\n    </tr>\n    <tr>\n      <th>7</th>\n      <td>Sri Lanka Vs Namibia</td>\n      <td>T20I # 1823</td>\n      <td>Namibia</td>\n      <td>Bernard Scholtz</td>\n      <td>4.0</td>\n      <td>0</td>\n      <td>18</td>\n      <td>2</td>\n      <td>4.50</td>\n      <td>10</td>\n      <td>1</td>\n      <td>0</td>\n      <td>0</td>\n      <td>0</td>\n    </tr>\n    <tr>\n      <th>8</th>\n      <td>Sri Lanka Vs Namibia</td>\n      <td>T20I # 1823</td>\n      <td>Namibia</td>\n      <td>Ben Shikongo</td>\n      <td>3.0</td>\n      <td>1</td>\n      <td>22</td>\n      <td>2</td>\n      <td>7.33</td>\n      <td>6</td>\n      <td>3</td>\n      <td>0</td>\n      <td>0</td>\n      <td>0</td>\n    </tr>\n    <tr>\n      <th>9</th>\n      <td>Sri Lanka Vs Namibia</td>\n      <td>T20I # 1823</td>\n      <td>Namibia</td>\n      <td>JJ Smit</td>\n      <td>3.0</td>\n      <td>0</td>\n      <td>16</td>\n      <td>1</td>\n      <td>5.33</td>\n      <td>7</td>\n      <td>0</td>\n      <td>0</td>\n      <td>1</td>\n      <td>0</td>\n    </tr>\n  </tbody>\n</table>\n</div>"
     },
     "execution_count": 109,
     "metadata": {},
     "output_type": "execute_result"
    }
   ],
   "source": [
    "#Cleaning the Bowler Name column\n",
    "bowling_df_name_cleaned = bowling_df.copy()\n",
    "bowling_df_name_cleaned['Bowler Name'] = bowling_df_name_cleaned['Bowler Name'].apply(lambda x: re.sub(\"[^A-Z()\\s-]\", \"\", x,0,re.IGNORECASE)) #Removing special characters\n",
    "bowling_df_name_cleaned['Bowler Name'] = bowling_df_name_cleaned['Bowler Name'].apply(lambda x: x.strip()) #Removing extra spaces\n",
    "\n",
    "bowling_df_name_cleaned.head(10)"
   ],
   "metadata": {
    "collapsed": false,
    "pycharm": {
     "name": "#%%\n"
    }
   }
  },
  {
   "cell_type": "code",
   "execution_count": 110,
   "outputs": [
    {
     "data": {
      "text/plain": "                  Match     Match_id Bowling Team                 Bowler Name  \\\n0  Namibia Vs Sri Lanka  T20I # 1823    Sri Lanka          Maheesh Theekshana   \n1  Namibia Vs Sri Lanka  T20I # 1823    Sri Lanka         Dushmantha Chameera   \n2  Namibia Vs Sri Lanka  T20I # 1823    Sri Lanka             Pramod Madushan   \n3  Namibia Vs Sri Lanka  T20I # 1823    Sri Lanka         Chamika Karunaratne   \n4  Namibia Vs Sri Lanka  T20I # 1823    Sri Lanka  Wanindu Hasaranga de Silva   \n5  Sri Lanka Vs Namibia  T20I # 1823      Namibia             Gerhard Erasmus   \n6  Sri Lanka Vs Namibia  T20I # 1823      Namibia                 David Wiese   \n7  Sri Lanka Vs Namibia  T20I # 1823      Namibia             Bernard Scholtz   \n8  Sri Lanka Vs Namibia  T20I # 1823      Namibia                Ben Shikongo   \n9  Sri Lanka Vs Namibia  T20I # 1823      Namibia                     JJ Smit   \n\n   Overs  Maiden  Runs  Wickets  Economy  Zeros  Fours  Sixes  Wides  \\\n0    4.0       0    23        1     5.75      7      0      0      2   \n1    4.0       0    39        1     9.75      6      3      1      2   \n2    4.0       0    37        2     9.25      6      3      1      0   \n3    4.0       0    36        1     9.00      7      3      1      1   \n4    4.0       0    27        1     6.75      8      1      1      0   \n5    1.0       0     8        0     8.00      1      1      0      0   \n6    4.0       0    16        2     4.00     13      1      0      0   \n7    4.0       0    18        2     4.50     10      1      0      0   \n8    3.0       1    22        2     7.33      6      3      0      0   \n9    3.0       0    16        1     5.33      7      0      0      1   \n\n   No Balls  Balls Bowled  \n0         0            24  \n1         0            24  \n2         0            24  \n3         0            24  \n4         0            24  \n5         0             6  \n6         0            24  \n7         0            24  \n8         0            18  \n9         0            18  ",
      "text/html": "<div>\n<style scoped>\n    .dataframe tbody tr th:only-of-type {\n        vertical-align: middle;\n    }\n\n    .dataframe tbody tr th {\n        vertical-align: top;\n    }\n\n    .dataframe thead th {\n        text-align: right;\n    }\n</style>\n<table border=\"1\" class=\"dataframe\">\n  <thead>\n    <tr style=\"text-align: right;\">\n      <th></th>\n      <th>Match</th>\n      <th>Match_id</th>\n      <th>Bowling Team</th>\n      <th>Bowler Name</th>\n      <th>Overs</th>\n      <th>Maiden</th>\n      <th>Runs</th>\n      <th>Wickets</th>\n      <th>Economy</th>\n      <th>Zeros</th>\n      <th>Fours</th>\n      <th>Sixes</th>\n      <th>Wides</th>\n      <th>No Balls</th>\n      <th>Balls Bowled</th>\n    </tr>\n  </thead>\n  <tbody>\n    <tr>\n      <th>0</th>\n      <td>Namibia Vs Sri Lanka</td>\n      <td>T20I # 1823</td>\n      <td>Sri Lanka</td>\n      <td>Maheesh Theekshana</td>\n      <td>4.0</td>\n      <td>0</td>\n      <td>23</td>\n      <td>1</td>\n      <td>5.75</td>\n      <td>7</td>\n      <td>0</td>\n      <td>0</td>\n      <td>2</td>\n      <td>0</td>\n      <td>24</td>\n    </tr>\n    <tr>\n      <th>1</th>\n      <td>Namibia Vs Sri Lanka</td>\n      <td>T20I # 1823</td>\n      <td>Sri Lanka</td>\n      <td>Dushmantha Chameera</td>\n      <td>4.0</td>\n      <td>0</td>\n      <td>39</td>\n      <td>1</td>\n      <td>9.75</td>\n      <td>6</td>\n      <td>3</td>\n      <td>1</td>\n      <td>2</td>\n      <td>0</td>\n      <td>24</td>\n    </tr>\n    <tr>\n      <th>2</th>\n      <td>Namibia Vs Sri Lanka</td>\n      <td>T20I # 1823</td>\n      <td>Sri Lanka</td>\n      <td>Pramod Madushan</td>\n      <td>4.0</td>\n      <td>0</td>\n      <td>37</td>\n      <td>2</td>\n      <td>9.25</td>\n      <td>6</td>\n      <td>3</td>\n      <td>1</td>\n      <td>0</td>\n      <td>0</td>\n      <td>24</td>\n    </tr>\n    <tr>\n      <th>3</th>\n      <td>Namibia Vs Sri Lanka</td>\n      <td>T20I # 1823</td>\n      <td>Sri Lanka</td>\n      <td>Chamika Karunaratne</td>\n      <td>4.0</td>\n      <td>0</td>\n      <td>36</td>\n      <td>1</td>\n      <td>9.00</td>\n      <td>7</td>\n      <td>3</td>\n      <td>1</td>\n      <td>1</td>\n      <td>0</td>\n      <td>24</td>\n    </tr>\n    <tr>\n      <th>4</th>\n      <td>Namibia Vs Sri Lanka</td>\n      <td>T20I # 1823</td>\n      <td>Sri Lanka</td>\n      <td>Wanindu Hasaranga de Silva</td>\n      <td>4.0</td>\n      <td>0</td>\n      <td>27</td>\n      <td>1</td>\n      <td>6.75</td>\n      <td>8</td>\n      <td>1</td>\n      <td>1</td>\n      <td>0</td>\n      <td>0</td>\n      <td>24</td>\n    </tr>\n    <tr>\n      <th>5</th>\n      <td>Sri Lanka Vs Namibia</td>\n      <td>T20I # 1823</td>\n      <td>Namibia</td>\n      <td>Gerhard Erasmus</td>\n      <td>1.0</td>\n      <td>0</td>\n      <td>8</td>\n      <td>0</td>\n      <td>8.00</td>\n      <td>1</td>\n      <td>1</td>\n      <td>0</td>\n      <td>0</td>\n      <td>0</td>\n      <td>6</td>\n    </tr>\n    <tr>\n      <th>6</th>\n      <td>Sri Lanka Vs Namibia</td>\n      <td>T20I # 1823</td>\n      <td>Namibia</td>\n      <td>David Wiese</td>\n      <td>4.0</td>\n      <td>0</td>\n      <td>16</td>\n      <td>2</td>\n      <td>4.00</td>\n      <td>13</td>\n      <td>1</td>\n      <td>0</td>\n      <td>0</td>\n      <td>0</td>\n      <td>24</td>\n    </tr>\n    <tr>\n      <th>7</th>\n      <td>Sri Lanka Vs Namibia</td>\n      <td>T20I # 1823</td>\n      <td>Namibia</td>\n      <td>Bernard Scholtz</td>\n      <td>4.0</td>\n      <td>0</td>\n      <td>18</td>\n      <td>2</td>\n      <td>4.50</td>\n      <td>10</td>\n      <td>1</td>\n      <td>0</td>\n      <td>0</td>\n      <td>0</td>\n      <td>24</td>\n    </tr>\n    <tr>\n      <th>8</th>\n      <td>Sri Lanka Vs Namibia</td>\n      <td>T20I # 1823</td>\n      <td>Namibia</td>\n      <td>Ben Shikongo</td>\n      <td>3.0</td>\n      <td>1</td>\n      <td>22</td>\n      <td>2</td>\n      <td>7.33</td>\n      <td>6</td>\n      <td>3</td>\n      <td>0</td>\n      <td>0</td>\n      <td>0</td>\n      <td>18</td>\n    </tr>\n    <tr>\n      <th>9</th>\n      <td>Sri Lanka Vs Namibia</td>\n      <td>T20I # 1823</td>\n      <td>Namibia</td>\n      <td>JJ Smit</td>\n      <td>3.0</td>\n      <td>0</td>\n      <td>16</td>\n      <td>1</td>\n      <td>5.33</td>\n      <td>7</td>\n      <td>0</td>\n      <td>0</td>\n      <td>1</td>\n      <td>0</td>\n      <td>18</td>\n    </tr>\n  </tbody>\n</table>\n</div>"
     },
     "execution_count": 110,
     "metadata": {},
     "output_type": "execute_result"
    }
   ],
   "source": [
    "#Calculating total balls bowled by each bowler\n",
    "bowling_df_added_columns = bowling_df_name_cleaned.copy()\n",
    "Balls_bowled=[]\n",
    "for index,row in bowling_df_added_columns.iterrows():\n",
    "    overs_list = str(row['Overs']).split('.')\n",
    "    balls=(6*int(overs_list[0])) + (int(overs_list[1]))\n",
    "    Balls_bowled.append(balls)\n",
    "bowling_df_added_columns['Balls Bowled']=Balls_bowled\n",
    "bowling_df_added_columns.head(10)"
   ],
   "metadata": {
    "collapsed": false,
    "pycharm": {
     "name": "#%%\n"
    }
   }
  },
  {
   "cell_type": "code",
   "execution_count": 111,
   "outputs": [
    {
     "data": {
      "text/plain": "                  Match     Match_id Bowling Team                 Bowler Name  \\\n0  Namibia Vs Sri Lanka  T20I # 1823    Sri Lanka          Maheesh Theekshana   \n1  Namibia Vs Sri Lanka  T20I # 1823    Sri Lanka         Dushmantha Chameera   \n2  Namibia Vs Sri Lanka  T20I # 1823    Sri Lanka             Pramod Madushan   \n3  Namibia Vs Sri Lanka  T20I # 1823    Sri Lanka         Chamika Karunaratne   \n4  Namibia Vs Sri Lanka  T20I # 1823    Sri Lanka  Wanindu Hasaranga de Silva   \n5  Sri Lanka Vs Namibia  T20I # 1823      Namibia             Gerhard Erasmus   \n6  Sri Lanka Vs Namibia  T20I # 1823      Namibia                 David Wiese   \n7  Sri Lanka Vs Namibia  T20I # 1823      Namibia             Bernard Scholtz   \n8  Sri Lanka Vs Namibia  T20I # 1823      Namibia                Ben Shikongo   \n9  Sri Lanka Vs Namibia  T20I # 1823      Namibia                     JJ Smit   \n\n   Overs  Maiden  Runs  Wickets  Economy  Zeros  Fours  Sixes  Wides  \\\n0    4.0       0    23        1     5.75      7      0      0      2   \n1    4.0       0    39        1     9.75      6      3      1      2   \n2    4.0       0    37        2     9.25      6      3      1      0   \n3    4.0       0    36        1     9.00      7      3      1      1   \n4    4.0       0    27        1     6.75      8      1      1      0   \n5    1.0       0     8        0     8.00      1      1      0      0   \n6    4.0       0    16        2     4.00     13      1      0      0   \n7    4.0       0    18        2     4.50     10      1      0      0   \n8    3.0       1    22        2     7.33      6      3      0      0   \n9    3.0       0    16        1     5.33      7      0      0      1   \n\n   No Balls  Balls Bowled  Boundary Runs  \n0         0            24              0  \n1         0            24             18  \n2         0            24             18  \n3         0            24             18  \n4         0            24             10  \n5         0             6              4  \n6         0            24              4  \n7         0            24              4  \n8         0            18             12  \n9         0            18              0  ",
      "text/html": "<div>\n<style scoped>\n    .dataframe tbody tr th:only-of-type {\n        vertical-align: middle;\n    }\n\n    .dataframe tbody tr th {\n        vertical-align: top;\n    }\n\n    .dataframe thead th {\n        text-align: right;\n    }\n</style>\n<table border=\"1\" class=\"dataframe\">\n  <thead>\n    <tr style=\"text-align: right;\">\n      <th></th>\n      <th>Match</th>\n      <th>Match_id</th>\n      <th>Bowling Team</th>\n      <th>Bowler Name</th>\n      <th>Overs</th>\n      <th>Maiden</th>\n      <th>Runs</th>\n      <th>Wickets</th>\n      <th>Economy</th>\n      <th>Zeros</th>\n      <th>Fours</th>\n      <th>Sixes</th>\n      <th>Wides</th>\n      <th>No Balls</th>\n      <th>Balls Bowled</th>\n      <th>Boundary Runs</th>\n    </tr>\n  </thead>\n  <tbody>\n    <tr>\n      <th>0</th>\n      <td>Namibia Vs Sri Lanka</td>\n      <td>T20I # 1823</td>\n      <td>Sri Lanka</td>\n      <td>Maheesh Theekshana</td>\n      <td>4.0</td>\n      <td>0</td>\n      <td>23</td>\n      <td>1</td>\n      <td>5.75</td>\n      <td>7</td>\n      <td>0</td>\n      <td>0</td>\n      <td>2</td>\n      <td>0</td>\n      <td>24</td>\n      <td>0</td>\n    </tr>\n    <tr>\n      <th>1</th>\n      <td>Namibia Vs Sri Lanka</td>\n      <td>T20I # 1823</td>\n      <td>Sri Lanka</td>\n      <td>Dushmantha Chameera</td>\n      <td>4.0</td>\n      <td>0</td>\n      <td>39</td>\n      <td>1</td>\n      <td>9.75</td>\n      <td>6</td>\n      <td>3</td>\n      <td>1</td>\n      <td>2</td>\n      <td>0</td>\n      <td>24</td>\n      <td>18</td>\n    </tr>\n    <tr>\n      <th>2</th>\n      <td>Namibia Vs Sri Lanka</td>\n      <td>T20I # 1823</td>\n      <td>Sri Lanka</td>\n      <td>Pramod Madushan</td>\n      <td>4.0</td>\n      <td>0</td>\n      <td>37</td>\n      <td>2</td>\n      <td>9.25</td>\n      <td>6</td>\n      <td>3</td>\n      <td>1</td>\n      <td>0</td>\n      <td>0</td>\n      <td>24</td>\n      <td>18</td>\n    </tr>\n    <tr>\n      <th>3</th>\n      <td>Namibia Vs Sri Lanka</td>\n      <td>T20I # 1823</td>\n      <td>Sri Lanka</td>\n      <td>Chamika Karunaratne</td>\n      <td>4.0</td>\n      <td>0</td>\n      <td>36</td>\n      <td>1</td>\n      <td>9.00</td>\n      <td>7</td>\n      <td>3</td>\n      <td>1</td>\n      <td>1</td>\n      <td>0</td>\n      <td>24</td>\n      <td>18</td>\n    </tr>\n    <tr>\n      <th>4</th>\n      <td>Namibia Vs Sri Lanka</td>\n      <td>T20I # 1823</td>\n      <td>Sri Lanka</td>\n      <td>Wanindu Hasaranga de Silva</td>\n      <td>4.0</td>\n      <td>0</td>\n      <td>27</td>\n      <td>1</td>\n      <td>6.75</td>\n      <td>8</td>\n      <td>1</td>\n      <td>1</td>\n      <td>0</td>\n      <td>0</td>\n      <td>24</td>\n      <td>10</td>\n    </tr>\n    <tr>\n      <th>5</th>\n      <td>Sri Lanka Vs Namibia</td>\n      <td>T20I # 1823</td>\n      <td>Namibia</td>\n      <td>Gerhard Erasmus</td>\n      <td>1.0</td>\n      <td>0</td>\n      <td>8</td>\n      <td>0</td>\n      <td>8.00</td>\n      <td>1</td>\n      <td>1</td>\n      <td>0</td>\n      <td>0</td>\n      <td>0</td>\n      <td>6</td>\n      <td>4</td>\n    </tr>\n    <tr>\n      <th>6</th>\n      <td>Sri Lanka Vs Namibia</td>\n      <td>T20I # 1823</td>\n      <td>Namibia</td>\n      <td>David Wiese</td>\n      <td>4.0</td>\n      <td>0</td>\n      <td>16</td>\n      <td>2</td>\n      <td>4.00</td>\n      <td>13</td>\n      <td>1</td>\n      <td>0</td>\n      <td>0</td>\n      <td>0</td>\n      <td>24</td>\n      <td>4</td>\n    </tr>\n    <tr>\n      <th>7</th>\n      <td>Sri Lanka Vs Namibia</td>\n      <td>T20I # 1823</td>\n      <td>Namibia</td>\n      <td>Bernard Scholtz</td>\n      <td>4.0</td>\n      <td>0</td>\n      <td>18</td>\n      <td>2</td>\n      <td>4.50</td>\n      <td>10</td>\n      <td>1</td>\n      <td>0</td>\n      <td>0</td>\n      <td>0</td>\n      <td>24</td>\n      <td>4</td>\n    </tr>\n    <tr>\n      <th>8</th>\n      <td>Sri Lanka Vs Namibia</td>\n      <td>T20I # 1823</td>\n      <td>Namibia</td>\n      <td>Ben Shikongo</td>\n      <td>3.0</td>\n      <td>1</td>\n      <td>22</td>\n      <td>2</td>\n      <td>7.33</td>\n      <td>6</td>\n      <td>3</td>\n      <td>0</td>\n      <td>0</td>\n      <td>0</td>\n      <td>18</td>\n      <td>12</td>\n    </tr>\n    <tr>\n      <th>9</th>\n      <td>Sri Lanka Vs Namibia</td>\n      <td>T20I # 1823</td>\n      <td>Namibia</td>\n      <td>JJ Smit</td>\n      <td>3.0</td>\n      <td>0</td>\n      <td>16</td>\n      <td>1</td>\n      <td>5.33</td>\n      <td>7</td>\n      <td>0</td>\n      <td>0</td>\n      <td>1</td>\n      <td>0</td>\n      <td>18</td>\n      <td>0</td>\n    </tr>\n  </tbody>\n</table>\n</div>"
     },
     "execution_count": 111,
     "metadata": {},
     "output_type": "execute_result"
    }
   ],
   "source": [
    "#Calculating Boundary Runs\n",
    "boundary_runs=[]\n",
    "for index,row in bowling_df_added_columns.iterrows():\n",
    "    runs = (row['Fours']*4) + (row['Sixes']*6)\n",
    "    boundary_runs.append(runs)\n",
    "bowling_df_added_columns['Boundary Runs']=boundary_runs\n",
    "bowling_df_added_columns.head(10)"
   ],
   "metadata": {
    "collapsed": false,
    "pycharm": {
     "name": "#%%\n"
    }
   }
  },
  {
   "cell_type": "code",
   "execution_count": 112,
   "outputs": [],
   "source": [
    "bowling_df_cleaned = bowling_df_added_columns.copy()"
   ],
   "metadata": {
    "collapsed": false,
    "pycharm": {
     "name": "#%%\n"
    }
   }
  },
  {
   "cell_type": "markdown",
   "source": [
    "## Player Info df"
   ],
   "metadata": {
    "collapsed": false,
    "pycharm": {
     "name": "#%% md\n"
    }
   }
  },
  {
   "cell_type": "code",
   "execution_count": 113,
   "outputs": [
    {
     "data": {
      "text/plain": "            Team          Player Name  Age          Player Role  \\\n0    Afghanistan     Mohammad Nabi(c)   37           Allrounder   \n1    Afghanistan   Azmatullah Omarzai   22           Allrounder   \n2    Afghanistan      Darwish Rasooli   22     Top order Batter   \n3    Afghanistan         Fareed Ahmad   28               Bowler   \n4    Afghanistan     Fazalhaq Farooqi   21               Bowler   \n..           ...                  ...  ...                  ...   \n249     Zimbabwe  Blessing Muzarabani   25               Bowler   \n250     Zimbabwe      Richard Ngarava   24               Bowler   \n251     Zimbabwe        Milton Shumba   21     Top order Batter   \n252     Zimbabwe        Sikandar Raza   36   Batting Allrounder   \n253     Zimbabwe        Sean Williams   35  Middle order Batter   \n\n      Batting Style           Bowling Style  \n0    Right hand Bat      Right arm Offbreak  \n1    Right hand Bat   Right arm Medium fast  \n2    Right hand Bat      Right arm Offbreak  \n3     Left hand Bat    Left arm Fast medium  \n4    Right hand Bat    Left arm Fast medium  \n..              ...                     ...  \n249  Right hand Bat   Right arm Fast medium  \n250   Left hand Bat    Left arm Fast medium  \n251   Left hand Bat  Slow Left arm Orthodox  \n252  Right hand Bat      Right arm Offbreak  \n253   Left hand Bat  Slow Left arm Orthodox  \n\n[254 rows x 6 columns]",
      "text/html": "<div>\n<style scoped>\n    .dataframe tbody tr th:only-of-type {\n        vertical-align: middle;\n    }\n\n    .dataframe tbody tr th {\n        vertical-align: top;\n    }\n\n    .dataframe thead th {\n        text-align: right;\n    }\n</style>\n<table border=\"1\" class=\"dataframe\">\n  <thead>\n    <tr style=\"text-align: right;\">\n      <th></th>\n      <th>Team</th>\n      <th>Player Name</th>\n      <th>Age</th>\n      <th>Player Role</th>\n      <th>Batting Style</th>\n      <th>Bowling Style</th>\n    </tr>\n  </thead>\n  <tbody>\n    <tr>\n      <th>0</th>\n      <td>Afghanistan</td>\n      <td>Mohammad Nabi(c)</td>\n      <td>37</td>\n      <td>Allrounder</td>\n      <td>Right hand Bat</td>\n      <td>Right arm Offbreak</td>\n    </tr>\n    <tr>\n      <th>1</th>\n      <td>Afghanistan</td>\n      <td>Azmatullah Omarzai</td>\n      <td>22</td>\n      <td>Allrounder</td>\n      <td>Right hand Bat</td>\n      <td>Right arm Medium fast</td>\n    </tr>\n    <tr>\n      <th>2</th>\n      <td>Afghanistan</td>\n      <td>Darwish Rasooli</td>\n      <td>22</td>\n      <td>Top order Batter</td>\n      <td>Right hand Bat</td>\n      <td>Right arm Offbreak</td>\n    </tr>\n    <tr>\n      <th>3</th>\n      <td>Afghanistan</td>\n      <td>Fareed Ahmad</td>\n      <td>28</td>\n      <td>Bowler</td>\n      <td>Left hand Bat</td>\n      <td>Left arm Fast medium</td>\n    </tr>\n    <tr>\n      <th>4</th>\n      <td>Afghanistan</td>\n      <td>Fazalhaq Farooqi</td>\n      <td>21</td>\n      <td>Bowler</td>\n      <td>Right hand Bat</td>\n      <td>Left arm Fast medium</td>\n    </tr>\n    <tr>\n      <th>...</th>\n      <td>...</td>\n      <td>...</td>\n      <td>...</td>\n      <td>...</td>\n      <td>...</td>\n      <td>...</td>\n    </tr>\n    <tr>\n      <th>249</th>\n      <td>Zimbabwe</td>\n      <td>Blessing Muzarabani</td>\n      <td>25</td>\n      <td>Bowler</td>\n      <td>Right hand Bat</td>\n      <td>Right arm Fast medium</td>\n    </tr>\n    <tr>\n      <th>250</th>\n      <td>Zimbabwe</td>\n      <td>Richard Ngarava</td>\n      <td>24</td>\n      <td>Bowler</td>\n      <td>Left hand Bat</td>\n      <td>Left arm Fast medium</td>\n    </tr>\n    <tr>\n      <th>251</th>\n      <td>Zimbabwe</td>\n      <td>Milton Shumba</td>\n      <td>21</td>\n      <td>Top order Batter</td>\n      <td>Left hand Bat</td>\n      <td>Slow Left arm Orthodox</td>\n    </tr>\n    <tr>\n      <th>252</th>\n      <td>Zimbabwe</td>\n      <td>Sikandar Raza</td>\n      <td>36</td>\n      <td>Batting Allrounder</td>\n      <td>Right hand Bat</td>\n      <td>Right arm Offbreak</td>\n    </tr>\n    <tr>\n      <th>253</th>\n      <td>Zimbabwe</td>\n      <td>Sean Williams</td>\n      <td>35</td>\n      <td>Middle order Batter</td>\n      <td>Left hand Bat</td>\n      <td>Slow Left arm Orthodox</td>\n    </tr>\n  </tbody>\n</table>\n<p>254 rows × 6 columns</p>\n</div>"
     },
     "execution_count": 113,
     "metadata": {},
     "output_type": "execute_result"
    }
   ],
   "source": [
    "player_info_df"
   ],
   "metadata": {
    "collapsed": false,
    "pycharm": {
     "name": "#%%\n"
    }
   }
  },
  {
   "cell_type": "code",
   "execution_count": 114,
   "outputs": [
    {
     "data": {
      "text/plain": "           Team         Player Name  Age          Player Role   Batting Style  \\\n0   Afghanistan    Mohammad Nabi(c)   37           Allrounder  Right hand Bat   \n1   Afghanistan  Azmatullah Omarzai   22           Allrounder  Right hand Bat   \n2   Afghanistan     Darwish Rasooli   22     Top order Batter  Right hand Bat   \n3   Afghanistan        Fareed Ahmad   28               Bowler   Left hand Bat   \n4   Afghanistan    Fazalhaq Farooqi   21               Bowler  Right hand Bat   \n5   Afghanistan       Gulbadin Naib   31   Batting Allrounder  Right hand Bat   \n6   Afghanistan      Ibrahim Zadran   20       Opening Batter  Right hand Bat   \n7   Afghanistan     Mohammad Saleem   20               Bowler  Right hand Bat   \n8   Afghanistan    Mujeeb Ur Rahman   21               Bowler  Right hand Bat   \n9   Afghanistan   Najibullah Zadran   29  Middle order Batter   Left hand Bat   \n10  Afghanistan       Naveen-ul-Haq   22               Bowler  Right hand Bat   \n11  Afghanistan          Qais Ahmad   22               Bowler  Right hand Bat   \n12  Afghanistan  Rahmanullah Gurbaz   20  Wicketkeeper Batter             NaN   \n13  Afghanistan         Rashid Khan   23   Bowling Allrounder  Right hand Bat   \n14  Afghanistan         Usman Ghani   25       Opening Batter             NaN   \n15  Afghanistan   Hazratullah Zazai   24       Opening Batter   Left hand Bat   \n16    Australia      Aaron Finch(c)   35     Top order Batter  Right hand Bat   \n17    Australia     Pat Cummins(vc)   29               Bowler  Right hand Bat   \n18    Australia         Ashton Agar   28               Bowler   Left hand Bat   \n19    Australia           Tim David   26  Middle order Batter  Right hand Bat   \n20    Australia       Cameron Green   23   Batting Allrounder  Right hand Bat   \n21    Australia      Josh Hazlewood   31               Bowler   Left hand Bat   \n22    Australia      Mitchell Marsh   30           Allrounder  Right hand Bat   \n23    Australia       Glenn Maxwell   33   Batting Allrounder  Right hand Bat   \n24    Australia     Kane Richardson   31               Bowler  Right hand Bat   \n\n             Bowling Style  \n0       Right arm Offbreak  \n1    Right arm Medium fast  \n2       Right arm Offbreak  \n3     Left arm Fast medium  \n4     Left arm Fast medium  \n5    Right arm Medium fast  \n6    Right arm Medium fast  \n7           Right arm Fast  \n8       Right arm Offbreak  \n9       Right arm Offbreak  \n10   Right arm Medium fast  \n11                Legbreak  \n12                     NaN  \n13         Legbreak Googly  \n14                     NaN  \n15  Slow Left arm Orthodox  \n16  Slow Left arm Orthodox  \n17          Right arm Fast  \n18  Slow Left arm Orthodox  \n19      Right arm Offbreak  \n20   Right arm Fast medium  \n21   Right arm Fast medium  \n22        Right arm Medium  \n23      Right arm Offbreak  \n24   Right arm Fast medium  ",
      "text/html": "<div>\n<style scoped>\n    .dataframe tbody tr th:only-of-type {\n        vertical-align: middle;\n    }\n\n    .dataframe tbody tr th {\n        vertical-align: top;\n    }\n\n    .dataframe thead th {\n        text-align: right;\n    }\n</style>\n<table border=\"1\" class=\"dataframe\">\n  <thead>\n    <tr style=\"text-align: right;\">\n      <th></th>\n      <th>Team</th>\n      <th>Player Name</th>\n      <th>Age</th>\n      <th>Player Role</th>\n      <th>Batting Style</th>\n      <th>Bowling Style</th>\n    </tr>\n  </thead>\n  <tbody>\n    <tr>\n      <th>0</th>\n      <td>Afghanistan</td>\n      <td>Mohammad Nabi(c)</td>\n      <td>37</td>\n      <td>Allrounder</td>\n      <td>Right hand Bat</td>\n      <td>Right arm Offbreak</td>\n    </tr>\n    <tr>\n      <th>1</th>\n      <td>Afghanistan</td>\n      <td>Azmatullah Omarzai</td>\n      <td>22</td>\n      <td>Allrounder</td>\n      <td>Right hand Bat</td>\n      <td>Right arm Medium fast</td>\n    </tr>\n    <tr>\n      <th>2</th>\n      <td>Afghanistan</td>\n      <td>Darwish Rasooli</td>\n      <td>22</td>\n      <td>Top order Batter</td>\n      <td>Right hand Bat</td>\n      <td>Right arm Offbreak</td>\n    </tr>\n    <tr>\n      <th>3</th>\n      <td>Afghanistan</td>\n      <td>Fareed Ahmad</td>\n      <td>28</td>\n      <td>Bowler</td>\n      <td>Left hand Bat</td>\n      <td>Left arm Fast medium</td>\n    </tr>\n    <tr>\n      <th>4</th>\n      <td>Afghanistan</td>\n      <td>Fazalhaq Farooqi</td>\n      <td>21</td>\n      <td>Bowler</td>\n      <td>Right hand Bat</td>\n      <td>Left arm Fast medium</td>\n    </tr>\n    <tr>\n      <th>5</th>\n      <td>Afghanistan</td>\n      <td>Gulbadin Naib</td>\n      <td>31</td>\n      <td>Batting Allrounder</td>\n      <td>Right hand Bat</td>\n      <td>Right arm Medium fast</td>\n    </tr>\n    <tr>\n      <th>6</th>\n      <td>Afghanistan</td>\n      <td>Ibrahim Zadran</td>\n      <td>20</td>\n      <td>Opening Batter</td>\n      <td>Right hand Bat</td>\n      <td>Right arm Medium fast</td>\n    </tr>\n    <tr>\n      <th>7</th>\n      <td>Afghanistan</td>\n      <td>Mohammad Saleem</td>\n      <td>20</td>\n      <td>Bowler</td>\n      <td>Right hand Bat</td>\n      <td>Right arm Fast</td>\n    </tr>\n    <tr>\n      <th>8</th>\n      <td>Afghanistan</td>\n      <td>Mujeeb Ur Rahman</td>\n      <td>21</td>\n      <td>Bowler</td>\n      <td>Right hand Bat</td>\n      <td>Right arm Offbreak</td>\n    </tr>\n    <tr>\n      <th>9</th>\n      <td>Afghanistan</td>\n      <td>Najibullah Zadran</td>\n      <td>29</td>\n      <td>Middle order Batter</td>\n      <td>Left hand Bat</td>\n      <td>Right arm Offbreak</td>\n    </tr>\n    <tr>\n      <th>10</th>\n      <td>Afghanistan</td>\n      <td>Naveen-ul-Haq</td>\n      <td>22</td>\n      <td>Bowler</td>\n      <td>Right hand Bat</td>\n      <td>Right arm Medium fast</td>\n    </tr>\n    <tr>\n      <th>11</th>\n      <td>Afghanistan</td>\n      <td>Qais Ahmad</td>\n      <td>22</td>\n      <td>Bowler</td>\n      <td>Right hand Bat</td>\n      <td>Legbreak</td>\n    </tr>\n    <tr>\n      <th>12</th>\n      <td>Afghanistan</td>\n      <td>Rahmanullah Gurbaz</td>\n      <td>20</td>\n      <td>Wicketkeeper Batter</td>\n      <td>NaN</td>\n      <td>NaN</td>\n    </tr>\n    <tr>\n      <th>13</th>\n      <td>Afghanistan</td>\n      <td>Rashid Khan</td>\n      <td>23</td>\n      <td>Bowling Allrounder</td>\n      <td>Right hand Bat</td>\n      <td>Legbreak Googly</td>\n    </tr>\n    <tr>\n      <th>14</th>\n      <td>Afghanistan</td>\n      <td>Usman Ghani</td>\n      <td>25</td>\n      <td>Opening Batter</td>\n      <td>NaN</td>\n      <td>NaN</td>\n    </tr>\n    <tr>\n      <th>15</th>\n      <td>Afghanistan</td>\n      <td>Hazratullah Zazai</td>\n      <td>24</td>\n      <td>Opening Batter</td>\n      <td>Left hand Bat</td>\n      <td>Slow Left arm Orthodox</td>\n    </tr>\n    <tr>\n      <th>16</th>\n      <td>Australia</td>\n      <td>Aaron Finch(c)</td>\n      <td>35</td>\n      <td>Top order Batter</td>\n      <td>Right hand Bat</td>\n      <td>Slow Left arm Orthodox</td>\n    </tr>\n    <tr>\n      <th>17</th>\n      <td>Australia</td>\n      <td>Pat Cummins(vc)</td>\n      <td>29</td>\n      <td>Bowler</td>\n      <td>Right hand Bat</td>\n      <td>Right arm Fast</td>\n    </tr>\n    <tr>\n      <th>18</th>\n      <td>Australia</td>\n      <td>Ashton Agar</td>\n      <td>28</td>\n      <td>Bowler</td>\n      <td>Left hand Bat</td>\n      <td>Slow Left arm Orthodox</td>\n    </tr>\n    <tr>\n      <th>19</th>\n      <td>Australia</td>\n      <td>Tim David</td>\n      <td>26</td>\n      <td>Middle order Batter</td>\n      <td>Right hand Bat</td>\n      <td>Right arm Offbreak</td>\n    </tr>\n    <tr>\n      <th>20</th>\n      <td>Australia</td>\n      <td>Cameron Green</td>\n      <td>23</td>\n      <td>Batting Allrounder</td>\n      <td>Right hand Bat</td>\n      <td>Right arm Fast medium</td>\n    </tr>\n    <tr>\n      <th>21</th>\n      <td>Australia</td>\n      <td>Josh Hazlewood</td>\n      <td>31</td>\n      <td>Bowler</td>\n      <td>Left hand Bat</td>\n      <td>Right arm Fast medium</td>\n    </tr>\n    <tr>\n      <th>22</th>\n      <td>Australia</td>\n      <td>Mitchell Marsh</td>\n      <td>30</td>\n      <td>Allrounder</td>\n      <td>Right hand Bat</td>\n      <td>Right arm Medium</td>\n    </tr>\n    <tr>\n      <th>23</th>\n      <td>Australia</td>\n      <td>Glenn Maxwell</td>\n      <td>33</td>\n      <td>Batting Allrounder</td>\n      <td>Right hand Bat</td>\n      <td>Right arm Offbreak</td>\n    </tr>\n    <tr>\n      <th>24</th>\n      <td>Australia</td>\n      <td>Kane Richardson</td>\n      <td>31</td>\n      <td>Bowler</td>\n      <td>Right hand Bat</td>\n      <td>Right arm Fast medium</td>\n    </tr>\n  </tbody>\n</table>\n</div>"
     },
     "execution_count": 114,
     "metadata": {},
     "output_type": "execute_result"
    }
   ],
   "source": [
    "#Cleaning the Player Name column\n",
    "player_info_df_name_cleaned = player_info_df.copy()\n",
    "player_info_df_name_cleaned['Player Name'] = player_info_df_name_cleaned['Player Name'].apply(lambda x: re.sub(\"[^A-Z()\\s-]\", \"\", x,0,re.IGNORECASE)) #Removing special characters\n",
    "player_info_df_name_cleaned['Player Name'] = player_info_df_name_cleaned['Player Name'].apply(lambda x: re.sub(\"([A-Za-z\\s-]+)Withdrawn player\", r'\\1', x,0,re.IGNORECASE))\n",
    "player_info_df_name_cleaned.head(25)"
   ],
   "metadata": {
    "collapsed": false,
    "pycharm": {
     "name": "#%%\n"
    }
   }
  },
  {
   "cell_type": "code",
   "execution_count": 115,
   "outputs": [
    {
     "data": {
      "text/plain": "31"
     },
     "execution_count": 115,
     "metadata": {},
     "output_type": "execute_result"
    }
   ],
   "source": [
    "#Loading csv file with image link and description of players\n",
    "images_df = pd.read_csv('D:/DataAnalysisProjects-master/DataAnalysisProjects-master/5_CricketT20Analytics/data_collection/t20_csv_files/dim_players.csv')\n",
    "images_df.image.notnull().sum()"
   ],
   "metadata": {
    "collapsed": false,
    "pycharm": {
     "name": "#%%\n"
    }
   }
  },
  {
   "cell_type": "code",
   "execution_count": 116,
   "outputs": [],
   "source": [
    "#Building images dataframe to merge with player info\n",
    "images_df['Player Name'] = images_df['name']\n",
    "images_merge = images_df[['Player Name','image']].copy()"
   ],
   "metadata": {
    "collapsed": false,
    "pycharm": {
     "name": "#%%\n"
    }
   }
  },
  {
   "cell_type": "code",
   "execution_count": 117,
   "outputs": [
    {
     "data": {
      "text/plain": "31"
     },
     "execution_count": 117,
     "metadata": {},
     "output_type": "execute_result"
    }
   ],
   "source": [
    "player_info_merged = pd.merge(left=player_info_df_name_cleaned,right=images_merge,on='Player Name',how='left')\n",
    "player_info_merged['image'].notnull().sum()"
   ],
   "metadata": {
    "collapsed": false,
    "pycharm": {
     "name": "#%%\n"
    }
   }
  },
  {
   "cell_type": "code",
   "execution_count": 118,
   "outputs": [
    {
     "name": "stderr",
     "output_type": "stream",
     "text": [
      "C:\\Users\\yashd\\AppData\\Roaming\\Python\\Python39\\site-packages\\pandas\\core\\indexing.py:1637: SettingWithCopyWarning: \n",
      "A value is trying to be set on a copy of a slice from a DataFrame\n",
      "\n",
      "See the caveats in the documentation: https://pandas.pydata.org/pandas-docs/stable/user_guide/indexing.html#returning-a-view-versus-a-copy\n",
      "  self._setitem_single_block(indexer, value, name)\n"
     ]
    },
    {
     "data": {
      "text/plain": "            Team          Player Name  Age          Player Role  \\\n0    Afghanistan        Mohammad Nabi   37           Allrounder   \n1    Afghanistan   Azmatullah Omarzai   22           Allrounder   \n2    Afghanistan      Darwish Rasooli   22     Top order Batter   \n3    Afghanistan         Fareed Ahmad   28               Bowler   \n4    Afghanistan     Fazalhaq Farooqi   21               Bowler   \n..           ...                  ...  ...                  ...   \n249     Zimbabwe  Blessing Muzarabani   25               Bowler   \n250     Zimbabwe      Richard Ngarava   24               Bowler   \n251     Zimbabwe        Milton Shumba   21     Top order Batter   \n252     Zimbabwe        Sikandar Raza   36   Batting Allrounder   \n253     Zimbabwe        Sean Williams   35  Middle order Batter   \n\n      Batting Style           Bowling Style  \\\n0    Right hand Bat      Right arm Offbreak   \n1    Right hand Bat   Right arm Medium fast   \n2    Right hand Bat      Right arm Offbreak   \n3     Left hand Bat    Left arm Fast medium   \n4    Right hand Bat    Left arm Fast medium   \n..              ...                     ...   \n249  Right hand Bat   Right arm Fast medium   \n250   Left hand Bat    Left arm Fast medium   \n251   Left hand Bat  Slow Left arm Orthodox   \n252  Right hand Bat      Right arm Offbreak   \n253   Left hand Bat  Slow Left arm Orthodox   \n\n                                                 image  \n0                                                  NaN  \n1                                                  NaN  \n2                                                  NaN  \n3                                                  NaN  \n4                                                  NaN  \n..                                                 ...  \n249                                                NaN  \n250                                                NaN  \n251                                                NaN  \n252  https://img1.hscicdn.com/image/upload/f_auto,t...  \n253                                                NaN  \n\n[254 rows x 7 columns]",
      "text/html": "<div>\n<style scoped>\n    .dataframe tbody tr th:only-of-type {\n        vertical-align: middle;\n    }\n\n    .dataframe tbody tr th {\n        vertical-align: top;\n    }\n\n    .dataframe thead th {\n        text-align: right;\n    }\n</style>\n<table border=\"1\" class=\"dataframe\">\n  <thead>\n    <tr style=\"text-align: right;\">\n      <th></th>\n      <th>Team</th>\n      <th>Player Name</th>\n      <th>Age</th>\n      <th>Player Role</th>\n      <th>Batting Style</th>\n      <th>Bowling Style</th>\n      <th>image</th>\n    </tr>\n  </thead>\n  <tbody>\n    <tr>\n      <th>0</th>\n      <td>Afghanistan</td>\n      <td>Mohammad Nabi</td>\n      <td>37</td>\n      <td>Allrounder</td>\n      <td>Right hand Bat</td>\n      <td>Right arm Offbreak</td>\n      <td>NaN</td>\n    </tr>\n    <tr>\n      <th>1</th>\n      <td>Afghanistan</td>\n      <td>Azmatullah Omarzai</td>\n      <td>22</td>\n      <td>Allrounder</td>\n      <td>Right hand Bat</td>\n      <td>Right arm Medium fast</td>\n      <td>NaN</td>\n    </tr>\n    <tr>\n      <th>2</th>\n      <td>Afghanistan</td>\n      <td>Darwish Rasooli</td>\n      <td>22</td>\n      <td>Top order Batter</td>\n      <td>Right hand Bat</td>\n      <td>Right arm Offbreak</td>\n      <td>NaN</td>\n    </tr>\n    <tr>\n      <th>3</th>\n      <td>Afghanistan</td>\n      <td>Fareed Ahmad</td>\n      <td>28</td>\n      <td>Bowler</td>\n      <td>Left hand Bat</td>\n      <td>Left arm Fast medium</td>\n      <td>NaN</td>\n    </tr>\n    <tr>\n      <th>4</th>\n      <td>Afghanistan</td>\n      <td>Fazalhaq Farooqi</td>\n      <td>21</td>\n      <td>Bowler</td>\n      <td>Right hand Bat</td>\n      <td>Left arm Fast medium</td>\n      <td>NaN</td>\n    </tr>\n    <tr>\n      <th>...</th>\n      <td>...</td>\n      <td>...</td>\n      <td>...</td>\n      <td>...</td>\n      <td>...</td>\n      <td>...</td>\n      <td>...</td>\n    </tr>\n    <tr>\n      <th>249</th>\n      <td>Zimbabwe</td>\n      <td>Blessing Muzarabani</td>\n      <td>25</td>\n      <td>Bowler</td>\n      <td>Right hand Bat</td>\n      <td>Right arm Fast medium</td>\n      <td>NaN</td>\n    </tr>\n    <tr>\n      <th>250</th>\n      <td>Zimbabwe</td>\n      <td>Richard Ngarava</td>\n      <td>24</td>\n      <td>Bowler</td>\n      <td>Left hand Bat</td>\n      <td>Left arm Fast medium</td>\n      <td>NaN</td>\n    </tr>\n    <tr>\n      <th>251</th>\n      <td>Zimbabwe</td>\n      <td>Milton Shumba</td>\n      <td>21</td>\n      <td>Top order Batter</td>\n      <td>Left hand Bat</td>\n      <td>Slow Left arm Orthodox</td>\n      <td>NaN</td>\n    </tr>\n    <tr>\n      <th>252</th>\n      <td>Zimbabwe</td>\n      <td>Sikandar Raza</td>\n      <td>36</td>\n      <td>Batting Allrounder</td>\n      <td>Right hand Bat</td>\n      <td>Right arm Offbreak</td>\n      <td>https://img1.hscicdn.com/image/upload/f_auto,t...</td>\n    </tr>\n    <tr>\n      <th>253</th>\n      <td>Zimbabwe</td>\n      <td>Sean Williams</td>\n      <td>35</td>\n      <td>Middle order Batter</td>\n      <td>Left hand Bat</td>\n      <td>Slow Left arm Orthodox</td>\n      <td>NaN</td>\n    </tr>\n  </tbody>\n</table>\n<p>254 rows × 7 columns</p>\n</div>"
     },
     "execution_count": 118,
     "metadata": {},
     "output_type": "execute_result"
    }
   ],
   "source": [
    "#Removing (c) from the names\n",
    "player_info_cleaned = player_info_merged.copy()\n",
    "for index,name in enumerate(player_info_cleaned['Player Name']):\n",
    "    cleaned_name = name\n",
    "    if re.search('[A-Za-z\\-\\s]+\\([a-z]+\\)',name):\n",
    "        cleaned_name = ' '.join(re.findall(\"([A-Za-z\\-\\s]+)\\([a-z]+\\)\",name,re.IGNORECASE))\n",
    "    cleaned_name=cleaned_name.strip()\n",
    "    player_info_cleaned['Player Name'].loc[index]=cleaned_name\n",
    "\n",
    "player_info_cleaned"
   ],
   "metadata": {
    "collapsed": false,
    "pycharm": {
     "name": "#%%\n"
    }
   }
  },
  {
   "cell_type": "markdown",
   "source": [
    "## Exporting all the Dataframes as csv files"
   ],
   "metadata": {
    "collapsed": false,
    "pycharm": {
     "name": "#%% md\n"
    }
   }
  },
  {
   "cell_type": "code",
   "execution_count": 119,
   "outputs": [],
   "source": [
    "batting_df_cleaned.to_csv('batting_cleaned.csv',index=False)"
   ],
   "metadata": {
    "collapsed": false,
    "pycharm": {
     "name": "#%%\n"
    }
   }
  },
  {
   "cell_type": "code",
   "execution_count": 120,
   "outputs": [],
   "source": [
    "bowling_df_cleaned.to_csv('bowling_cleaned.csv',index=False)"
   ],
   "metadata": {
    "collapsed": false,
    "pycharm": {
     "name": "#%%\n"
    }
   }
  },
  {
   "cell_type": "code",
   "execution_count": 121,
   "outputs": [],
   "source": [
    "results_df.to_csv('match_results_cleaned.csv',index=False)"
   ],
   "metadata": {
    "collapsed": false,
    "pycharm": {
     "name": "#%%\n"
    }
   }
  },
  {
   "cell_type": "code",
   "execution_count": 122,
   "outputs": [],
   "source": [
    "player_info_cleaned.to_csv('player_info_cleaned.csv', index=False)"
   ],
   "metadata": {
    "collapsed": false,
    "pycharm": {
     "name": "#%%\n"
    }
   }
  }
 ],
 "metadata": {
  "kernelspec": {
   "display_name": "Python 3",
   "language": "python",
   "name": "python3"
  },
  "language_info": {
   "codemirror_mode": {
    "name": "ipython",
    "version": 2
   },
   "file_extension": ".py",
   "mimetype": "text/x-python",
   "name": "python",
   "nbconvert_exporter": "python",
   "pygments_lexer": "ipython2",
   "version": "2.7.6"
  }
 },
 "nbformat": 4,
 "nbformat_minor": 0
}