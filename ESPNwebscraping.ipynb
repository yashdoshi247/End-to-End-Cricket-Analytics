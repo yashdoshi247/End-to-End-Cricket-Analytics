{
 "cells": [
  {
   "cell_type": "code",
   "execution_count": 1,
   "outputs": [],
   "source": [
    "import re\n",
    "\n",
    "from bs4 import BeautifulSoup\n",
    "import requests as r\n",
    "import pandas as pd\n",
    "import warnings\n",
    "\n",
    "warnings.filterwarnings('ignore')\n",
    "\n",
    "from selenium import webdriver\n",
    "from selenium.webdriver.chrome.options import Options\n",
    "from selenium.webdriver.common.by import By"
   ],
   "metadata": {
    "collapsed": false,
    "pycharm": {
     "name": "#%%\n"
    }
   }
  },
  {
   "cell_type": "markdown",
   "source": [
    "## Match results\n",
    "\n",
    "Fetching match results for 45 matches of icc t20 world cup using BeautifulSoup"
   ],
   "metadata": {
    "collapsed": false,
    "pycharm": {
     "name": "#%% md\n"
    }
   }
  },
  {
   "cell_type": "code",
   "execution_count": 2,
   "outputs": [],
   "source": [
    "url = 'https://stats.espncricinfo.com/ci/engine/records/team/match_results.html?id=14450;type=tournament'\n",
    "page = r.get(url).text\n",
    "soup = BeautifulSoup(page,'html.parser')"
   ],
   "metadata": {
    "collapsed": false,
    "pycharm": {
     "name": "#%%\n"
    }
   }
  },
  {
   "cell_type": "code",
   "execution_count": 3,
   "outputs": [
    {
     "name": "stdout",
     "output_type": "stream",
     "text": [
      "Number of matches: 45\n"
     ]
    }
   ],
   "source": [
    "match_results = []\n",
    "matches = soup.find_all('tr',class_=\"data1\")\n",
    "\n",
    "for match in matches:\n",
    "    match_data=[]\n",
    "    data = match.find_all('td')\n",
    "    for d in data:\n",
    "        if d.string is None:\n",
    "            match_data.append('null')\n",
    "            continue\n",
    "        match_data.append(d.string.strip())\n",
    "        if len(match_data)==7:\n",
    "            link = d.find('a',class_='data-link')\n",
    "            match_data.append(link['href'])\n",
    "    match_results.append(match_data)\n",
    "print(f\"Number of matches: {len(match_results)}\")"
   ],
   "metadata": {
    "collapsed": false,
    "pycharm": {
     "name": "#%%\n"
    }
   }
  },
  {
   "cell_type": "code",
   "execution_count": 5,
   "outputs": [
    {
     "data": {
      "text/plain": "          Team 1        Team 2        Winner      Margin     Ground  \\\n0        Namibia     Sri Lanka       Namibia     55 runs    Geelong   \n1    Netherlands        U.A.E.   Netherlands   3 wickets    Geelong   \n2       Scotland   West Indies      Scotland     42 runs     Hobart   \n3        Ireland      Zimbabwe      Zimbabwe     31 runs     Hobart   \n4        Namibia   Netherlands   Netherlands   5 wickets    Geelong   \n5      Sri Lanka        U.A.E.     Sri Lanka     79 runs    Geelong   \n6        Ireland      Scotland       Ireland   6 wickets     Hobart   \n7    West Indies      Zimbabwe   West Indies     31 runs     Hobart   \n8    Netherlands     Sri Lanka     Sri Lanka     16 runs    Geelong   \n9        Namibia        U.A.E.        U.A.E.      7 runs    Geelong   \n10       Ireland   West Indies       Ireland   9 wickets     Hobart   \n11      Scotland      Zimbabwe      Zimbabwe   5 wickets     Hobart   \n12     Australia   New Zealand   New Zealand     89 runs     Sydney   \n13   Afghanistan       England       England   5 wickets      Perth   \n14       Ireland     Sri Lanka     Sri Lanka   9 wickets     Hobart   \n15         India      Pakistan         India   4 wickets  Melbourne   \n16    Bangladesh   Netherlands    Bangladesh      9 runs     Hobart   \n17  South Africa      Zimbabwe     no result        null     Hobart   \n18     Australia     Sri Lanka     Australia   7 wickets      Perth   \n19       England       Ireland       Ireland      5 runs  Melbourne   \n20   Afghanistan   New Zealand     abandoned        null  Melbourne   \n21    Bangladesh  South Africa  South Africa    104 runs     Sydney   \n22         India   Netherlands         India     56 runs     Sydney   \n23      Pakistan      Zimbabwe      Zimbabwe       1 run      Perth   \n24   Afghanistan       Ireland     abandoned        null  Melbourne   \n25     Australia       England     abandoned        null  Melbourne   \n26   New Zealand     Sri Lanka   New Zealand     65 runs     Sydney   \n27    Bangladesh      Zimbabwe    Bangladesh      3 runs   Brisbane   \n28   Netherlands      Pakistan      Pakistan   6 wickets      Perth   \n29         India  South Africa  South Africa   5 wickets      Perth   \n30     Australia       Ireland     Australia     42 runs   Brisbane   \n31   Afghanistan     Sri Lanka     Sri Lanka   6 wickets   Brisbane   \n32       England   New Zealand       England     20 runs   Brisbane   \n33   Netherlands      Zimbabwe   Netherlands   5 wickets   Adelaide   \n34    Bangladesh         India         India      5 runs   Adelaide   \n35      Pakistan  South Africa      Pakistan     33 runs     Sydney   \n36       Ireland   New Zealand   New Zealand     35 runs   Adelaide   \n37     Australia   Afghanistan     Australia      4 runs   Adelaide   \n38       England     Sri Lanka       England   4 wickets     Sydney   \n39   Netherlands  South Africa   Netherlands     13 runs   Adelaide   \n40    Bangladesh      Pakistan      Pakistan   5 wickets   Adelaide   \n41         India      Zimbabwe         India     71 runs  Melbourne   \n42   New Zealand      Pakistan      Pakistan   7 wickets     Sydney   \n43       England         India       England  10 wickets   Adelaide   \n44       England      Pakistan       England   5 wickets  Melbourne   \n\n      Match Date     Scorecard                     Match link  \n0   Oct 16, 2022   T20I # 1823  /ci/engine/match/1298135.html  \n1   Oct 16, 2022   T20I # 1825  /ci/engine/match/1298136.html  \n2   Oct 17, 2022   T20I # 1826  /ci/engine/match/1298137.html  \n3   Oct 17, 2022   T20I # 1828  /ci/engine/match/1298138.html  \n4   Oct 18, 2022   T20I # 1830  /ci/engine/match/1298139.html  \n5   Oct 18, 2022   T20I # 1832  /ci/engine/match/1298140.html  \n6   Oct 19, 2022   T20I # 1833  /ci/engine/match/1298141.html  \n7   Oct 19, 2022   T20I # 1834  /ci/engine/match/1298142.html  \n8   Oct 20, 2022   T20I # 1835  /ci/engine/match/1298143.html  \n9   Oct 20, 2022   T20I # 1836  /ci/engine/match/1298144.html  \n10  Oct 21, 2022   T20I # 1837  /ci/engine/match/1298145.html  \n11  Oct 21, 2022   T20I # 1838  /ci/engine/match/1298146.html  \n12  Oct 22, 2022   T20I # 1839  /ci/engine/match/1298147.html  \n13  Oct 22, 2022   T20I # 1840  /ci/engine/match/1298148.html  \n14  Oct 23, 2022   T20I # 1841  /ci/engine/match/1298149.html  \n15  Oct 23, 2022   T20I # 1842  /ci/engine/match/1298150.html  \n16  Oct 24, 2022   T20I # 1843  /ci/engine/match/1298151.html  \n17  Oct 24, 2022   T20I # 1844  /ci/engine/match/1298152.html  \n18  Oct 25, 2022   T20I # 1845  /ci/engine/match/1298153.html  \n19  Oct 26, 2022   T20I # 1846  /ci/engine/match/1298154.html  \n20  Oct 26, 2022  T20I # 1846a  /ci/engine/match/1298155.html  \n21  Oct 27, 2022   T20I # 1847  /ci/engine/match/1298156.html  \n22  Oct 27, 2022   T20I # 1848  /ci/engine/match/1298157.html  \n23  Oct 27, 2022   T20I # 1849  /ci/engine/match/1298158.html  \n24  Oct 28, 2022  T20I # 1849a  /ci/engine/match/1298159.html  \n25  Oct 28, 2022  T20I # 1849b  /ci/engine/match/1298160.html  \n26  Oct 29, 2022   T20I # 1850  /ci/engine/match/1298161.html  \n27  Oct 30, 2022   T20I # 1851  /ci/engine/match/1298162.html  \n28  Oct 30, 2022   T20I # 1852  /ci/engine/match/1298163.html  \n29  Oct 30, 2022   T20I # 1853  /ci/engine/match/1298164.html  \n30  Oct 31, 2022   T20I # 1855  /ci/engine/match/1298165.html  \n31   Nov 1, 2022   T20I # 1856  /ci/engine/match/1298166.html  \n32   Nov 1, 2022   T20I # 1858  /ci/engine/match/1298167.html  \n33   Nov 2, 2022   T20I # 1859  /ci/engine/match/1298168.html  \n34   Nov 2, 2022   T20I # 1860  /ci/engine/match/1298169.html  \n35   Nov 3, 2022   T20I # 1861  /ci/engine/match/1298170.html  \n36   Nov 4, 2022   T20I # 1862  /ci/engine/match/1298171.html  \n37   Nov 4, 2022   T20I # 1864  /ci/engine/match/1298172.html  \n38   Nov 5, 2022   T20I # 1867  /ci/engine/match/1298173.html  \n39   Nov 6, 2022   T20I # 1871  /ci/engine/match/1298174.html  \n40   Nov 6, 2022   T20I # 1872  /ci/engine/match/1298175.html  \n41   Nov 6, 2022   T20I # 1873  /ci/engine/match/1298176.html  \n42   Nov 9, 2022   T20I # 1877  /ci/engine/match/1298177.html  \n43  Nov 10, 2022   T20I # 1878  /ci/engine/match/1298178.html  \n44  Nov 13, 2022   T20I # 1879  /ci/engine/match/1298179.html  ",
      "text/html": "<div>\n<style scoped>\n    .dataframe tbody tr th:only-of-type {\n        vertical-align: middle;\n    }\n\n    .dataframe tbody tr th {\n        vertical-align: top;\n    }\n\n    .dataframe thead th {\n        text-align: right;\n    }\n</style>\n<table border=\"1\" class=\"dataframe\">\n  <thead>\n    <tr style=\"text-align: right;\">\n      <th></th>\n      <th>Team 1</th>\n      <th>Team 2</th>\n      <th>Winner</th>\n      <th>Margin</th>\n      <th>Ground</th>\n      <th>Match Date</th>\n      <th>Scorecard</th>\n      <th>Match link</th>\n    </tr>\n  </thead>\n  <tbody>\n    <tr>\n      <th>0</th>\n      <td>Namibia</td>\n      <td>Sri Lanka</td>\n      <td>Namibia</td>\n      <td>55 runs</td>\n      <td>Geelong</td>\n      <td>Oct 16, 2022</td>\n      <td>T20I # 1823</td>\n      <td>/ci/engine/match/1298135.html</td>\n    </tr>\n    <tr>\n      <th>1</th>\n      <td>Netherlands</td>\n      <td>U.A.E.</td>\n      <td>Netherlands</td>\n      <td>3 wickets</td>\n      <td>Geelong</td>\n      <td>Oct 16, 2022</td>\n      <td>T20I # 1825</td>\n      <td>/ci/engine/match/1298136.html</td>\n    </tr>\n    <tr>\n      <th>2</th>\n      <td>Scotland</td>\n      <td>West Indies</td>\n      <td>Scotland</td>\n      <td>42 runs</td>\n      <td>Hobart</td>\n      <td>Oct 17, 2022</td>\n      <td>T20I # 1826</td>\n      <td>/ci/engine/match/1298137.html</td>\n    </tr>\n    <tr>\n      <th>3</th>\n      <td>Ireland</td>\n      <td>Zimbabwe</td>\n      <td>Zimbabwe</td>\n      <td>31 runs</td>\n      <td>Hobart</td>\n      <td>Oct 17, 2022</td>\n      <td>T20I # 1828</td>\n      <td>/ci/engine/match/1298138.html</td>\n    </tr>\n    <tr>\n      <th>4</th>\n      <td>Namibia</td>\n      <td>Netherlands</td>\n      <td>Netherlands</td>\n      <td>5 wickets</td>\n      <td>Geelong</td>\n      <td>Oct 18, 2022</td>\n      <td>T20I # 1830</td>\n      <td>/ci/engine/match/1298139.html</td>\n    </tr>\n    <tr>\n      <th>5</th>\n      <td>Sri Lanka</td>\n      <td>U.A.E.</td>\n      <td>Sri Lanka</td>\n      <td>79 runs</td>\n      <td>Geelong</td>\n      <td>Oct 18, 2022</td>\n      <td>T20I # 1832</td>\n      <td>/ci/engine/match/1298140.html</td>\n    </tr>\n    <tr>\n      <th>6</th>\n      <td>Ireland</td>\n      <td>Scotland</td>\n      <td>Ireland</td>\n      <td>6 wickets</td>\n      <td>Hobart</td>\n      <td>Oct 19, 2022</td>\n      <td>T20I # 1833</td>\n      <td>/ci/engine/match/1298141.html</td>\n    </tr>\n    <tr>\n      <th>7</th>\n      <td>West Indies</td>\n      <td>Zimbabwe</td>\n      <td>West Indies</td>\n      <td>31 runs</td>\n      <td>Hobart</td>\n      <td>Oct 19, 2022</td>\n      <td>T20I # 1834</td>\n      <td>/ci/engine/match/1298142.html</td>\n    </tr>\n    <tr>\n      <th>8</th>\n      <td>Netherlands</td>\n      <td>Sri Lanka</td>\n      <td>Sri Lanka</td>\n      <td>16 runs</td>\n      <td>Geelong</td>\n      <td>Oct 20, 2022</td>\n      <td>T20I # 1835</td>\n      <td>/ci/engine/match/1298143.html</td>\n    </tr>\n    <tr>\n      <th>9</th>\n      <td>Namibia</td>\n      <td>U.A.E.</td>\n      <td>U.A.E.</td>\n      <td>7 runs</td>\n      <td>Geelong</td>\n      <td>Oct 20, 2022</td>\n      <td>T20I # 1836</td>\n      <td>/ci/engine/match/1298144.html</td>\n    </tr>\n    <tr>\n      <th>10</th>\n      <td>Ireland</td>\n      <td>West Indies</td>\n      <td>Ireland</td>\n      <td>9 wickets</td>\n      <td>Hobart</td>\n      <td>Oct 21, 2022</td>\n      <td>T20I # 1837</td>\n      <td>/ci/engine/match/1298145.html</td>\n    </tr>\n    <tr>\n      <th>11</th>\n      <td>Scotland</td>\n      <td>Zimbabwe</td>\n      <td>Zimbabwe</td>\n      <td>5 wickets</td>\n      <td>Hobart</td>\n      <td>Oct 21, 2022</td>\n      <td>T20I # 1838</td>\n      <td>/ci/engine/match/1298146.html</td>\n    </tr>\n    <tr>\n      <th>12</th>\n      <td>Australia</td>\n      <td>New Zealand</td>\n      <td>New Zealand</td>\n      <td>89 runs</td>\n      <td>Sydney</td>\n      <td>Oct 22, 2022</td>\n      <td>T20I # 1839</td>\n      <td>/ci/engine/match/1298147.html</td>\n    </tr>\n    <tr>\n      <th>13</th>\n      <td>Afghanistan</td>\n      <td>England</td>\n      <td>England</td>\n      <td>5 wickets</td>\n      <td>Perth</td>\n      <td>Oct 22, 2022</td>\n      <td>T20I # 1840</td>\n      <td>/ci/engine/match/1298148.html</td>\n    </tr>\n    <tr>\n      <th>14</th>\n      <td>Ireland</td>\n      <td>Sri Lanka</td>\n      <td>Sri Lanka</td>\n      <td>9 wickets</td>\n      <td>Hobart</td>\n      <td>Oct 23, 2022</td>\n      <td>T20I # 1841</td>\n      <td>/ci/engine/match/1298149.html</td>\n    </tr>\n    <tr>\n      <th>15</th>\n      <td>India</td>\n      <td>Pakistan</td>\n      <td>India</td>\n      <td>4 wickets</td>\n      <td>Melbourne</td>\n      <td>Oct 23, 2022</td>\n      <td>T20I # 1842</td>\n      <td>/ci/engine/match/1298150.html</td>\n    </tr>\n    <tr>\n      <th>16</th>\n      <td>Bangladesh</td>\n      <td>Netherlands</td>\n      <td>Bangladesh</td>\n      <td>9 runs</td>\n      <td>Hobart</td>\n      <td>Oct 24, 2022</td>\n      <td>T20I # 1843</td>\n      <td>/ci/engine/match/1298151.html</td>\n    </tr>\n    <tr>\n      <th>17</th>\n      <td>South Africa</td>\n      <td>Zimbabwe</td>\n      <td>no result</td>\n      <td>null</td>\n      <td>Hobart</td>\n      <td>Oct 24, 2022</td>\n      <td>T20I # 1844</td>\n      <td>/ci/engine/match/1298152.html</td>\n    </tr>\n    <tr>\n      <th>18</th>\n      <td>Australia</td>\n      <td>Sri Lanka</td>\n      <td>Australia</td>\n      <td>7 wickets</td>\n      <td>Perth</td>\n      <td>Oct 25, 2022</td>\n      <td>T20I # 1845</td>\n      <td>/ci/engine/match/1298153.html</td>\n    </tr>\n    <tr>\n      <th>19</th>\n      <td>England</td>\n      <td>Ireland</td>\n      <td>Ireland</td>\n      <td>5 runs</td>\n      <td>Melbourne</td>\n      <td>Oct 26, 2022</td>\n      <td>T20I # 1846</td>\n      <td>/ci/engine/match/1298154.html</td>\n    </tr>\n    <tr>\n      <th>20</th>\n      <td>Afghanistan</td>\n      <td>New Zealand</td>\n      <td>abandoned</td>\n      <td>null</td>\n      <td>Melbourne</td>\n      <td>Oct 26, 2022</td>\n      <td>T20I # 1846a</td>\n      <td>/ci/engine/match/1298155.html</td>\n    </tr>\n    <tr>\n      <th>21</th>\n      <td>Bangladesh</td>\n      <td>South Africa</td>\n      <td>South Africa</td>\n      <td>104 runs</td>\n      <td>Sydney</td>\n      <td>Oct 27, 2022</td>\n      <td>T20I # 1847</td>\n      <td>/ci/engine/match/1298156.html</td>\n    </tr>\n    <tr>\n      <th>22</th>\n      <td>India</td>\n      <td>Netherlands</td>\n      <td>India</td>\n      <td>56 runs</td>\n      <td>Sydney</td>\n      <td>Oct 27, 2022</td>\n      <td>T20I # 1848</td>\n      <td>/ci/engine/match/1298157.html</td>\n    </tr>\n    <tr>\n      <th>23</th>\n      <td>Pakistan</td>\n      <td>Zimbabwe</td>\n      <td>Zimbabwe</td>\n      <td>1 run</td>\n      <td>Perth</td>\n      <td>Oct 27, 2022</td>\n      <td>T20I # 1849</td>\n      <td>/ci/engine/match/1298158.html</td>\n    </tr>\n    <tr>\n      <th>24</th>\n      <td>Afghanistan</td>\n      <td>Ireland</td>\n      <td>abandoned</td>\n      <td>null</td>\n      <td>Melbourne</td>\n      <td>Oct 28, 2022</td>\n      <td>T20I # 1849a</td>\n      <td>/ci/engine/match/1298159.html</td>\n    </tr>\n    <tr>\n      <th>25</th>\n      <td>Australia</td>\n      <td>England</td>\n      <td>abandoned</td>\n      <td>null</td>\n      <td>Melbourne</td>\n      <td>Oct 28, 2022</td>\n      <td>T20I # 1849b</td>\n      <td>/ci/engine/match/1298160.html</td>\n    </tr>\n    <tr>\n      <th>26</th>\n      <td>New Zealand</td>\n      <td>Sri Lanka</td>\n      <td>New Zealand</td>\n      <td>65 runs</td>\n      <td>Sydney</td>\n      <td>Oct 29, 2022</td>\n      <td>T20I # 1850</td>\n      <td>/ci/engine/match/1298161.html</td>\n    </tr>\n    <tr>\n      <th>27</th>\n      <td>Bangladesh</td>\n      <td>Zimbabwe</td>\n      <td>Bangladesh</td>\n      <td>3 runs</td>\n      <td>Brisbane</td>\n      <td>Oct 30, 2022</td>\n      <td>T20I # 1851</td>\n      <td>/ci/engine/match/1298162.html</td>\n    </tr>\n    <tr>\n      <th>28</th>\n      <td>Netherlands</td>\n      <td>Pakistan</td>\n      <td>Pakistan</td>\n      <td>6 wickets</td>\n      <td>Perth</td>\n      <td>Oct 30, 2022</td>\n      <td>T20I # 1852</td>\n      <td>/ci/engine/match/1298163.html</td>\n    </tr>\n    <tr>\n      <th>29</th>\n      <td>India</td>\n      <td>South Africa</td>\n      <td>South Africa</td>\n      <td>5 wickets</td>\n      <td>Perth</td>\n      <td>Oct 30, 2022</td>\n      <td>T20I # 1853</td>\n      <td>/ci/engine/match/1298164.html</td>\n    </tr>\n    <tr>\n      <th>30</th>\n      <td>Australia</td>\n      <td>Ireland</td>\n      <td>Australia</td>\n      <td>42 runs</td>\n      <td>Brisbane</td>\n      <td>Oct 31, 2022</td>\n      <td>T20I # 1855</td>\n      <td>/ci/engine/match/1298165.html</td>\n    </tr>\n    <tr>\n      <th>31</th>\n      <td>Afghanistan</td>\n      <td>Sri Lanka</td>\n      <td>Sri Lanka</td>\n      <td>6 wickets</td>\n      <td>Brisbane</td>\n      <td>Nov 1, 2022</td>\n      <td>T20I # 1856</td>\n      <td>/ci/engine/match/1298166.html</td>\n    </tr>\n    <tr>\n      <th>32</th>\n      <td>England</td>\n      <td>New Zealand</td>\n      <td>England</td>\n      <td>20 runs</td>\n      <td>Brisbane</td>\n      <td>Nov 1, 2022</td>\n      <td>T20I # 1858</td>\n      <td>/ci/engine/match/1298167.html</td>\n    </tr>\n    <tr>\n      <th>33</th>\n      <td>Netherlands</td>\n      <td>Zimbabwe</td>\n      <td>Netherlands</td>\n      <td>5 wickets</td>\n      <td>Adelaide</td>\n      <td>Nov 2, 2022</td>\n      <td>T20I # 1859</td>\n      <td>/ci/engine/match/1298168.html</td>\n    </tr>\n    <tr>\n      <th>34</th>\n      <td>Bangladesh</td>\n      <td>India</td>\n      <td>India</td>\n      <td>5 runs</td>\n      <td>Adelaide</td>\n      <td>Nov 2, 2022</td>\n      <td>T20I # 1860</td>\n      <td>/ci/engine/match/1298169.html</td>\n    </tr>\n    <tr>\n      <th>35</th>\n      <td>Pakistan</td>\n      <td>South Africa</td>\n      <td>Pakistan</td>\n      <td>33 runs</td>\n      <td>Sydney</td>\n      <td>Nov 3, 2022</td>\n      <td>T20I # 1861</td>\n      <td>/ci/engine/match/1298170.html</td>\n    </tr>\n    <tr>\n      <th>36</th>\n      <td>Ireland</td>\n      <td>New Zealand</td>\n      <td>New Zealand</td>\n      <td>35 runs</td>\n      <td>Adelaide</td>\n      <td>Nov 4, 2022</td>\n      <td>T20I # 1862</td>\n      <td>/ci/engine/match/1298171.html</td>\n    </tr>\n    <tr>\n      <th>37</th>\n      <td>Australia</td>\n      <td>Afghanistan</td>\n      <td>Australia</td>\n      <td>4 runs</td>\n      <td>Adelaide</td>\n      <td>Nov 4, 2022</td>\n      <td>T20I # 1864</td>\n      <td>/ci/engine/match/1298172.html</td>\n    </tr>\n    <tr>\n      <th>38</th>\n      <td>England</td>\n      <td>Sri Lanka</td>\n      <td>England</td>\n      <td>4 wickets</td>\n      <td>Sydney</td>\n      <td>Nov 5, 2022</td>\n      <td>T20I # 1867</td>\n      <td>/ci/engine/match/1298173.html</td>\n    </tr>\n    <tr>\n      <th>39</th>\n      <td>Netherlands</td>\n      <td>South Africa</td>\n      <td>Netherlands</td>\n      <td>13 runs</td>\n      <td>Adelaide</td>\n      <td>Nov 6, 2022</td>\n      <td>T20I # 1871</td>\n      <td>/ci/engine/match/1298174.html</td>\n    </tr>\n    <tr>\n      <th>40</th>\n      <td>Bangladesh</td>\n      <td>Pakistan</td>\n      <td>Pakistan</td>\n      <td>5 wickets</td>\n      <td>Adelaide</td>\n      <td>Nov 6, 2022</td>\n      <td>T20I # 1872</td>\n      <td>/ci/engine/match/1298175.html</td>\n    </tr>\n    <tr>\n      <th>41</th>\n      <td>India</td>\n      <td>Zimbabwe</td>\n      <td>India</td>\n      <td>71 runs</td>\n      <td>Melbourne</td>\n      <td>Nov 6, 2022</td>\n      <td>T20I # 1873</td>\n      <td>/ci/engine/match/1298176.html</td>\n    </tr>\n    <tr>\n      <th>42</th>\n      <td>New Zealand</td>\n      <td>Pakistan</td>\n      <td>Pakistan</td>\n      <td>7 wickets</td>\n      <td>Sydney</td>\n      <td>Nov 9, 2022</td>\n      <td>T20I # 1877</td>\n      <td>/ci/engine/match/1298177.html</td>\n    </tr>\n    <tr>\n      <th>43</th>\n      <td>England</td>\n      <td>India</td>\n      <td>England</td>\n      <td>10 wickets</td>\n      <td>Adelaide</td>\n      <td>Nov 10, 2022</td>\n      <td>T20I # 1878</td>\n      <td>/ci/engine/match/1298178.html</td>\n    </tr>\n    <tr>\n      <th>44</th>\n      <td>England</td>\n      <td>Pakistan</td>\n      <td>England</td>\n      <td>5 wickets</td>\n      <td>Melbourne</td>\n      <td>Nov 13, 2022</td>\n      <td>T20I # 1879</td>\n      <td>/ci/engine/match/1298179.html</td>\n    </tr>\n  </tbody>\n</table>\n</div>"
     },
     "execution_count": 5,
     "metadata": {},
     "output_type": "execute_result"
    }
   ],
   "source": [
    "#Storing the data into a DataFrame\n",
    "match_results_df = pd.DataFrame(data=match_results,columns=['Team 1','Team 2','Winner','Margin','Ground','Match Date','Scorecard','Match link'])\n",
    "match_results_df"
   ],
   "metadata": {
    "collapsed": false,
    "pycharm": {
     "name": "#%%\n"
    }
   }
  },
  {
   "cell_type": "code",
   "execution_count": 24,
   "outputs": [
    {
     "data": {
      "text/plain": "          Team 1        Team 2        Winner      Margin     Ground  \\\n0        Namibia     Sri Lanka       Namibia     55 runs    Geelong   \n1    Netherlands        U.A.E.   Netherlands   3 wickets    Geelong   \n2       Scotland   West Indies      Scotland     42 runs     Hobart   \n3        Ireland      Zimbabwe      Zimbabwe     31 runs     Hobart   \n4        Namibia   Netherlands   Netherlands   5 wickets    Geelong   \n5      Sri Lanka        U.A.E.     Sri Lanka     79 runs    Geelong   \n6        Ireland      Scotland       Ireland   6 wickets     Hobart   \n7    West Indies      Zimbabwe   West Indies     31 runs     Hobart   \n8    Netherlands     Sri Lanka     Sri Lanka     16 runs    Geelong   \n9        Namibia        U.A.E.        U.A.E.      7 runs    Geelong   \n10       Ireland   West Indies       Ireland   9 wickets     Hobart   \n11      Scotland      Zimbabwe      Zimbabwe   5 wickets     Hobart   \n12     Australia   New Zealand   New Zealand     89 runs     Sydney   \n13   Afghanistan       England       England   5 wickets      Perth   \n14       Ireland     Sri Lanka     Sri Lanka   9 wickets     Hobart   \n15         India      Pakistan         India   4 wickets  Melbourne   \n16    Bangladesh   Netherlands    Bangladesh      9 runs     Hobart   \n17  South Africa      Zimbabwe     no result        null     Hobart   \n18     Australia     Sri Lanka     Australia   7 wickets      Perth   \n19       England       Ireland       Ireland      5 runs  Melbourne   \n21    Bangladesh  South Africa  South Africa    104 runs     Sydney   \n22         India   Netherlands         India     56 runs     Sydney   \n23      Pakistan      Zimbabwe      Zimbabwe       1 run      Perth   \n26   New Zealand     Sri Lanka   New Zealand     65 runs     Sydney   \n27    Bangladesh      Zimbabwe    Bangladesh      3 runs   Brisbane   \n28   Netherlands      Pakistan      Pakistan   6 wickets      Perth   \n29         India  South Africa  South Africa   5 wickets      Perth   \n30     Australia       Ireland     Australia     42 runs   Brisbane   \n31   Afghanistan     Sri Lanka     Sri Lanka   6 wickets   Brisbane   \n32       England   New Zealand       England     20 runs   Brisbane   \n33   Netherlands      Zimbabwe   Netherlands   5 wickets   Adelaide   \n34    Bangladesh         India         India      5 runs   Adelaide   \n35      Pakistan  South Africa      Pakistan     33 runs     Sydney   \n36       Ireland   New Zealand   New Zealand     35 runs   Adelaide   \n37     Australia   Afghanistan     Australia      4 runs   Adelaide   \n38       England     Sri Lanka       England   4 wickets     Sydney   \n39   Netherlands  South Africa   Netherlands     13 runs   Adelaide   \n40    Bangladesh      Pakistan      Pakistan   5 wickets   Adelaide   \n41         India      Zimbabwe         India     71 runs  Melbourne   \n42   New Zealand      Pakistan      Pakistan   7 wickets     Sydney   \n43       England         India       England  10 wickets   Adelaide   \n44       England      Pakistan       England   5 wickets  Melbourne   \n\n      Match Date    Scorecard                     Match link  \n0   Oct 16, 2022  T20I # 1823  /ci/engine/match/1298135.html  \n1   Oct 16, 2022  T20I # 1825  /ci/engine/match/1298136.html  \n2   Oct 17, 2022  T20I # 1826  /ci/engine/match/1298137.html  \n3   Oct 17, 2022  T20I # 1828  /ci/engine/match/1298138.html  \n4   Oct 18, 2022  T20I # 1830  /ci/engine/match/1298139.html  \n5   Oct 18, 2022  T20I # 1832  /ci/engine/match/1298140.html  \n6   Oct 19, 2022  T20I # 1833  /ci/engine/match/1298141.html  \n7   Oct 19, 2022  T20I # 1834  /ci/engine/match/1298142.html  \n8   Oct 20, 2022  T20I # 1835  /ci/engine/match/1298143.html  \n9   Oct 20, 2022  T20I # 1836  /ci/engine/match/1298144.html  \n10  Oct 21, 2022  T20I # 1837  /ci/engine/match/1298145.html  \n11  Oct 21, 2022  T20I # 1838  /ci/engine/match/1298146.html  \n12  Oct 22, 2022  T20I # 1839  /ci/engine/match/1298147.html  \n13  Oct 22, 2022  T20I # 1840  /ci/engine/match/1298148.html  \n14  Oct 23, 2022  T20I # 1841  /ci/engine/match/1298149.html  \n15  Oct 23, 2022  T20I # 1842  /ci/engine/match/1298150.html  \n16  Oct 24, 2022  T20I # 1843  /ci/engine/match/1298151.html  \n17  Oct 24, 2022  T20I # 1844  /ci/engine/match/1298152.html  \n18  Oct 25, 2022  T20I # 1845  /ci/engine/match/1298153.html  \n19  Oct 26, 2022  T20I # 1846  /ci/engine/match/1298154.html  \n21  Oct 27, 2022  T20I # 1847  /ci/engine/match/1298156.html  \n22  Oct 27, 2022  T20I # 1848  /ci/engine/match/1298157.html  \n23  Oct 27, 2022  T20I # 1849  /ci/engine/match/1298158.html  \n26  Oct 29, 2022  T20I # 1850  /ci/engine/match/1298161.html  \n27  Oct 30, 2022  T20I # 1851  /ci/engine/match/1298162.html  \n28  Oct 30, 2022  T20I # 1852  /ci/engine/match/1298163.html  \n29  Oct 30, 2022  T20I # 1853  /ci/engine/match/1298164.html  \n30  Oct 31, 2022  T20I # 1855  /ci/engine/match/1298165.html  \n31   Nov 1, 2022  T20I # 1856  /ci/engine/match/1298166.html  \n32   Nov 1, 2022  T20I # 1858  /ci/engine/match/1298167.html  \n33   Nov 2, 2022  T20I # 1859  /ci/engine/match/1298168.html  \n34   Nov 2, 2022  T20I # 1860  /ci/engine/match/1298169.html  \n35   Nov 3, 2022  T20I # 1861  /ci/engine/match/1298170.html  \n36   Nov 4, 2022  T20I # 1862  /ci/engine/match/1298171.html  \n37   Nov 4, 2022  T20I # 1864  /ci/engine/match/1298172.html  \n38   Nov 5, 2022  T20I # 1867  /ci/engine/match/1298173.html  \n39   Nov 6, 2022  T20I # 1871  /ci/engine/match/1298174.html  \n40   Nov 6, 2022  T20I # 1872  /ci/engine/match/1298175.html  \n41   Nov 6, 2022  T20I # 1873  /ci/engine/match/1298176.html  \n42   Nov 9, 2022  T20I # 1877  /ci/engine/match/1298177.html  \n43  Nov 10, 2022  T20I # 1878  /ci/engine/match/1298178.html  \n44  Nov 13, 2022  T20I # 1879  /ci/engine/match/1298179.html  ",
      "text/html": "<div>\n<style scoped>\n    .dataframe tbody tr th:only-of-type {\n        vertical-align: middle;\n    }\n\n    .dataframe tbody tr th {\n        vertical-align: top;\n    }\n\n    .dataframe thead th {\n        text-align: right;\n    }\n</style>\n<table border=\"1\" class=\"dataframe\">\n  <thead>\n    <tr style=\"text-align: right;\">\n      <th></th>\n      <th>Team 1</th>\n      <th>Team 2</th>\n      <th>Winner</th>\n      <th>Margin</th>\n      <th>Ground</th>\n      <th>Match Date</th>\n      <th>Scorecard</th>\n      <th>Match link</th>\n    </tr>\n  </thead>\n  <tbody>\n    <tr>\n      <th>0</th>\n      <td>Namibia</td>\n      <td>Sri Lanka</td>\n      <td>Namibia</td>\n      <td>55 runs</td>\n      <td>Geelong</td>\n      <td>Oct 16, 2022</td>\n      <td>T20I # 1823</td>\n      <td>/ci/engine/match/1298135.html</td>\n    </tr>\n    <tr>\n      <th>1</th>\n      <td>Netherlands</td>\n      <td>U.A.E.</td>\n      <td>Netherlands</td>\n      <td>3 wickets</td>\n      <td>Geelong</td>\n      <td>Oct 16, 2022</td>\n      <td>T20I # 1825</td>\n      <td>/ci/engine/match/1298136.html</td>\n    </tr>\n    <tr>\n      <th>2</th>\n      <td>Scotland</td>\n      <td>West Indies</td>\n      <td>Scotland</td>\n      <td>42 runs</td>\n      <td>Hobart</td>\n      <td>Oct 17, 2022</td>\n      <td>T20I # 1826</td>\n      <td>/ci/engine/match/1298137.html</td>\n    </tr>\n    <tr>\n      <th>3</th>\n      <td>Ireland</td>\n      <td>Zimbabwe</td>\n      <td>Zimbabwe</td>\n      <td>31 runs</td>\n      <td>Hobart</td>\n      <td>Oct 17, 2022</td>\n      <td>T20I # 1828</td>\n      <td>/ci/engine/match/1298138.html</td>\n    </tr>\n    <tr>\n      <th>4</th>\n      <td>Namibia</td>\n      <td>Netherlands</td>\n      <td>Netherlands</td>\n      <td>5 wickets</td>\n      <td>Geelong</td>\n      <td>Oct 18, 2022</td>\n      <td>T20I # 1830</td>\n      <td>/ci/engine/match/1298139.html</td>\n    </tr>\n    <tr>\n      <th>5</th>\n      <td>Sri Lanka</td>\n      <td>U.A.E.</td>\n      <td>Sri Lanka</td>\n      <td>79 runs</td>\n      <td>Geelong</td>\n      <td>Oct 18, 2022</td>\n      <td>T20I # 1832</td>\n      <td>/ci/engine/match/1298140.html</td>\n    </tr>\n    <tr>\n      <th>6</th>\n      <td>Ireland</td>\n      <td>Scotland</td>\n      <td>Ireland</td>\n      <td>6 wickets</td>\n      <td>Hobart</td>\n      <td>Oct 19, 2022</td>\n      <td>T20I # 1833</td>\n      <td>/ci/engine/match/1298141.html</td>\n    </tr>\n    <tr>\n      <th>7</th>\n      <td>West Indies</td>\n      <td>Zimbabwe</td>\n      <td>West Indies</td>\n      <td>31 runs</td>\n      <td>Hobart</td>\n      <td>Oct 19, 2022</td>\n      <td>T20I # 1834</td>\n      <td>/ci/engine/match/1298142.html</td>\n    </tr>\n    <tr>\n      <th>8</th>\n      <td>Netherlands</td>\n      <td>Sri Lanka</td>\n      <td>Sri Lanka</td>\n      <td>16 runs</td>\n      <td>Geelong</td>\n      <td>Oct 20, 2022</td>\n      <td>T20I # 1835</td>\n      <td>/ci/engine/match/1298143.html</td>\n    </tr>\n    <tr>\n      <th>9</th>\n      <td>Namibia</td>\n      <td>U.A.E.</td>\n      <td>U.A.E.</td>\n      <td>7 runs</td>\n      <td>Geelong</td>\n      <td>Oct 20, 2022</td>\n      <td>T20I # 1836</td>\n      <td>/ci/engine/match/1298144.html</td>\n    </tr>\n    <tr>\n      <th>10</th>\n      <td>Ireland</td>\n      <td>West Indies</td>\n      <td>Ireland</td>\n      <td>9 wickets</td>\n      <td>Hobart</td>\n      <td>Oct 21, 2022</td>\n      <td>T20I # 1837</td>\n      <td>/ci/engine/match/1298145.html</td>\n    </tr>\n    <tr>\n      <th>11</th>\n      <td>Scotland</td>\n      <td>Zimbabwe</td>\n      <td>Zimbabwe</td>\n      <td>5 wickets</td>\n      <td>Hobart</td>\n      <td>Oct 21, 2022</td>\n      <td>T20I # 1838</td>\n      <td>/ci/engine/match/1298146.html</td>\n    </tr>\n    <tr>\n      <th>12</th>\n      <td>Australia</td>\n      <td>New Zealand</td>\n      <td>New Zealand</td>\n      <td>89 runs</td>\n      <td>Sydney</td>\n      <td>Oct 22, 2022</td>\n      <td>T20I # 1839</td>\n      <td>/ci/engine/match/1298147.html</td>\n    </tr>\n    <tr>\n      <th>13</th>\n      <td>Afghanistan</td>\n      <td>England</td>\n      <td>England</td>\n      <td>5 wickets</td>\n      <td>Perth</td>\n      <td>Oct 22, 2022</td>\n      <td>T20I # 1840</td>\n      <td>/ci/engine/match/1298148.html</td>\n    </tr>\n    <tr>\n      <th>14</th>\n      <td>Ireland</td>\n      <td>Sri Lanka</td>\n      <td>Sri Lanka</td>\n      <td>9 wickets</td>\n      <td>Hobart</td>\n      <td>Oct 23, 2022</td>\n      <td>T20I # 1841</td>\n      <td>/ci/engine/match/1298149.html</td>\n    </tr>\n    <tr>\n      <th>15</th>\n      <td>India</td>\n      <td>Pakistan</td>\n      <td>India</td>\n      <td>4 wickets</td>\n      <td>Melbourne</td>\n      <td>Oct 23, 2022</td>\n      <td>T20I # 1842</td>\n      <td>/ci/engine/match/1298150.html</td>\n    </tr>\n    <tr>\n      <th>16</th>\n      <td>Bangladesh</td>\n      <td>Netherlands</td>\n      <td>Bangladesh</td>\n      <td>9 runs</td>\n      <td>Hobart</td>\n      <td>Oct 24, 2022</td>\n      <td>T20I # 1843</td>\n      <td>/ci/engine/match/1298151.html</td>\n    </tr>\n    <tr>\n      <th>17</th>\n      <td>South Africa</td>\n      <td>Zimbabwe</td>\n      <td>no result</td>\n      <td>null</td>\n      <td>Hobart</td>\n      <td>Oct 24, 2022</td>\n      <td>T20I # 1844</td>\n      <td>/ci/engine/match/1298152.html</td>\n    </tr>\n    <tr>\n      <th>18</th>\n      <td>Australia</td>\n      <td>Sri Lanka</td>\n      <td>Australia</td>\n      <td>7 wickets</td>\n      <td>Perth</td>\n      <td>Oct 25, 2022</td>\n      <td>T20I # 1845</td>\n      <td>/ci/engine/match/1298153.html</td>\n    </tr>\n    <tr>\n      <th>19</th>\n      <td>England</td>\n      <td>Ireland</td>\n      <td>Ireland</td>\n      <td>5 runs</td>\n      <td>Melbourne</td>\n      <td>Oct 26, 2022</td>\n      <td>T20I # 1846</td>\n      <td>/ci/engine/match/1298154.html</td>\n    </tr>\n    <tr>\n      <th>21</th>\n      <td>Bangladesh</td>\n      <td>South Africa</td>\n      <td>South Africa</td>\n      <td>104 runs</td>\n      <td>Sydney</td>\n      <td>Oct 27, 2022</td>\n      <td>T20I # 1847</td>\n      <td>/ci/engine/match/1298156.html</td>\n    </tr>\n    <tr>\n      <th>22</th>\n      <td>India</td>\n      <td>Netherlands</td>\n      <td>India</td>\n      <td>56 runs</td>\n      <td>Sydney</td>\n      <td>Oct 27, 2022</td>\n      <td>T20I # 1848</td>\n      <td>/ci/engine/match/1298157.html</td>\n    </tr>\n    <tr>\n      <th>23</th>\n      <td>Pakistan</td>\n      <td>Zimbabwe</td>\n      <td>Zimbabwe</td>\n      <td>1 run</td>\n      <td>Perth</td>\n      <td>Oct 27, 2022</td>\n      <td>T20I # 1849</td>\n      <td>/ci/engine/match/1298158.html</td>\n    </tr>\n    <tr>\n      <th>26</th>\n      <td>New Zealand</td>\n      <td>Sri Lanka</td>\n      <td>New Zealand</td>\n      <td>65 runs</td>\n      <td>Sydney</td>\n      <td>Oct 29, 2022</td>\n      <td>T20I # 1850</td>\n      <td>/ci/engine/match/1298161.html</td>\n    </tr>\n    <tr>\n      <th>27</th>\n      <td>Bangladesh</td>\n      <td>Zimbabwe</td>\n      <td>Bangladesh</td>\n      <td>3 runs</td>\n      <td>Brisbane</td>\n      <td>Oct 30, 2022</td>\n      <td>T20I # 1851</td>\n      <td>/ci/engine/match/1298162.html</td>\n    </tr>\n    <tr>\n      <th>28</th>\n      <td>Netherlands</td>\n      <td>Pakistan</td>\n      <td>Pakistan</td>\n      <td>6 wickets</td>\n      <td>Perth</td>\n      <td>Oct 30, 2022</td>\n      <td>T20I # 1852</td>\n      <td>/ci/engine/match/1298163.html</td>\n    </tr>\n    <tr>\n      <th>29</th>\n      <td>India</td>\n      <td>South Africa</td>\n      <td>South Africa</td>\n      <td>5 wickets</td>\n      <td>Perth</td>\n      <td>Oct 30, 2022</td>\n      <td>T20I # 1853</td>\n      <td>/ci/engine/match/1298164.html</td>\n    </tr>\n    <tr>\n      <th>30</th>\n      <td>Australia</td>\n      <td>Ireland</td>\n      <td>Australia</td>\n      <td>42 runs</td>\n      <td>Brisbane</td>\n      <td>Oct 31, 2022</td>\n      <td>T20I # 1855</td>\n      <td>/ci/engine/match/1298165.html</td>\n    </tr>\n    <tr>\n      <th>31</th>\n      <td>Afghanistan</td>\n      <td>Sri Lanka</td>\n      <td>Sri Lanka</td>\n      <td>6 wickets</td>\n      <td>Brisbane</td>\n      <td>Nov 1, 2022</td>\n      <td>T20I # 1856</td>\n      <td>/ci/engine/match/1298166.html</td>\n    </tr>\n    <tr>\n      <th>32</th>\n      <td>England</td>\n      <td>New Zealand</td>\n      <td>England</td>\n      <td>20 runs</td>\n      <td>Brisbane</td>\n      <td>Nov 1, 2022</td>\n      <td>T20I # 1858</td>\n      <td>/ci/engine/match/1298167.html</td>\n    </tr>\n    <tr>\n      <th>33</th>\n      <td>Netherlands</td>\n      <td>Zimbabwe</td>\n      <td>Netherlands</td>\n      <td>5 wickets</td>\n      <td>Adelaide</td>\n      <td>Nov 2, 2022</td>\n      <td>T20I # 1859</td>\n      <td>/ci/engine/match/1298168.html</td>\n    </tr>\n    <tr>\n      <th>34</th>\n      <td>Bangladesh</td>\n      <td>India</td>\n      <td>India</td>\n      <td>5 runs</td>\n      <td>Adelaide</td>\n      <td>Nov 2, 2022</td>\n      <td>T20I # 1860</td>\n      <td>/ci/engine/match/1298169.html</td>\n    </tr>\n    <tr>\n      <th>35</th>\n      <td>Pakistan</td>\n      <td>South Africa</td>\n      <td>Pakistan</td>\n      <td>33 runs</td>\n      <td>Sydney</td>\n      <td>Nov 3, 2022</td>\n      <td>T20I # 1861</td>\n      <td>/ci/engine/match/1298170.html</td>\n    </tr>\n    <tr>\n      <th>36</th>\n      <td>Ireland</td>\n      <td>New Zealand</td>\n      <td>New Zealand</td>\n      <td>35 runs</td>\n      <td>Adelaide</td>\n      <td>Nov 4, 2022</td>\n      <td>T20I # 1862</td>\n      <td>/ci/engine/match/1298171.html</td>\n    </tr>\n    <tr>\n      <th>37</th>\n      <td>Australia</td>\n      <td>Afghanistan</td>\n      <td>Australia</td>\n      <td>4 runs</td>\n      <td>Adelaide</td>\n      <td>Nov 4, 2022</td>\n      <td>T20I # 1864</td>\n      <td>/ci/engine/match/1298172.html</td>\n    </tr>\n    <tr>\n      <th>38</th>\n      <td>England</td>\n      <td>Sri Lanka</td>\n      <td>England</td>\n      <td>4 wickets</td>\n      <td>Sydney</td>\n      <td>Nov 5, 2022</td>\n      <td>T20I # 1867</td>\n      <td>/ci/engine/match/1298173.html</td>\n    </tr>\n    <tr>\n      <th>39</th>\n      <td>Netherlands</td>\n      <td>South Africa</td>\n      <td>Netherlands</td>\n      <td>13 runs</td>\n      <td>Adelaide</td>\n      <td>Nov 6, 2022</td>\n      <td>T20I # 1871</td>\n      <td>/ci/engine/match/1298174.html</td>\n    </tr>\n    <tr>\n      <th>40</th>\n      <td>Bangladesh</td>\n      <td>Pakistan</td>\n      <td>Pakistan</td>\n      <td>5 wickets</td>\n      <td>Adelaide</td>\n      <td>Nov 6, 2022</td>\n      <td>T20I # 1872</td>\n      <td>/ci/engine/match/1298175.html</td>\n    </tr>\n    <tr>\n      <th>41</th>\n      <td>India</td>\n      <td>Zimbabwe</td>\n      <td>India</td>\n      <td>71 runs</td>\n      <td>Melbourne</td>\n      <td>Nov 6, 2022</td>\n      <td>T20I # 1873</td>\n      <td>/ci/engine/match/1298176.html</td>\n    </tr>\n    <tr>\n      <th>42</th>\n      <td>New Zealand</td>\n      <td>Pakistan</td>\n      <td>Pakistan</td>\n      <td>7 wickets</td>\n      <td>Sydney</td>\n      <td>Nov 9, 2022</td>\n      <td>T20I # 1877</td>\n      <td>/ci/engine/match/1298177.html</td>\n    </tr>\n    <tr>\n      <th>43</th>\n      <td>England</td>\n      <td>India</td>\n      <td>England</td>\n      <td>10 wickets</td>\n      <td>Adelaide</td>\n      <td>Nov 10, 2022</td>\n      <td>T20I # 1878</td>\n      <td>/ci/engine/match/1298178.html</td>\n    </tr>\n    <tr>\n      <th>44</th>\n      <td>England</td>\n      <td>Pakistan</td>\n      <td>England</td>\n      <td>5 wickets</td>\n      <td>Melbourne</td>\n      <td>Nov 13, 2022</td>\n      <td>T20I # 1879</td>\n      <td>/ci/engine/match/1298179.html</td>\n    </tr>\n  </tbody>\n</table>\n</div>"
     },
     "execution_count": 24,
     "metadata": {},
     "output_type": "execute_result"
    }
   ],
   "source": [
    "#Dropping the matches that were abandoned and getting their match ids\n",
    "abandoned_matches=[]\n",
    "for index,row in match_results_df.iterrows():\n",
    "    if row['Winner']=='abandoned':\n",
    "        abandoned_matches.append(row['Scorecard'])\n",
    "        match_results_df.drop(index,axis=0,inplace=True)\n",
    "match_results_df"
   ],
   "metadata": {
    "collapsed": false,
    "pycharm": {
     "name": "#%%\n"
    }
   }
  },
  {
   "cell_type": "markdown",
   "source": [
    "## Building lists and functions to be used for scraping batting and bowling data\n",
    "Getting batting and bowling details of individual matches using Selenium"
   ],
   "metadata": {
    "collapsed": false,
    "pycharm": {
     "name": "#%% md\n"
    }
   }
  },
  {
   "cell_type": "markdown",
   "source": [
    "#### Making a matches and ids list which will be later used in the final dataframe"
   ],
   "metadata": {
    "collapsed": false,
    "pycharm": {
     "name": "#%% md\n"
    }
   }
  },
  {
   "cell_type": "code",
   "execution_count": 25,
   "outputs": [
    {
     "name": "stdout",
     "output_type": "stream",
     "text": [
      "Matches list: ['Namibia Vs Sri Lanka', 'Sri Lanka Vs Namibia', 'Netherlands Vs U.A.E.', 'U.A.E. Vs Netherlands', 'Scotland Vs West Indies']\n",
      "Ids list: ['T20I # 1823', 'T20I # 1823', 'T20I # 1825', 'T20I # 1825', 'T20I # 1826']\n"
     ]
    }
   ],
   "source": [
    "matches_list,ids_list = [],[]\n",
    "\n",
    "for index, row  in match_results_df.iterrows():\n",
    "    match_copy1 = row['Team 1'] + ' Vs ' + row['Team 2']\n",
    "    match_copy2 = row['Team 2'] + ' Vs ' + row['Team 1']\n",
    "\n",
    "    matches_list.extend([match_copy1,match_copy2])\n",
    "    ids_list.extend([row['Scorecard'],row['Scorecard']])\n",
    "print(f\"Matches list: {matches_list[:5]}\")\n",
    "print(f\"Ids list: {ids_list[:5]}\")"
   ],
   "metadata": {
    "collapsed": false,
    "pycharm": {
     "name": "#%%\n"
    }
   }
  },
  {
   "cell_type": "code",
   "execution_count": 26,
   "outputs": [
    {
     "name": "stdout",
     "output_type": "stream",
     "text": [
      "Length of matches list: 84\n",
      "Length of ids list: 84\n"
     ]
    }
   ],
   "source": [
    "print(f\"Length of matches list: {len(matches_list)}\")\n",
    "print(f\"Length of ids list: {len(ids_list)}\")"
   ],
   "metadata": {
    "collapsed": false,
    "pycharm": {
     "name": "#%%\n"
    }
   }
  },
  {
   "cell_type": "markdown",
   "source": [
    "#### Function to fetch individual player stats from each match"
   ],
   "metadata": {
    "collapsed": false,
    "pycharm": {
     "name": "#%% md\n"
    }
   }
  },
  {
   "cell_type": "code",
   "execution_count": 49,
   "outputs": [],
   "source": [
    "def get_batting_details(driver,team_xpaths):\n",
    "    details_dict={}\n",
    "    for index,team_xpath in enumerate(team_xpaths):\n",
    "        xpath = team_xpath + '/tbody/tr'\n",
    "        table_rows = driver.find_elements(By.XPATH,str(xpath))\n",
    "        player_list=[]\n",
    "        flag=False\n",
    "\n",
    "        for row in table_rows:\n",
    "            data = row.find_elements(By.TAG_NAME,\"td\")\n",
    "            individual_stats=[]\n",
    "\n",
    "            count=0\n",
    "            for d in data:\n",
    "                #To detect when 'Extras' is encountered (meaning all the batting details have been captured)\n",
    "                #Applicable for batting data\n",
    "                if d.text == \"Extras\":\n",
    "                    flag=True\n",
    "                    break\n",
    "\n",
    "                #Avoiding reading details for 'M' column since it's not required\n",
    "                if count==4:\n",
    "                    count+=1\n",
    "                    continue\n",
    "\n",
    "                individual_stats.append(d.text) #Appending the stats in the list\n",
    "                count+=1\n",
    "\n",
    "            #Break the loop when Extras has been found (meaning the required batting details have been captured)\n",
    "            #Applicable for the batting data\n",
    "            if flag:\n",
    "                break\n",
    "\n",
    "            player_list.append(individual_stats) #Appending individual player stats to a final list\n",
    "\n",
    "        details_dict[index]=player_list #Adding all the player data for a particular team to the dictionary index=0 for first team and index=1 for second team\n",
    "\n",
    "    return(details_dict)"
   ],
   "metadata": {
    "collapsed": false,
    "pycharm": {
     "name": "#%%\n"
    }
   }
  },
  {
   "cell_type": "code",
   "execution_count": 50,
   "outputs": [],
   "source": [
    "def get_bowling_details(driver,team_xpaths):\n",
    "    details_dict={}\n",
    "    for index,team_xpath in enumerate(team_xpaths):\n",
    "        xpath = team_xpath + '/tbody/tr'\n",
    "        table_rows = driver.find_elements(By.XPATH,str(xpath))\n",
    "        player_list=[]\n",
    "        flag=False\n",
    "\n",
    "        for row in table_rows:\n",
    "            data = row.find_elements(By.TAG_NAME,\"td\")\n",
    "            individual_stats=[]\n",
    "\n",
    "            count=0\n",
    "            for d in data:\n",
    "                #To detect when 'Extras' is encountered (meaning all the batting details have been captured)\n",
    "                #Applicable for batting data\n",
    "                if d.text == \"Extras\":\n",
    "                    flag=True\n",
    "                    break\n",
    "\n",
    "                individual_stats.append(d.text) #Appending the stats in the list\n",
    "                count+=1\n",
    "\n",
    "            #Break the loop when Extras has been found (meaning the required batting details have been captured)\n",
    "            #Applicable for the batting data\n",
    "            if flag:\n",
    "                break\n",
    "\n",
    "            player_list.append(individual_stats) #Appending individual player stats to a final list\n",
    "\n",
    "        details_dict[index]=player_list #Adding all the player data for a particular team to the dictionary index=0 for first team and index=1 for second team\n",
    "\n",
    "    return(details_dict)"
   ],
   "metadata": {
    "collapsed": false,
    "pycharm": {
     "name": "#%%\n"
    }
   }
  },
  {
   "cell_type": "markdown",
   "source": [
    "#### Main Function to scrape the batting data from each url and convert to dictionary"
   ],
   "metadata": {
    "collapsed": false,
    "pycharm": {
     "name": "#%% md\n"
    }
   }
  },
  {
   "cell_type": "code",
   "execution_count": 54,
   "outputs": [],
   "source": [
    "def scrape_batting_data(url,team_xpaths):\n",
    "    #Loading the match details web page\n",
    "    path = \"C:/Program Files (x86)/chromedriver.exe\"\n",
    "    options = Options()\n",
    "    options.add_argument('--disable-blink-features=AutomationControlled')\n",
    "    options.add_argument(\"--no-sandbox\")\n",
    "    options.add_argument(\"--window-size=1280,720\")\n",
    "    options.headless=True\n",
    "    driver = webdriver.Chrome(options=options,executable_path=path)\n",
    "    driver.get(url)\n",
    "\n",
    "    #Extracting team names of both the teams\n",
    "    team_names=[]\n",
    "    team_names_cont = driver.find_elements(By.XPATH, \"//span[@class='ds-text-title-xs ds-font-bold ds-capitalize']\")\n",
    "    for name_cont in team_names_cont:\n",
    "        team_names.append(name_cont.text)\n",
    "\n",
    "    #Scraping individual player batting stats for both the teams\n",
    "    scrape_dict= get_batting_details(driver,team_xpaths)\n",
    "\n",
    "    #Framing the final dictionary with team name and individual player stats\n",
    "    batting_dict={}\n",
    "    for i,team in enumerate(team_names):\n",
    "        batting_position=1\n",
    "        player_list=[]\n",
    "        for player in scrape_dict[i]:\n",
    "            temp_list=[batting_position]\n",
    "\n",
    "            #Removing null entries\n",
    "            if player==['']:\n",
    "                continue\n",
    "\n",
    "            temp_list.extend(player)\n",
    "            player_list.append(temp_list)\n",
    "\n",
    "            batting_position+=1\n",
    "\n",
    "        batting_dict[team]=player_list\n",
    "    return batting_dict"
   ],
   "metadata": {
    "collapsed": false,
    "pycharm": {
     "name": "#%%\n"
    }
   }
  },
  {
   "cell_type": "markdown",
   "source": [
    "#### Main Function to scrape the bowling data from each url and convert to dictionary"
   ],
   "metadata": {
    "collapsed": false,
    "pycharm": {
     "name": "#%% md\n"
    }
   }
  },
  {
   "cell_type": "code",
   "execution_count": 55,
   "outputs": [],
   "source": [
    "def scrape_bowling_data(url,team_xpaths):\n",
    "    #Loading the match details web page\n",
    "    path = \"C:/Program Files (x86)/chromedriver.exe\"\n",
    "    options = Options()\n",
    "    options.add_argument('--disable-blink-features=AutomationControlled')\n",
    "    options.add_argument(\"--no-sandbox\")\n",
    "    options.add_argument(\"--window-size=1280,720\")\n",
    "    options.headless=True\n",
    "    driver = webdriver.Chrome(options=options,executable_path=path)\n",
    "    driver.get(url)\n",
    "\n",
    "    #Extracting team names of both the teams\n",
    "    team_names=[]\n",
    "    team_names_cont = driver.find_elements(By.XPATH, \"//span[@class='ds-text-title-xs ds-font-bold ds-capitalize']\")\n",
    "    for name_cont in team_names_cont:\n",
    "        team_names.append(name_cont.text)\n",
    "\n",
    "    #Scraping individual player bowling stats for both the teams\n",
    "    scrape_dict= get_bowling_details(driver,team_xpaths)\n",
    "\n",
    "    #Framing the final dictionary with team name and individual player stats\n",
    "    bowling_dict={}\n",
    "    counter = len(team_names) -1\n",
    "    for i in range(len(team_names)):\n",
    "        player_list=[]\n",
    "        for player in scrape_dict[i]:\n",
    "            #Removing null entries\n",
    "            if player==['']:\n",
    "                continue\n",
    "            player_list.append(player)\n",
    "        bowling_dict[team_names[counter]]=player_list\n",
    "        counter-=1\n",
    "    return bowling_dict"
   ],
   "metadata": {
    "collapsed": false,
    "pycharm": {
     "name": "#%%\n"
    }
   }
  },
  {
   "cell_type": "markdown",
   "source": [
    "### Building the batting summary dataframe"
   ],
   "metadata": {
    "collapsed": false,
    "pycharm": {
     "name": "#%% md\n"
    }
   }
  },
  {
   "cell_type": "code",
   "execution_count": 56,
   "outputs": [
    {
     "name": "stdout",
     "output_type": "stream",
     "text": [
      "(699, 11)\n"
     ]
    }
   ],
   "source": [
    "#Adding each match data to batting dataframe\n",
    "batting_df=pd.DataFrame(columns=['Match','Match_id','Team Innings','Batting Position','Batsman Name','Dismissal','Runs','Balls','Fours','Sixes','SR'])\n",
    "count_batting,index=0,0 #Will be used for converting dictionary to dataframe\n",
    "\n",
    "for link in match_results_df['Match link']:\n",
    "    url='https://stats.espncricinfo.com'+ link #Builds the url for each match to be passed to scrape_data function\n",
    "    batting_xpath1='//*[@id=\"main-container\"]/div[5]/div[1]/div/div[3]/div[1]/div[2]/div[1]/div[2]/div/div[2]/table[1]' #xpath for batting data table of first team\n",
    "    batting_xpath2='//*[@id=\"main-container\"]/div[5]/div[1]/div/div[3]/div[1]/div[2]/div[1]/div[3]/div/div[2]/table[1]' #xpath for batting data table of second team\n",
    "\n",
    "    #Getting Batting dictionary\n",
    "    batting_xpaths=[batting_xpath1,batting_xpath2] #Combining the two xpaths in a list\n",
    "    batting_dict = scrape_batting_data(url,batting_xpaths) #scrape_data function returns a player stats dictionary\n",
    "\n",
    "    #Filling batting dataframe\n",
    "    for key,value in batting_dict.items(): #key-> team name ; value-> list of each player stats\n",
    "        for details in value: # To access stats of each player\n",
    "            master_list=[matches_list[count_batting],ids_list[count_batting],key,details[0],details[1],details[2],details[3], details[4],details[5],details[6],details[7]]\n",
    "            batting_df.loc[index]=master_list #Adding the details to the dataframe\n",
    "            index+=1 #Takes care of appending each player's stats to the dataframe\n",
    "        count_batting+=1 #Used since we need to repeat values of matches_list and ids_list for each player of a team\n",
    "\n",
    "print(batting_df.shape)"
   ],
   "metadata": {
    "collapsed": false,
    "pycharm": {
     "name": "#%%\n"
    }
   }
  },
  {
   "cell_type": "code",
   "execution_count": 57,
   "outputs": [
    {
     "data": {
      "text/plain": "                    Match     Match_id Team Innings Batting Position  \\\n0    Namibia Vs Sri Lanka  T20I # 1823      Namibia                1   \n1    Namibia Vs Sri Lanka  T20I # 1823      Namibia                2   \n2    Namibia Vs Sri Lanka  T20I # 1823      Namibia                3   \n3    Namibia Vs Sri Lanka  T20I # 1823      Namibia                4   \n4    Namibia Vs Sri Lanka  T20I # 1823      Namibia                5   \n..                    ...          ...          ...              ...   \n694   Pakistan Vs England  T20I # 1879      England                3   \n695   Pakistan Vs England  T20I # 1879      England                4   \n696   Pakistan Vs England  T20I # 1879      England                5   \n697   Pakistan Vs England  T20I # 1879      England                6   \n698   Pakistan Vs England  T20I # 1879      England                7   \n\n                Batsman Name                            Dismissal Runs Balls  \\\n0        Michael van Lingen          c Pramod Madushan b Chameera    3     6   \n1             Divan la Cock           c Shanaka b Pramod Madushan    9     9   \n2    Jan Nicol Loftie-Eaton               c †Mendis b Karunaratne   20    12   \n3             Stephan Baard       c DM de Silva b Pramod Madushan   26    24   \n4        Gerhard Erasmus (c)         c Gunathilaka b PWH de Silva   20    24   \n..                       ...                                  ...  ...   ...   \n694               Phil Salt         c Iftikhar Ahmed b Haris Rauf   10     9   \n695              Ben Stokes                               not out   52    49   \n696             Harry Brook   c Shaheen Shah Afridi b Shadab Khan   20    23   \n697               Moeen Ali                      b Mohammad Wasim   19    13   \n698        Liam Livingstone                               not out    1     1   \n\n    Fours Sixes      SR  \n0       0     0   50.00  \n1       1     0  100.00  \n2       1     2  166.66  \n3       2     0  108.33  \n4       0     0   83.33  \n..    ...   ...     ...  \n694     2     0  111.11  \n695     5     1  106.12  \n696     1     0   86.95  \n697     3     0  146.15  \n698     0     0  100.00  \n\n[699 rows x 11 columns]",
      "text/html": "<div>\n<style scoped>\n    .dataframe tbody tr th:only-of-type {\n        vertical-align: middle;\n    }\n\n    .dataframe tbody tr th {\n        vertical-align: top;\n    }\n\n    .dataframe thead th {\n        text-align: right;\n    }\n</style>\n<table border=\"1\" class=\"dataframe\">\n  <thead>\n    <tr style=\"text-align: right;\">\n      <th></th>\n      <th>Match</th>\n      <th>Match_id</th>\n      <th>Team Innings</th>\n      <th>Batting Position</th>\n      <th>Batsman Name</th>\n      <th>Dismissal</th>\n      <th>Runs</th>\n      <th>Balls</th>\n      <th>Fours</th>\n      <th>Sixes</th>\n      <th>SR</th>\n    </tr>\n  </thead>\n  <tbody>\n    <tr>\n      <th>0</th>\n      <td>Namibia Vs Sri Lanka</td>\n      <td>T20I # 1823</td>\n      <td>Namibia</td>\n      <td>1</td>\n      <td>Michael van Lingen</td>\n      <td>c Pramod Madushan b Chameera</td>\n      <td>3</td>\n      <td>6</td>\n      <td>0</td>\n      <td>0</td>\n      <td>50.00</td>\n    </tr>\n    <tr>\n      <th>1</th>\n      <td>Namibia Vs Sri Lanka</td>\n      <td>T20I # 1823</td>\n      <td>Namibia</td>\n      <td>2</td>\n      <td>Divan la Cock</td>\n      <td>c Shanaka b Pramod Madushan</td>\n      <td>9</td>\n      <td>9</td>\n      <td>1</td>\n      <td>0</td>\n      <td>100.00</td>\n    </tr>\n    <tr>\n      <th>2</th>\n      <td>Namibia Vs Sri Lanka</td>\n      <td>T20I # 1823</td>\n      <td>Namibia</td>\n      <td>3</td>\n      <td>Jan Nicol Loftie-Eaton</td>\n      <td>c †Mendis b Karunaratne</td>\n      <td>20</td>\n      <td>12</td>\n      <td>1</td>\n      <td>2</td>\n      <td>166.66</td>\n    </tr>\n    <tr>\n      <th>3</th>\n      <td>Namibia Vs Sri Lanka</td>\n      <td>T20I # 1823</td>\n      <td>Namibia</td>\n      <td>4</td>\n      <td>Stephan Baard</td>\n      <td>c DM de Silva b Pramod Madushan</td>\n      <td>26</td>\n      <td>24</td>\n      <td>2</td>\n      <td>0</td>\n      <td>108.33</td>\n    </tr>\n    <tr>\n      <th>4</th>\n      <td>Namibia Vs Sri Lanka</td>\n      <td>T20I # 1823</td>\n      <td>Namibia</td>\n      <td>5</td>\n      <td>Gerhard Erasmus (c)</td>\n      <td>c Gunathilaka b PWH de Silva</td>\n      <td>20</td>\n      <td>24</td>\n      <td>0</td>\n      <td>0</td>\n      <td>83.33</td>\n    </tr>\n    <tr>\n      <th>...</th>\n      <td>...</td>\n      <td>...</td>\n      <td>...</td>\n      <td>...</td>\n      <td>...</td>\n      <td>...</td>\n      <td>...</td>\n      <td>...</td>\n      <td>...</td>\n      <td>...</td>\n      <td>...</td>\n    </tr>\n    <tr>\n      <th>694</th>\n      <td>Pakistan Vs England</td>\n      <td>T20I # 1879</td>\n      <td>England</td>\n      <td>3</td>\n      <td>Phil Salt</td>\n      <td>c Iftikhar Ahmed b Haris Rauf</td>\n      <td>10</td>\n      <td>9</td>\n      <td>2</td>\n      <td>0</td>\n      <td>111.11</td>\n    </tr>\n    <tr>\n      <th>695</th>\n      <td>Pakistan Vs England</td>\n      <td>T20I # 1879</td>\n      <td>England</td>\n      <td>4</td>\n      <td>Ben Stokes</td>\n      <td>not out</td>\n      <td>52</td>\n      <td>49</td>\n      <td>5</td>\n      <td>1</td>\n      <td>106.12</td>\n    </tr>\n    <tr>\n      <th>696</th>\n      <td>Pakistan Vs England</td>\n      <td>T20I # 1879</td>\n      <td>England</td>\n      <td>5</td>\n      <td>Harry Brook</td>\n      <td>c Shaheen Shah Afridi b Shadab Khan</td>\n      <td>20</td>\n      <td>23</td>\n      <td>1</td>\n      <td>0</td>\n      <td>86.95</td>\n    </tr>\n    <tr>\n      <th>697</th>\n      <td>Pakistan Vs England</td>\n      <td>T20I # 1879</td>\n      <td>England</td>\n      <td>6</td>\n      <td>Moeen Ali</td>\n      <td>b Mohammad Wasim</td>\n      <td>19</td>\n      <td>13</td>\n      <td>3</td>\n      <td>0</td>\n      <td>146.15</td>\n    </tr>\n    <tr>\n      <th>698</th>\n      <td>Pakistan Vs England</td>\n      <td>T20I # 1879</td>\n      <td>England</td>\n      <td>7</td>\n      <td>Liam Livingstone</td>\n      <td>not out</td>\n      <td>1</td>\n      <td>1</td>\n      <td>0</td>\n      <td>0</td>\n      <td>100.00</td>\n    </tr>\n  </tbody>\n</table>\n<p>699 rows × 11 columns</p>\n</div>"
     },
     "execution_count": 57,
     "metadata": {},
     "output_type": "execute_result"
    }
   ],
   "source": [
    "batting_df"
   ],
   "metadata": {
    "collapsed": false,
    "pycharm": {
     "name": "#%%\n"
    }
   }
  },
  {
   "cell_type": "code",
   "execution_count": 58,
   "outputs": [
    {
     "data": {
      "text/plain": "T20I # 1843    21\nT20I # 1832    21\nT20I # 1861    21\nT20I # 1850    20\nT20I # 1834    20\nT20I # 1828    19\nT20I # 1825    19\nT20I # 1835    19\nT20I # 1862    19\nT20I # 1864    19\nT20I # 1849    19\nT20I # 1823    19\nT20I # 1851    18\nT20I # 1855    18\nT20I # 1846    18\nT20I # 1847    18\nT20I # 1840    18\nT20I # 1859    18\nT20I # 1853    18\nT20I # 1873    18\nT20I # 1826    18\nT20I # 1842    18\nT20I # 1852    17\nT20I # 1867    17\nT20I # 1879    17\nT20I # 1872    17\nT20I # 1860    16\nT20I # 1858    16\nT20I # 1839    16\nT20I # 1871    16\nT20I # 1848    15\nT20I # 1856    15\nT20I # 1838    15\nT20I # 1830    15\nT20I # 1836    15\nT20I # 1845    13\nT20I # 1841    13\nT20I # 1833    12\nT20I # 1877    11\nT20I # 1837    10\nT20I # 1878     9\nT20I # 1844     8\nName: Match_id, dtype: int64"
     },
     "execution_count": 58,
     "metadata": {},
     "output_type": "execute_result"
    }
   ],
   "source": [
    "batting_df.Match_id.value_counts()"
   ],
   "metadata": {
    "collapsed": false,
    "pycharm": {
     "name": "#%%\n"
    }
   }
  },
  {
   "cell_type": "markdown",
   "source": [
    "### Building the Bowling Summary dataframe"
   ],
   "metadata": {
    "collapsed": false,
    "pycharm": {
     "name": "#%% md\n"
    }
   }
  },
  {
   "cell_type": "code",
   "execution_count": 59,
   "outputs": [
    {
     "data": {
      "text/plain": "                    Match     Match_id Bowling Team  \\\n0    Namibia Vs Sri Lanka  T20I # 1823    Sri Lanka   \n1    Namibia Vs Sri Lanka  T20I # 1823    Sri Lanka   \n2    Namibia Vs Sri Lanka  T20I # 1823    Sri Lanka   \n3    Namibia Vs Sri Lanka  T20I # 1823    Sri Lanka   \n4    Namibia Vs Sri Lanka  T20I # 1823    Sri Lanka   \n..                    ...          ...          ...   \n495   Pakistan Vs England  T20I # 1879     Pakistan   \n496   Pakistan Vs England  T20I # 1879     Pakistan   \n497   Pakistan Vs England  T20I # 1879     Pakistan   \n498   Pakistan Vs England  T20I # 1879     Pakistan   \n499   Pakistan Vs England  T20I # 1879     Pakistan   \n\n                    Bowler Name Overs Maiden Runs Wickets Economy Zeros Fours  \\\n0            Maheesh Theekshana     4      0   23       1    5.75     7     0   \n1           Dushmantha Chameera     4      0   39       1    9.75     6     3   \n2               Pramod Madushan     4      0   37       2    9.25     6     3   \n3           Chamika Karunaratne     4      0   36       1    9.00     7     3   \n4    Wanindu Hasaranga de Silva     4      0   27       1    6.75     8     1   \n..                          ...   ...    ...  ...     ...     ...   ...   ...   \n495                 Naseem Shah     4      0   30       0    7.50    15     3   \n496                  Haris Rauf     4      0   23       2    5.75    13     3   \n497                 Shadab Khan     4      0   20       1    5.00    10     1   \n498              Mohammad Wasim     4      0   38       1    9.50     5     5   \n499              Iftikhar Ahmed   0.5      0   13       0   15.60     0     1   \n\n    Sixes Wides No Balls  \n0       0     2        0  \n1       1     2        0  \n2       1     0        0  \n3       1     1        0  \n4       1     0        0  \n..    ...   ...      ...  \n495     1     1        0  \n496     0     1        0  \n497     0     0        0  \n498     0     2        0  \n499     1     0        0  \n\n[500 rows x 14 columns]",
      "text/html": "<div>\n<style scoped>\n    .dataframe tbody tr th:only-of-type {\n        vertical-align: middle;\n    }\n\n    .dataframe tbody tr th {\n        vertical-align: top;\n    }\n\n    .dataframe thead th {\n        text-align: right;\n    }\n</style>\n<table border=\"1\" class=\"dataframe\">\n  <thead>\n    <tr style=\"text-align: right;\">\n      <th></th>\n      <th>Match</th>\n      <th>Match_id</th>\n      <th>Bowling Team</th>\n      <th>Bowler Name</th>\n      <th>Overs</th>\n      <th>Maiden</th>\n      <th>Runs</th>\n      <th>Wickets</th>\n      <th>Economy</th>\n      <th>Zeros</th>\n      <th>Fours</th>\n      <th>Sixes</th>\n      <th>Wides</th>\n      <th>No Balls</th>\n    </tr>\n  </thead>\n  <tbody>\n    <tr>\n      <th>0</th>\n      <td>Namibia Vs Sri Lanka</td>\n      <td>T20I # 1823</td>\n      <td>Sri Lanka</td>\n      <td>Maheesh Theekshana</td>\n      <td>4</td>\n      <td>0</td>\n      <td>23</td>\n      <td>1</td>\n      <td>5.75</td>\n      <td>7</td>\n      <td>0</td>\n      <td>0</td>\n      <td>2</td>\n      <td>0</td>\n    </tr>\n    <tr>\n      <th>1</th>\n      <td>Namibia Vs Sri Lanka</td>\n      <td>T20I # 1823</td>\n      <td>Sri Lanka</td>\n      <td>Dushmantha Chameera</td>\n      <td>4</td>\n      <td>0</td>\n      <td>39</td>\n      <td>1</td>\n      <td>9.75</td>\n      <td>6</td>\n      <td>3</td>\n      <td>1</td>\n      <td>2</td>\n      <td>0</td>\n    </tr>\n    <tr>\n      <th>2</th>\n      <td>Namibia Vs Sri Lanka</td>\n      <td>T20I # 1823</td>\n      <td>Sri Lanka</td>\n      <td>Pramod Madushan</td>\n      <td>4</td>\n      <td>0</td>\n      <td>37</td>\n      <td>2</td>\n      <td>9.25</td>\n      <td>6</td>\n      <td>3</td>\n      <td>1</td>\n      <td>0</td>\n      <td>0</td>\n    </tr>\n    <tr>\n      <th>3</th>\n      <td>Namibia Vs Sri Lanka</td>\n      <td>T20I # 1823</td>\n      <td>Sri Lanka</td>\n      <td>Chamika Karunaratne</td>\n      <td>4</td>\n      <td>0</td>\n      <td>36</td>\n      <td>1</td>\n      <td>9.00</td>\n      <td>7</td>\n      <td>3</td>\n      <td>1</td>\n      <td>1</td>\n      <td>0</td>\n    </tr>\n    <tr>\n      <th>4</th>\n      <td>Namibia Vs Sri Lanka</td>\n      <td>T20I # 1823</td>\n      <td>Sri Lanka</td>\n      <td>Wanindu Hasaranga de Silva</td>\n      <td>4</td>\n      <td>0</td>\n      <td>27</td>\n      <td>1</td>\n      <td>6.75</td>\n      <td>8</td>\n      <td>1</td>\n      <td>1</td>\n      <td>0</td>\n      <td>0</td>\n    </tr>\n    <tr>\n      <th>...</th>\n      <td>...</td>\n      <td>...</td>\n      <td>...</td>\n      <td>...</td>\n      <td>...</td>\n      <td>...</td>\n      <td>...</td>\n      <td>...</td>\n      <td>...</td>\n      <td>...</td>\n      <td>...</td>\n      <td>...</td>\n      <td>...</td>\n      <td>...</td>\n    </tr>\n    <tr>\n      <th>495</th>\n      <td>Pakistan Vs England</td>\n      <td>T20I # 1879</td>\n      <td>Pakistan</td>\n      <td>Naseem Shah</td>\n      <td>4</td>\n      <td>0</td>\n      <td>30</td>\n      <td>0</td>\n      <td>7.50</td>\n      <td>15</td>\n      <td>3</td>\n      <td>1</td>\n      <td>1</td>\n      <td>0</td>\n    </tr>\n    <tr>\n      <th>496</th>\n      <td>Pakistan Vs England</td>\n      <td>T20I # 1879</td>\n      <td>Pakistan</td>\n      <td>Haris Rauf</td>\n      <td>4</td>\n      <td>0</td>\n      <td>23</td>\n      <td>2</td>\n      <td>5.75</td>\n      <td>13</td>\n      <td>3</td>\n      <td>0</td>\n      <td>1</td>\n      <td>0</td>\n    </tr>\n    <tr>\n      <th>497</th>\n      <td>Pakistan Vs England</td>\n      <td>T20I # 1879</td>\n      <td>Pakistan</td>\n      <td>Shadab Khan</td>\n      <td>4</td>\n      <td>0</td>\n      <td>20</td>\n      <td>1</td>\n      <td>5.00</td>\n      <td>10</td>\n      <td>1</td>\n      <td>0</td>\n      <td>0</td>\n      <td>0</td>\n    </tr>\n    <tr>\n      <th>498</th>\n      <td>Pakistan Vs England</td>\n      <td>T20I # 1879</td>\n      <td>Pakistan</td>\n      <td>Mohammad Wasim</td>\n      <td>4</td>\n      <td>0</td>\n      <td>38</td>\n      <td>1</td>\n      <td>9.50</td>\n      <td>5</td>\n      <td>5</td>\n      <td>0</td>\n      <td>2</td>\n      <td>0</td>\n    </tr>\n    <tr>\n      <th>499</th>\n      <td>Pakistan Vs England</td>\n      <td>T20I # 1879</td>\n      <td>Pakistan</td>\n      <td>Iftikhar Ahmed</td>\n      <td>0.5</td>\n      <td>0</td>\n      <td>13</td>\n      <td>0</td>\n      <td>15.60</td>\n      <td>0</td>\n      <td>1</td>\n      <td>1</td>\n      <td>0</td>\n      <td>0</td>\n    </tr>\n  </tbody>\n</table>\n<p>500 rows × 14 columns</p>\n</div>"
     },
     "execution_count": 59,
     "metadata": {},
     "output_type": "execute_result"
    }
   ],
   "source": [
    "bowling_df=pd.DataFrame(columns=['Match','Match_id','Bowling Team','Bowler Name','Overs','Maiden','Runs','Wickets','Economy','Zeros','Fours','Sixes','Wides','No Balls' ])\n",
    "count_bowling,index=0,0\n",
    "\n",
    "for link in match_results_df['Match link']:\n",
    "    url='https://stats.espncricinfo.com'+link #Builds the url for each match to be passed to scrape_data function\n",
    "    bowling_xpath1='//*[@id=\"main-container\"]/div[5]/div[1]/div/div[3]/div[1]/div[2]/div[1]/div[2]/div/div[2]/table[2]' #xpath for bowling data table of first team\n",
    "    bowling_xpath2='//*[@id=\"main-container\"]/div[5]/div[1]/div/div[3]/div[1]/div[2]/div[1]/div[3]/div/div[2]/table[2]' #xpath for bowling data table of second team\n",
    "\n",
    "    #Getting Bowling dictionary\n",
    "    bowling_xpaths=[bowling_xpath1,bowling_xpath2] #Combining the two xpaths in a list\n",
    "    bowling_dict = scrape_bowling_data(url,bowling_xpaths) #scrape_data function returns a player stats dictionary\n",
    "\n",
    "    #Filling bowling dataframe\n",
    "    for key,value in bowling_dict.items(): #key-> team name ; value-> list of each player stats\n",
    "        for details in value: # To access stats of each player\n",
    "            master_list=[matches_list[count_bowling],ids_list[count_bowling],key,details[0],details[1],details[2],details[3], details[4],details[5],details[6],details[7],details[8],details[9],details[10]]\n",
    "            bowling_df.loc[index]=master_list #Adding the details to the dataframe\n",
    "            index+=1 #Takes care of appending each player's stats to the dataframe\n",
    "        count_bowling+=1 #Used since we need to repeat values of matches_list and ids_list for each player of a team\n",
    "\n",
    "bowling_df"
   ],
   "metadata": {
    "collapsed": false,
    "pycharm": {
     "name": "#%%\n"
    }
   }
  },
  {
   "cell_type": "markdown",
   "source": [
    "## Player Summary\n",
    "Getting personal details of players of each team using BeautifulSoup"
   ],
   "metadata": {
    "collapsed": false,
    "pycharm": {
     "name": "#%% md\n"
    }
   }
  },
  {
   "cell_type": "code",
   "execution_count": 60,
   "outputs": [],
   "source": [
    "def get_player_list(url):\n",
    "    team_page = r.get(url).text\n",
    "    soup = BeautifulSoup(team_page,'html.parser')\n",
    "    players_info = soup.find_all('div',class_='ds-flex-1')\n",
    "    players_list=[]\n",
    "    count=0\n",
    "\n",
    "    for player in players_info:\n",
    "\n",
    "        #Skipping first entry which has irrelevant data\n",
    "        if count==0:\n",
    "            count+=1\n",
    "            continue\n",
    "\n",
    "        details = player.find_all(recursive=False)\n",
    "        temp_list=[]\n",
    "        for detail in details:\n",
    "            temp_list.append(detail.text)\n",
    "\n",
    "        details_list=temp_list[:2] #Appending name and playing role data\n",
    "\n",
    "        #Extracting age, batting style and bowling style data from the text\n",
    "        temp_string = temp_list[2]\n",
    "        age = re.findall(\": (\\d+)\",temp_string)\n",
    "        bat = re.findall(\"Batting: ([A-Za-z\\s]+)Bowling\",temp_string)\n",
    "        bowl = re.findall(\"Bowling: ([A-Za-z\\s]+)\",temp_string)\n",
    "        details_list.extend([' '.join(age),' '.join(bat),' '.join(bowl)])\n",
    "\n",
    "        players_list.append(details_list) #Appending the details of each player to the final list\n",
    "        count+=1\n",
    "    return players_list"
   ],
   "metadata": {
    "collapsed": false,
    "pycharm": {
     "name": "#%%\n"
    }
   }
  },
  {
   "cell_type": "code",
   "execution_count": 61,
   "outputs": [
    {
     "data": {
      "text/plain": "{'Afghanistan': [['Mohammad Nabi(c)',\n   'Allrounder',\n   '37',\n   'Right hand Bat',\n   'Right arm Offbreak'],\n  ['Azmatullah Omarzai',\n   'Allrounder',\n   '22',\n   'Right hand Bat',\n   'Right arm Medium fast'],\n  ['Darwish Rasooli',\n   'Top order Batter',\n   '22',\n   'Right hand Bat',\n   'Right arm Offbreak'],\n  ['Fareed Ahmad', 'Bowler', '28', 'Left hand Bat', 'Left arm Fast medium'],\n  ['Fazalhaq Farooqi',\n   'Bowler',\n   '21',\n   'Right hand Bat',\n   'Left arm Fast medium'],\n  ['Gulbadin Naib',\n   'Batting Allrounder',\n   '31',\n   'Right hand Bat',\n   'Right arm Medium fast'],\n  ['Ibrahim Zadran',\n   'Opening Batter',\n   '20',\n   'Right hand Bat',\n   'Right arm Medium fast'],\n  ['Mohammad Saleem', 'Bowler', '20', 'Right hand Bat', 'Right arm Fast'],\n  ['Mujeeb Ur Rahman', 'Bowler', '21', 'Right hand Bat', 'Right arm Offbreak'],\n  ['Najibullah Zadran',\n   'Middle order Batter',\n   '29',\n   'Left hand Bat',\n   'Right arm Offbreak'],\n  ['Naveen-ul-Haq', 'Bowler', '22', 'Right hand Bat', 'Right arm Medium fast'],\n  ['Qais Ahmad', 'Bowler', '22', 'Right hand Bat', 'Legbreak'],\n  ['Rahmanullah Gurbaz†', 'Wicketkeeper Batter', '20', '', ''],\n  ['Rashid Khan',\n   'Bowling Allrounder',\n   '23',\n   'Right hand Bat',\n   'Legbreak Googly'],\n  ['Usman Ghani', 'Opening Batter', '25', '', ''],\n  ['Hazratullah ZazaiWithdrawn player',\n   'Opening Batter',\n   '24',\n   'Left hand Bat',\n   'Slow Left arm Orthodox']],\n 'Australia': [['Aaron Finch(c)',\n   'Top order Batter',\n   '35',\n   'Right hand Bat',\n   'Slow Left arm Orthodox'],\n  ['Pat Cummins(vc)', 'Bowler', '29', 'Right hand Bat', 'Right arm Fast'],\n  ['Ashton Agar', 'Bowler', '28', 'Left hand Bat', 'Slow Left arm Orthodox'],\n  ['Tim David',\n   'Middle order Batter',\n   '26',\n   'Right hand Bat',\n   'Right arm Offbreak'],\n  ['Cameron Green',\n   'Batting Allrounder',\n   '23',\n   'Right hand Bat',\n   'Right arm Fast medium'],\n  ['Josh Hazlewood', 'Bowler', '31', 'Left hand Bat', 'Right arm Fast medium'],\n  ['Mitchell Marsh', 'Allrounder', '30', 'Right hand Bat', 'Right arm Medium'],\n  ['Glenn Maxwell',\n   'Batting Allrounder',\n   '33',\n   'Right hand Bat',\n   'Right arm Offbreak'],\n  ['Kane Richardson',\n   'Bowler',\n   '31',\n   'Right hand Bat',\n   'Right arm Fast medium'],\n  ['Steven Smith',\n   'Middle order Batter',\n   '33',\n   'Right hand Bat',\n   'Legbreak Googly'],\n  ['Mitchell Starc', 'Bowler', '32', 'Left hand Bat', 'Left arm Fast'],\n  ['Marcus Stoinis',\n   'Batting Allrounder',\n   '33',\n   'Right hand Bat',\n   'Right arm Medium'],\n  ['Matthew Wade†',\n   'Wicketkeeper Batter',\n   '34',\n   'Left hand Bat',\n   'Right arm Medium'],\n  ['David Warner', 'Opening Batter', '35', 'Left hand Bat', 'Legbreak'],\n  ['Adam Zampa', 'Bowler', '30', 'Right hand Bat', 'Legbreak Googly'],\n  ['Josh Inglis†Withdrawn player', 'Wicketkeeper Batter', '27', '', '']],\n 'Bangladesh': [['Shakib Al Hasan(c)',\n   'Allrounder',\n   '35',\n   'Left hand Bat',\n   'Slow Left arm Orthodox'],\n  ['Afif Hossain', 'Allrounder', '22', 'Left hand Bat', 'Right arm Offbreak'],\n  ['Ebadot Hossain',\n   'Bowler',\n   '28',\n   'Right hand Bat',\n   'Right arm Fast medium'],\n  ['Hasan Mahmud', 'Bowler', '22', 'Right hand Bat', 'Right arm Medium'],\n  ['Litton Das†',\n   'Wicketkeeper Batter',\n   '27',\n   'Right hand Bat',\n   'Right arm Offbreak'],\n  ['Mehidy Hasan Miraz',\n   'Allrounder',\n   '24',\n   'Right hand Bat',\n   'Right arm Offbreak'],\n  ['Mosaddek Hossain',\n   'Middle order Batter',\n   '26',\n   'Right hand Bat',\n   'Right arm Offbreak'],\n  ['Mustafizur Rahman',\n   'Bowler',\n   '27',\n   'Left hand Bat',\n   'Left arm Fast medium'],\n  ['Najmul Hossain Shanto',\n   'Top order Batter',\n   '24',\n   'Left hand Bat',\n   'Right arm Offbreak'],\n  ['Nasum Ahmed', 'Bowler', '27', 'Left hand Bat', 'Slow Left arm Orthodox'],\n  ['Nurul Hasan†', 'Wicketkeeper Batter', '28', '', ''],\n  ['Shoriful Islam', 'Bowler', '21', 'Left hand Bat', 'Left arm Medium fast'],\n  ['Soumya Sarkar',\n   'Middle order Batter',\n   '29',\n   'Left hand Bat',\n   'Right arm Medium fast'],\n  ['Taskin Ahmed', 'Bowler', '27', 'Left hand Bat', 'Right arm Fast'],\n  ['Yasir Ali',\n   'Middle order Batter',\n   '26',\n   'Right hand Bat',\n   'Right arm Offbreak']],\n 'England': [['Jos Buttler(c)', 'Wicketkeeper Batter', '31', '', ''],\n  ['Moeen Ali',\n   'Batting Allrounder',\n   '35',\n   'Left hand Bat',\n   'Right arm Offbreak'],\n  ['Harry Brook', 'Batter', '23', 'Right hand Bat', 'Right arm Medium'],\n  ['Sam Curran', 'Allrounder', '24', 'Left hand Bat', 'Left arm Medium fast'],\n  ['Alex Hales', 'Opening Batter', '33', 'Right hand Bat', 'Right arm Medium'],\n  ['Chris Jordan', 'Bowler', '33', 'Right hand Bat', 'Right arm Fast medium'],\n  ['Liam Livingstone',\n   'Batting Allrounder',\n   '29',\n   'Right hand Bat',\n   'Legbreak'],\n  ['Dawid Malan', 'Top order Batter', '34', 'Left hand Bat', 'Legbreak'],\n  ['Tymal Mills', 'Bowler', '30', 'Right hand Bat', 'Left arm Fast'],\n  ['Adil Rashid', 'Bowler', '34', 'Right hand Bat', 'Legbreak'],\n  ['Phil Salt†',\n   'Wicketkeeper Batter',\n   '26',\n   'Right hand Bat',\n   'Right arm Offbreak'],\n  ['Ben Stokes', 'Allrounder', '31', 'Left hand Bat', 'Right arm Fast medium'],\n  ['David Willey',\n   'Bowling Allrounder',\n   '32',\n   'Left hand Bat',\n   'Left arm Fast medium'],\n  ['Chris Woakes',\n   'Allrounder',\n   '33',\n   'Right hand Bat',\n   'Right arm Fast medium'],\n  ['Mark Wood', 'Bowler', '32', 'Right hand Bat', 'Right arm Fast'],\n  ['Jonny Bairstow†Withdrawn player',\n   'Wicketkeeper Batter',\n   '32',\n   'Right hand Bat',\n   'Right arm Medium'],\n  ['Reece TopleyWithdrawn player',\n   'Bowler',\n   '28',\n   'Right hand Bat',\n   'Left arm Fast medium']],\n 'India': [['Rohit Sharma(c)',\n   'Top order Batter',\n   '35',\n   'Right hand Bat',\n   'Right arm Offbreak'],\n  ['KL Rahul(vc)', 'Opening Batter', '30', '', ''],\n  ['Arshdeep Singh', 'Bowler', '23', 'Left hand Bat', 'Left arm Medium fast'],\n  ['Ravichandran Ashwin',\n   'Bowling Allrounder',\n   '35',\n   'Right hand Bat',\n   'Right arm Offbreak'],\n  ['Yuzvendra Chahal', 'Bowler', '32', 'Right hand Bat', 'Legbreak Googly'],\n  ['Deepak Hooda', 'Allrounder', '27', 'Right hand Bat', 'Right arm Offbreak'],\n  ['Dinesh Karthik†',\n   'Wicketkeeper Batter',\n   '37',\n   'Right hand Bat',\n   'Right arm Offbreak'],\n  ['Virat Kohli',\n   'Top order Batter',\n   '33',\n   'Right hand Bat',\n   'Right arm Medium'],\n  ['Bhuvneshwar Kumar', 'Bowler', '32', 'Right hand Bat', 'Right arm Medium'],\n  ['Mohammed Shami', 'Bowler', '32', 'Right hand Bat', 'Right arm Fast'],\n  ['Hardik Pandya',\n   'Allrounder',\n   '28',\n   'Right hand Bat',\n   'Right arm Medium fast'],\n  ['Rishabh Pant†', 'Wicketkeeper Batter', '24', '', ''],\n  ['Axar Patel',\n   'Bowling Allrounder',\n   '28',\n   'Left hand Bat',\n   'Slow Left arm Orthodox'],\n  ['Harshal Patel', 'Bowler', '31', 'Right hand Bat', 'Right arm Medium'],\n  ['Suryakumar Yadav', 'Batter', '31', 'Right hand Bat', 'Right arm Medium'],\n  ['Jasprit BumrahWithdrawn player',\n   'Bowler',\n   '28',\n   'Right hand Bat',\n   'Right arm Fast']],\n 'Ireland': [['Andy Balbirnie(c)',\n   'Batter',\n   '31',\n   'Right hand Bat',\n   'Right arm Offbreak'],\n  ['Paul Stirling(vc)',\n   'Batting Allrounder',\n   '32',\n   'Right hand Bat',\n   'Right arm Offbreak'],\n  ['Mark Adair',\n   'Bowling Allrounder',\n   '26',\n   'Right hand Bat',\n   'Right arm Fast medium'],\n  ['Curtis Campher',\n   'Allrounder',\n   '23',\n   'Right hand Bat',\n   'Right arm Medium fast'],\n  ['Gareth Delany',\n   'Batting Allrounder',\n   '25',\n   'Right hand Bat',\n   'Legbreak Googly'],\n  ['George Dockrell',\n   'Allrounder',\n   '30',\n   'Right hand Bat',\n   'Slow Left arm Orthodox'],\n  ['Stephen Doheny', 'Opening Batter', '24', '', ''],\n  ['Fionn Hand',\n   'Bowling Allrounder',\n   '24',\n   'Right hand Bat',\n   'Right arm Medium'],\n  ['Graham Hume', 'Bowler', '31', 'Left hand Bat', 'Right arm Fast medium'],\n  ['Josh Little', 'Bowler', '22', 'Right hand Bat', 'Left arm Fast medium'],\n  ['Barry McCarthy',\n   'Bowler',\n   '30',\n   'Right hand Bat',\n   'Right arm Fast medium'],\n  ['Conor Olphert', 'Bowler', '26', 'Right hand Bat', 'Right arm Medium'],\n  ['Simi Singh',\n   'Bowling Allrounder',\n   '35',\n   'Right hand Bat',\n   'Right arm Offbreak'],\n  ['Harry Tector',\n   'Middle order Batter',\n   '22',\n   'Right hand Bat',\n   'Right arm Offbreak'],\n  ['Lorcan Tucker†', 'Wicketkeeper Batter', '26', '', ''],\n  ['Craig YoungWithdrawn player',\n   'Bowler',\n   '32',\n   'Right hand Bat',\n   'Right arm Fast medium']],\n 'Namibia': [['Gerhard Erasmus(c)',\n   'Allrounder',\n   '27',\n   'Right hand Bat',\n   'Right arm Offbreak'],\n  ['Stephan Baard', 'Batter', '30', 'Right hand Bat', 'Right arm Medium fast'],\n  ['Karl Birkenstock',\n   'Middle order Batter',\n   '26',\n   'Left hand Bat',\n   'Right arm Fast medium'],\n  ['Jan Frylinck',\n   'Allrounder',\n   '28',\n   'Left hand Bat',\n   'Left arm Fast medium'],\n  ['Zane Green†', 'Wicketkeeper Batter', '25', '', ''],\n  ['Divan la Cock', 'Opening Batter', '19', 'Right hand Bat', 'Legbreak'],\n  ['Jan Nicol Loftie-Eaton',\n   'Batter',\n   '21',\n   'Left hand Bat',\n   'Right arm Medium'],\n  ['Lo-handre Louwrens†', 'Wicketkeeper Batter', '23', '', ''],\n  ['Tangeni Lungameni', 'Bowler', '30', 'Left hand Bat', 'Left arm Medium'],\n  ['Bernard Scholtz',\n   'Bowler',\n   '31',\n   'Right hand Bat',\n   'Slow Left arm Orthodox'],\n  ['Ben Shikongo', 'Bowler', '22', 'Right hand Bat', 'Right arm Medium fast'],\n  ['JJ Smit',\n   'Bowling Allrounder',\n   '26',\n   'Right hand Bat',\n   'Left arm Medium fast'],\n  ['Ruben Trumpelmann', 'Bowler', '24', 'Right hand Bat', 'Left arm Fast'],\n  ['Michael van Lingen',\n   'Bowling Allrounder',\n   '24',\n   'Left hand Bat',\n   'Left arm Medium'],\n  ['David Wiese',\n   'Allrounder',\n   '37',\n   'Right hand Bat',\n   'Right arm Medium fast'],\n  ['Pikky Ya France',\n   'Middle order Batter',\n   '32',\n   'Right hand Bat',\n   'Right arm Offbreak']],\n 'Netherlands': [['Scott Edwards† (c)', 'Wicketkeeper Batter', '26', '', ''],\n  ['Colin Ackermann',\n   'Batting Allrounder',\n   '31',\n   'Right hand Bat',\n   'Right arm Offbreak'],\n  ['Tom Cooper',\n   'Middle order Batter',\n   '35',\n   'Right hand Bat',\n   'Right arm Offbreak'],\n  ['Bas de Leede',\n   'Batting Allrounder',\n   '22',\n   'Right hand Bat',\n   'Right arm Fast medium'],\n  ['Brandon Glover', 'Bowler', '25', 'Right hand Bat', 'Right arm Fast'],\n  ['Fred Klaassen', 'Bowler', '29', 'Right hand Bat', 'Left arm Fast medium'],\n  ['Stephan Myburgh',\n   'Opening Batter',\n   '38',\n   'Left hand Bat',\n   'Right arm Offbreak'],\n  ['Teja Nidamanuru',\n   'Allrounder',\n   '28',\n   'Right hand Bat',\n   'Right arm Offbreak'],\n  [\"Max O'Dowd\",\n   'Opening Batter',\n   '28',\n   'Right hand Bat',\n   'Right arm Offbreak'],\n  ['Tim Pringle',\n   'Allrounder',\n   '20',\n   'Right hand Bat',\n   'Slow Left arm Orthodox'],\n  ['Shariz Ahmad', 'Bowler', '19', 'Left hand Bat', 'Legbreak Googly'],\n  ['Logan van Beek',\n   'Bowler',\n   '31',\n   'Right hand Bat',\n   'Right arm Medium fast'],\n  ['Timm van der Gugten',\n   'Bowler',\n   '31',\n   'Right hand Bat',\n   'Right arm Fast medium'],\n  ['Roelof van der Merwe',\n   'Allrounder',\n   '37',\n   'Right hand Bat',\n   'Slow Left arm Orthodox'],\n  ['Paul van Meekeren',\n   'Bowler',\n   '29',\n   'Right hand Bat',\n   'Right arm Fast medium'],\n  ['Vikramjit Singh',\n   'Opening Batter',\n   '19',\n   'Left hand Bat',\n   'Right arm Medium fast']],\n 'New Zealand': [['Kane Williamson(c)',\n   'Top order Batter',\n   '32',\n   'Right hand Bat',\n   'Right arm Offbreak'],\n  ['Finn Allen', 'Top order Batter', '23', '', ''],\n  ['Trent Boult', 'Bowler', '33', 'Right hand Bat', 'Left arm Fast medium'],\n  ['Michael Bracewell',\n   'Batting Allrounder',\n   '31',\n   'Left hand Bat',\n   'Right arm Offbreak'],\n  ['Mark Chapman',\n   'Allrounder',\n   '28',\n   'Left hand Bat',\n   'Slow Left arm Orthodox'],\n  ['Devon Conway†',\n   'Wicketkeeper Batter',\n   '31',\n   'Left hand Bat',\n   'Right arm Medium'],\n  ['Lockie Ferguson', 'Bowler', '31', 'Right hand Bat', 'Right arm Fast'],\n  ['Martin Guptill',\n   'Opening Batter',\n   '35',\n   'Right hand Bat',\n   'Right arm Offbreak'],\n  ['Adam Milne', 'Bowler', '30', 'Right hand Bat', 'Right arm Fast'],\n  ['Daryl Mitchell', 'Allrounder', '31', 'Right hand Bat', 'Right arm Medium'],\n  ['James Neesham',\n   'Batting Allrounder',\n   '32',\n   'Left hand Bat',\n   'Right arm Medium fast'],\n  ['Glenn Phillips†',\n   'Wicketkeeper Batter',\n   '25',\n   'Right hand Bat',\n   'Right arm Offbreak'],\n  ['Mitchell Santner',\n   'Bowling Allrounder',\n   '30',\n   'Left hand Bat',\n   'Slow Left arm Orthodox'],\n  ['Ish Sodhi', 'Bowler', '29', 'Right hand Bat', 'Legbreak'],\n  ['Tim Southee', 'Bowler', '33', 'Right hand Bat', 'Right arm Medium fast']],\n 'Pakistan': [['Babar Azam(c)',\n   'Batter',\n   '27',\n   'Right hand Bat',\n   'Right arm Offbreak'],\n  ['Asif Ali',\n   'Middle order Batter',\n   '30',\n   'Right hand Bat',\n   'Right arm Offbreak'],\n  ['Haider Ali', 'Middle order Batter', '21', '', ''],\n  ['Haris Rauf', 'Bowler', '28', 'Right hand Bat', 'Right arm Fast'],\n  ['Iftikhar Ahmed',\n   'Middle order Batter',\n   '32',\n   'Right hand Bat',\n   'Right arm Offbreak'],\n  ['Khushdil Shah',\n   'Middle order Batter',\n   '27',\n   'Left hand Bat',\n   'Slow Left arm Orthodox'],\n  ['Mohammad Haris',\n   'Middle order Batter',\n   '21',\n   'Right hand Bat',\n   'Right arm Offbreak'],\n  ['Mohammad Hasnain', 'Bowler', '22', 'Right hand Bat', 'Right arm Fast'],\n  ['Mohammad Nawaz',\n   'Allrounder',\n   '28',\n   'Left hand Bat',\n   'Slow Left arm Orthodox'],\n  ['Mohammad Rizwan†', 'Wicketkeeper Batter', '30', '', ''],\n  ['Mohammad Wasim',\n   'Allrounder',\n   '21',\n   'Right hand Bat',\n   'Right arm Fast medium'],\n  ['Naseem Shah', 'Bowler', '19', 'Right hand Bat', 'Right arm Fast'],\n  ['Shadab Khan', 'Allrounder', '23', 'Right hand Bat', 'Legbreak'],\n  ['Shaheen Shah Afridi', 'Bowler', '22', 'Left hand Bat', 'Left arm Fast'],\n  ['Shan Masood',\n   'Opening Batter',\n   '32',\n   'Left hand Bat',\n   'Right arm Medium fast'],\n  ['Fakhar ZamanWithdrawn player',\n   'Opening Batter',\n   '32',\n   'Left hand Bat',\n   'Slow Left arm Orthodox']],\n 'Scotland': [['Richie Berrington(c)',\n   'Top order Batter',\n   '35',\n   'Right hand Bat',\n   'Right arm Medium fast'],\n  ['Matthew Cross(vc)', 'Wicketkeeper Batter', '29', '', ''],\n  ['Josh Davey', 'Bowler', '32', 'Right hand Bat', 'Right arm Medium fast'],\n  ['Chris Greaves', 'Bowler', '31', 'Right hand Bat', 'Legbreak'],\n  ['Hamza Tahir', 'Bowler', '26', 'Right hand Bat', 'Slow Left arm Orthodox'],\n  ['Michael Jones',\n   'Top order Batter',\n   '24',\n   'Right hand Bat',\n   'Right arm Offbreak'],\n  ['Michael Leask',\n   'Allrounder',\n   '31',\n   'Right hand Bat',\n   'Right arm Offbreak'],\n  ['Calum MacLeod',\n   'Top order Batter',\n   '33',\n   'Right hand Bat',\n   'Right arm Medium fast'],\n  ['Brandon McMullen',\n   'Batting Allrounder',\n   '22',\n   'Right hand Bat',\n   'Right arm Medium'],\n  ['George Munsey',\n   'Opening Batter',\n   '29',\n   'Left hand Bat',\n   'Right arm Medium fast'],\n  ['Safyaan Sharif',\n   'Bowler',\n   '31',\n   'Right hand Bat',\n   'Right arm Medium fast'],\n  ['Chris Sole', 'Bowler', '28', 'Right hand Bat', 'Right arm Medium'],\n  ['Craig Wallace†', 'Wicketkeeper Batter', '32', '', ''],\n  ['Mark Watt', 'Bowler', '26', 'Left hand Bat', 'Slow Left arm Orthodox'],\n  ['Brad Wheal', 'Bowler', '26', 'Right hand Bat', 'Right arm Fast medium']],\n 'South Africa': [['Temba Bavuma(c)',\n   'Middle order Batter',\n   '32',\n   'Right hand Bat',\n   'Right arm Medium'],\n  ['Quinton de Kock†', 'Wicketkeeper Batter', '29', '', ''],\n  ['Reeza Hendricks',\n   'Opening Batter',\n   '33',\n   'Right hand Bat',\n   'Right arm Offbreak'],\n  ['Heinrich Klaasen†',\n   'Wicketkeeper Batter',\n   '31',\n   'Right hand Bat',\n   'Right arm Offbreak'],\n  ['Keshav Maharaj',\n   'Bowler',\n   '32',\n   'Right hand Bat',\n   'Slow Left arm Orthodox'],\n  ['Aiden Markram',\n   'Opening Batter',\n   '27',\n   'Right hand Bat',\n   'Right arm Offbreak'],\n  ['David Miller',\n   'Middle order Batter',\n   '33',\n   'Left hand Bat',\n   'Right arm Offbreak'],\n  ['Lungi Ngidi', 'Bowler', '26', 'Right hand Bat', 'Right arm Fast medium'],\n  ['Anrich Nortje', 'Bowler', '28', 'Right hand Bat', 'Right arm Fast'],\n  ['Wayne Parnell', 'Bowler', '33', 'Left hand Bat', 'Left arm Medium fast'],\n  ['Kagiso Rabada', 'Bowler', '27', 'Left hand Bat', 'Right arm Fast'],\n  ['Rilee Rossouw',\n   'Top order Batter',\n   '32',\n   'Left hand Bat',\n   'Right arm Offbreak'],\n  ['Tabraiz Shamsi', 'Bowler', '32', 'Right hand Bat', 'Left arm Wrist spin'],\n  ['Tristan Stubbs†',\n   'Wicketkeeper Batter',\n   '22',\n   'Right hand Bat',\n   'Right arm Offbreak'],\n  ['Dwaine PretoriusWithdrawn player',\n   'Bowling Allrounder',\n   '33',\n   'Right hand Bat',\n   'Right arm Medium fast']],\n 'Sri Lanka': [['Dasun Shanaka(c)',\n   'Allrounder',\n   '31',\n   'Right hand Bat',\n   'Right arm Medium'],\n  ['Charith Asalanka',\n   'Batting Allrounder',\n   '25',\n   'Left hand Bat',\n   'Right arm Offbreak'],\n  ['Ashen Bandara', 'Middle order Batter', '23', 'Right hand Bat', 'Legbreak'],\n  ['Wanindu Hasaranga de Silva',\n   'Allrounder',\n   '25',\n   'Right hand Bat',\n   'Legbreak'],\n  ['Dhananjaya de Silva',\n   'Allrounder',\n   '31',\n   'Right hand Bat',\n   'Right arm Offbreak'],\n  ['Asitha Fernando',\n   'Bowler',\n   '25',\n   'Right hand Bat',\n   'Right arm Medium fast'],\n  ['Chamika Karunaratne',\n   'Bowling Allrounder',\n   '26',\n   'Right hand Bat',\n   'Right arm Medium fast'],\n  ['Lahiru Kumara', 'Bowler', '25', 'Left hand Bat', 'Right arm Fast'],\n  ['Kusal Mendis†', 'Wicketkeeper Batter', '27', 'Right hand Bat', 'Legbreak'],\n  ['Pathum Nissanka', 'Top order Batter', '24', '', ''],\n  ['Bhanuka Rajapaksa',\n   'Top order Batter',\n   '30',\n   'Left hand Bat',\n   'Right arm Medium'],\n  ['Kasun Rajitha', 'Bowler', '29', 'Right hand Bat', 'Right arm Medium fast'],\n  ['Maheesh Theekshana',\n   'Bowler',\n   '22',\n   'Right hand Bat',\n   'Right arm Offbreak'],\n  ['Jeffrey Vandersay', 'Bowler', '32', 'Right hand Bat', 'Legbreak'],\n  ['Dushmantha ChameeraWithdrawn player',\n   'Bowler',\n   '30',\n   'Right hand Bat',\n   'Right arm Fast'],\n  ['Binura FernandoWithdrawn player',\n   'Bowler',\n   '27',\n   'Right hand Bat',\n   'Left arm Medium fast'],\n  ['Danushka GunathilakaWithdrawn player',\n   'Allrounder',\n   '31',\n   'Left hand Bat',\n   'Right arm Offbreak'],\n  ['Dilshan MadushankaWithdrawn player',\n   'Bowler',\n   '21',\n   'Right hand Bat',\n   'Left arm Medium fast']],\n 'United Arab Emirates': [['Chundangapoyil Rizwan(c)',\n   'Middle order Batter',\n   '34',\n   'Right hand Bat',\n   'Legbreak Googly'],\n  ['Vriitya Aravind(vc)', 'Wicketkeeper', '20', '', ''],\n  ['Aayan Afzal Khan',\n   'Bowling Allrounder',\n   '16',\n   'Right hand Bat',\n   'Slow Left arm Orthodox'],\n  ['Ahmed Raza', 'Bowler', '33', 'Right hand Bat', 'Slow Left arm Orthodox'],\n  ['Aryan Lakra', 'Bowler', '20', 'Left hand Bat', 'Slow Left arm Orthodox'],\n  ['Basil Hameed',\n   'Middle order Batter',\n   '30',\n   'Right hand Bat',\n   'Right arm Offbreak'],\n  ['Chirag Suri',\n   'Opening Batter',\n   '27',\n   'Right hand Bat',\n   'Right arm Offbreak'],\n  ['Fahad Nawaz',\n   'Allrounder',\n   '22',\n   'Right hand Bat',\n   'Slow Left arm Orthodox'],\n  ['Junaid Siddique',\n   'Bowler',\n   '29',\n   'Right hand Bat',\n   'Right arm Medium fast'],\n  ['Kashif Daud',\n   'Bowling Allrounder',\n   '36',\n   'Right hand Bat',\n   'Right arm Medium fast'],\n  ['Karthik Meiyappan', 'Bowler', '21', 'Right hand Bat', 'Legbreak'],\n  ['Muhammad Waseem',\n   'Opening Batter',\n   '28',\n   'Right hand Bat',\n   'Right arm Medium'],\n  ['Sabir Ali', 'Bowler', '31', 'Right hand Bat', 'Left arm Fast medium'],\n  ['Alishan Sharafu',\n   'Opening Batter',\n   '19',\n   'Right hand Bat',\n   'Right arm Medium'],\n  ['Zahoor Khan', 'Bowler', '33', 'Right hand Bat', 'Right arm Medium fast'],\n  ['Zawar FaridWithdrawn player',\n   'Bowler',\n   '30',\n   'Right hand Bat',\n   'Right arm Medium']],\n 'West Indies': [['Nicholas Pooran† (c)',\n   'Wicketkeeper Batter',\n   '26',\n   'Left hand Bat',\n   'Right arm Offbreak'],\n  ['Rovman Powell(vc)',\n   'Middle order Batter',\n   '29',\n   'Right hand Bat',\n   'Right arm Medium fast'],\n  ['Shamarh Brooks', 'Top order Batter', '33', 'Right hand Bat', 'Legbreak'],\n  ['Yannic Cariah', 'Bowler', '30', 'Left hand Bat', 'Legbreak'],\n  ['Johnson Charles†', 'Wicketkeeper Batter', '33', '', ''],\n  ['Sheldon Cottrell',\n   'Bowler',\n   '33',\n   'Right hand Bat',\n   'Left arm Fast medium'],\n  ['Jason Holder',\n   'Bowling Allrounder',\n   '30',\n   'Right hand Bat',\n   'Right arm Medium fast'],\n  ['Akeal Hosein', 'Bowler', '29', 'Left hand Bat', 'Slow Left arm Orthodox'],\n  ['Alzarri Joseph', 'Bowler', '25', 'Right hand Bat', 'Right arm Fast'],\n  ['Brandon King', 'Top order Batter', '27', '', ''],\n  ['Evin Lewis', 'Opening Batter', '30', '', ''],\n  ['Kyle Mayers',\n   'Batting Allrounder',\n   '30',\n   'Left hand Bat',\n   'Right arm Medium'],\n  ['Obed McCoy', 'Bowler', '25', 'Left hand Bat', 'Left arm Fast medium'],\n  ['Raymon Reifer',\n   'Allrounder',\n   '31',\n   'Left hand Bat',\n   'Left arm Medium fast'],\n  ['Odean Smith',\n   'Bowling Allrounder',\n   '25',\n   'Right hand Bat',\n   'Right arm Fast medium'],\n  ['Shimron HetmyerWithdrawn player', 'Top order Batter', '25', '', '']],\n 'Zimbabwe': [['Craig Ervine(c)',\n   'Middle order Batter',\n   '37',\n   'Left hand Bat',\n   'Right arm Offbreak'],\n  ['Ryan Burl', 'Middle order Batter', '28', 'Left hand Bat', 'Legbreak'],\n  ['Regis Chakabva†',\n   'Wicketkeeper Batter',\n   '34',\n   'Right hand Bat',\n   'Right arm Offbreak'],\n  ['Tendai Chatara',\n   'Bowler',\n   '31',\n   'Right hand Bat',\n   'Right arm Fast medium'],\n  ['Brad Evans', 'Allrounder', '25', 'Right hand Bat', 'Right arm Fast'],\n  ['Luke Jongwe', 'Bowler', '27', 'Right hand Bat', 'Right arm Fast medium'],\n  ['Clive Madande†', 'Wicketkeeper Batter', '22', '', ''],\n  ['Wessly Madhevere',\n   'Allrounder',\n   '22',\n   'Right hand Bat',\n   'Right arm Offbreak'],\n  ['Wellington Masakadza',\n   'Bowler',\n   '28',\n   'Left hand Bat',\n   'Slow Left arm Orthodox'],\n  ['Tony Munyonga',\n   'Allrounder',\n   '23',\n   'Right hand Bat',\n   'Right arm Offbreak'],\n  ['Blessing Muzarabani',\n   'Bowler',\n   '25',\n   'Right hand Bat',\n   'Right arm Fast medium'],\n  ['Richard Ngarava', 'Bowler', '24', 'Left hand Bat', 'Left arm Fast medium'],\n  ['Milton Shumba',\n   'Top order Batter',\n   '21',\n   'Left hand Bat',\n   'Slow Left arm Orthodox'],\n  ['Sikandar Raza',\n   'Batting Allrounder',\n   '36',\n   'Right hand Bat',\n   'Right arm Offbreak'],\n  ['Sean Williams',\n   'Middle order Batter',\n   '35',\n   'Left hand Bat',\n   'Slow Left arm Orthodox']]}"
     },
     "execution_count": 61,
     "metadata": {},
     "output_type": "execute_result"
    }
   ],
   "source": [
    "player_info_dict = {}\n",
    "base_url=\"https://www.espncricinfo.com/series/icc-men-s-t20-world-cup-2022-23-1298134/squads\"\n",
    "main_page = r.get(base_url).text\n",
    "base_soup = BeautifulSoup(main_page,'html.parser')\n",
    "team_links = base_soup.find_all('a',class_=\"ds-inline-flex ds-items-start ds-leading-none\")\n",
    "team_count=1\n",
    "for link in team_links:\n",
    "    if team_count>16:\n",
    "        break\n",
    "    url = 'https://www.espncricinfo.com' + link['href']\n",
    "    team_name_list = link.text.split()[:-1]\n",
    "    team_name = ' '.join(team_name_list)\n",
    "    player_list= get_player_list(url)\n",
    "    player_info_dict[team_name]=player_list\n",
    "    team_count+=1\n",
    "player_info_dict"
   ],
   "metadata": {
    "collapsed": false,
    "pycharm": {
     "name": "#%%\n"
    }
   }
  },
  {
   "cell_type": "markdown",
   "source": [
    "Building the player info dataframe"
   ],
   "metadata": {
    "collapsed": false,
    "pycharm": {
     "name": "#%% md\n"
    }
   }
  },
  {
   "cell_type": "code",
   "execution_count": 62,
   "outputs": [
    {
     "data": {
      "text/plain": "            Team          Player Name Age          Player Role  \\\n0    Afghanistan     Mohammad Nabi(c)  37           Allrounder   \n1    Afghanistan   Azmatullah Omarzai  22           Allrounder   \n2    Afghanistan      Darwish Rasooli  22     Top order Batter   \n3    Afghanistan         Fareed Ahmad  28               Bowler   \n4    Afghanistan     Fazalhaq Farooqi  21               Bowler   \n..           ...                  ...  ..                  ...   \n249     Zimbabwe  Blessing Muzarabani  25               Bowler   \n250     Zimbabwe      Richard Ngarava  24               Bowler   \n251     Zimbabwe        Milton Shumba  21     Top order Batter   \n252     Zimbabwe        Sikandar Raza  36   Batting Allrounder   \n253     Zimbabwe        Sean Williams  35  Middle order Batter   \n\n      Batting Style           Bowling Style  \n0    Right hand Bat      Right arm Offbreak  \n1    Right hand Bat   Right arm Medium fast  \n2    Right hand Bat      Right arm Offbreak  \n3     Left hand Bat    Left arm Fast medium  \n4    Right hand Bat    Left arm Fast medium  \n..              ...                     ...  \n249  Right hand Bat   Right arm Fast medium  \n250   Left hand Bat    Left arm Fast medium  \n251   Left hand Bat  Slow Left arm Orthodox  \n252  Right hand Bat      Right arm Offbreak  \n253   Left hand Bat  Slow Left arm Orthodox  \n\n[254 rows x 6 columns]",
      "text/html": "<div>\n<style scoped>\n    .dataframe tbody tr th:only-of-type {\n        vertical-align: middle;\n    }\n\n    .dataframe tbody tr th {\n        vertical-align: top;\n    }\n\n    .dataframe thead th {\n        text-align: right;\n    }\n</style>\n<table border=\"1\" class=\"dataframe\">\n  <thead>\n    <tr style=\"text-align: right;\">\n      <th></th>\n      <th>Team</th>\n      <th>Player Name</th>\n      <th>Age</th>\n      <th>Player Role</th>\n      <th>Batting Style</th>\n      <th>Bowling Style</th>\n    </tr>\n  </thead>\n  <tbody>\n    <tr>\n      <th>0</th>\n      <td>Afghanistan</td>\n      <td>Mohammad Nabi(c)</td>\n      <td>37</td>\n      <td>Allrounder</td>\n      <td>Right hand Bat</td>\n      <td>Right arm Offbreak</td>\n    </tr>\n    <tr>\n      <th>1</th>\n      <td>Afghanistan</td>\n      <td>Azmatullah Omarzai</td>\n      <td>22</td>\n      <td>Allrounder</td>\n      <td>Right hand Bat</td>\n      <td>Right arm Medium fast</td>\n    </tr>\n    <tr>\n      <th>2</th>\n      <td>Afghanistan</td>\n      <td>Darwish Rasooli</td>\n      <td>22</td>\n      <td>Top order Batter</td>\n      <td>Right hand Bat</td>\n      <td>Right arm Offbreak</td>\n    </tr>\n    <tr>\n      <th>3</th>\n      <td>Afghanistan</td>\n      <td>Fareed Ahmad</td>\n      <td>28</td>\n      <td>Bowler</td>\n      <td>Left hand Bat</td>\n      <td>Left arm Fast medium</td>\n    </tr>\n    <tr>\n      <th>4</th>\n      <td>Afghanistan</td>\n      <td>Fazalhaq Farooqi</td>\n      <td>21</td>\n      <td>Bowler</td>\n      <td>Right hand Bat</td>\n      <td>Left arm Fast medium</td>\n    </tr>\n    <tr>\n      <th>...</th>\n      <td>...</td>\n      <td>...</td>\n      <td>...</td>\n      <td>...</td>\n      <td>...</td>\n      <td>...</td>\n    </tr>\n    <tr>\n      <th>249</th>\n      <td>Zimbabwe</td>\n      <td>Blessing Muzarabani</td>\n      <td>25</td>\n      <td>Bowler</td>\n      <td>Right hand Bat</td>\n      <td>Right arm Fast medium</td>\n    </tr>\n    <tr>\n      <th>250</th>\n      <td>Zimbabwe</td>\n      <td>Richard Ngarava</td>\n      <td>24</td>\n      <td>Bowler</td>\n      <td>Left hand Bat</td>\n      <td>Left arm Fast medium</td>\n    </tr>\n    <tr>\n      <th>251</th>\n      <td>Zimbabwe</td>\n      <td>Milton Shumba</td>\n      <td>21</td>\n      <td>Top order Batter</td>\n      <td>Left hand Bat</td>\n      <td>Slow Left arm Orthodox</td>\n    </tr>\n    <tr>\n      <th>252</th>\n      <td>Zimbabwe</td>\n      <td>Sikandar Raza</td>\n      <td>36</td>\n      <td>Batting Allrounder</td>\n      <td>Right hand Bat</td>\n      <td>Right arm Offbreak</td>\n    </tr>\n    <tr>\n      <th>253</th>\n      <td>Zimbabwe</td>\n      <td>Sean Williams</td>\n      <td>35</td>\n      <td>Middle order Batter</td>\n      <td>Left hand Bat</td>\n      <td>Slow Left arm Orthodox</td>\n    </tr>\n  </tbody>\n</table>\n<p>254 rows × 6 columns</p>\n</div>"
     },
     "execution_count": 62,
     "metadata": {},
     "output_type": "execute_result"
    }
   ],
   "source": [
    "player_info_df = pd.DataFrame(columns=['Team','Player Name','Age','Player Role','Batting Style','Bowling Style'])\n",
    "index=0\n",
    "for team_name, team_players in player_info_dict.items():\n",
    "    for player_info in team_players:\n",
    "        df_row = [team_name,player_info[0],player_info[2],player_info[1],player_info[3],player_info[4]]\n",
    "        player_info_df.loc[index]=df_row\n",
    "        index+=1\n",
    "player_info_df"
   ],
   "metadata": {
    "collapsed": false,
    "pycharm": {
     "name": "#%%\n"
    }
   }
  },
  {
   "cell_type": "markdown",
   "source": [
    "## Converting all the dataframes to csv files"
   ],
   "metadata": {
    "collapsed": false,
    "pycharm": {
     "name": "#%% md\n"
    }
   }
  },
  {
   "cell_type": "code",
   "execution_count": 63,
   "outputs": [],
   "source": [
    "match_results_df.to_csv('match_results.csv',index=False)"
   ],
   "metadata": {
    "collapsed": false,
    "pycharm": {
     "name": "#%%\n"
    }
   }
  },
  {
   "cell_type": "code",
   "execution_count": 64,
   "outputs": [],
   "source": [
    "batting_df.to_csv('batting_info.csv',index=False)"
   ],
   "metadata": {
    "collapsed": false,
    "pycharm": {
     "name": "#%%\n"
    }
   }
  },
  {
   "cell_type": "code",
   "execution_count": 65,
   "outputs": [],
   "source": [
    "bowling_df.to_csv('bowling_info.csv',index=False)"
   ],
   "metadata": {
    "collapsed": false,
    "pycharm": {
     "name": "#%%\n"
    }
   }
  },
  {
   "cell_type": "code",
   "execution_count": 66,
   "outputs": [],
   "source": [
    "player_info_df.to_csv('player_info.csv',index=False)"
   ],
   "metadata": {
    "collapsed": false,
    "pycharm": {
     "name": "#%%\n"
    }
   }
  },
  {
   "cell_type": "code",
   "execution_count": null,
   "outputs": [],
   "source": [],
   "metadata": {
    "collapsed": false,
    "pycharm": {
     "name": "#%%\n"
    }
   }
  }
 ],
 "metadata": {
  "kernelspec": {
   "display_name": "Python 3",
   "language": "python",
   "name": "python3"
  },
  "language_info": {
   "codemirror_mode": {
    "name": "ipython",
    "version": 2
   },
   "file_extension": ".py",
   "mimetype": "text/x-python",
   "name": "python",
   "nbconvert_exporter": "python",
   "pygments_lexer": "ipython2",
   "version": "2.7.6"
  }
 },
 "nbformat": 4,
 "nbformat_minor": 0
}